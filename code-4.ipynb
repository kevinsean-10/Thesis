{
 "cells": [
  {
   "cell_type": "code",
   "execution_count": 1,
   "metadata": {},
   "outputs": [],
   "source": [
    "import numpy as np\n",
    "import pandas as pd\n",
    "import sobol_seq\n",
    "import matplotlib.pyplot as plt"
   ]
  },
  {
   "cell_type": "markdown",
   "metadata": {},
   "source": [
    "Problem 1"
   ]
  },
  {
   "cell_type": "code",
   "execution_count": 2,
   "metadata": {},
   "outputs": [],
   "source": [
    "# m_cluster = 250\n",
    "# gamma = 0.2\n",
    "# epsilon = 10**(-3)\n",
    "# delta = 0.01\n",
    "# k_cluster = 10\n",
    "# m = 250\n",
    "# r = 0.95\n",
    "# theta = np.pi/4\n",
    "# k_max = 250\n",
    "\n",
    "# def objective_function(x):\n",
    "#     f1 = np.exp(x[0]-x[1])-np.sin(x[0]+x[1])\n",
    "#     f2 = (x[0]*x[1])**2-np.cos(x[0]+x[1])\n",
    "#     f_list = [f1,f2]\n",
    "#     denom = 0\n",
    "#     for f in f_list:\n",
    "#         denom +=np.abs(f)\n",
    "#     F = 1/(1+denom)\n",
    "#     return F\n",
    "\n",
    "# boundaries = np.array([(-10,10),(-10,10)])"
   ]
  },
  {
   "cell_type": "markdown",
   "metadata": {},
   "source": [
    "Problem 2"
   ]
  },
  {
   "cell_type": "code",
   "execution_count": 3,
   "metadata": {},
   "outputs": [],
   "source": [
    "# m_cluster = 2000\n",
    "# gamma = 0.3\n",
    "# epsilon = 10**(-3)\n",
    "# delta = 0.1\n",
    "# k_cluster = 10\n",
    "# m = 300\n",
    "# r = 0.95\n",
    "# theta = np.pi/4\n",
    "# k_max = 300\n",
    "\n",
    "# def objective_function(x):\n",
    "#     f1 = 0.5*np.sin(x[0]*x[1])-0.25*x[1]/np.pi - 0.5*x[0]\n",
    "#     f2 = (1-0.25/np.pi)*(np.exp(2*x[0])-np.exp(1))+np.exp(1)*x[1]/np.pi - 2*np.exp(1)*x[0]\n",
    "#     f_list = [f1,f2]\n",
    "#     denom = 0\n",
    "#     for f in f_list:\n",
    "#         denom +=np.abs(f)\n",
    "#     F = 1/(1+denom)\n",
    "#     return F\n",
    "\n",
    "# boundaries = np.array([(-1,3),(-17,4)])"
   ]
  },
  {
   "cell_type": "markdown",
   "metadata": {},
   "source": [
    "Problem 5"
   ]
  },
  {
   "cell_type": "code",
   "execution_count": 4,
   "metadata": {},
   "outputs": [],
   "source": [
    "m_cluster = 3000\n",
    "gamma = 0.1\n",
    "epsilon = 5*10**(-3)\n",
    "delta = 0.01\n",
    "k_cluster = 10\n",
    "m = 200\n",
    "r = 0.95\n",
    "theta = np.pi/4\n",
    "k_max = 200\n",
    "\n",
    "def objective_function(x):\n",
    "    f1 = 2*x[0]+x[1]+x[2]+x[3]+x[4]-6\n",
    "    f2 = x[0]+2*x[1]+x[2]+x[3]+x[4]-6\n",
    "    f3 = x[0]+x[1]+2*x[2]+x[3]+x[4]-6\n",
    "    f4 = x[0]+x[1]+x[2]+2*x[3]+x[4]-6\n",
    "    f5 = x[0]*x[1]*x[2]*x[3]*x[4]-1\n",
    "    f_list = [f1,f2,f3,f4,f5]\n",
    "    denom = 0\n",
    "    for f in f_list:\n",
    "        denom +=np.abs(f)\n",
    "    F = 1/(1+denom)\n",
    "    return F\n",
    "\n",
    "boundaries = np.array([(-10,10) for _ in range (5)])"
   ]
  },
  {
   "cell_type": "code",
   "execution_count": 5,
   "metadata": {},
   "outputs": [],
   "source": [
    "\"\"\"GENERATE POINTS USING SOBOL SEQUENCE\"\"\"\n",
    "def generate_points(dim,npoint,low=-10,high=10):\n",
    "    if type(low) != type(high):\n",
    "        raise TypeError('The type of \"low\" and \"high\" should be the same.')\n",
    "    if type(low) == int:\n",
    "        boundaries = [(low,high) for _ in range (dim)]\n",
    "    elif type(low) == list or type(low) == np.ndarray:\n",
    "        if len(low) != len(high):\n",
    "            raise TypeError('The length of \"low\" and \"high\" should be the same.')\n",
    "        else:\n",
    "            boundaries = [(low[i],high[i]) for i in range (len(low))]\n",
    "\n",
    "    # Generate Sobol sequence points\n",
    "    sobol_points = sobol_seq.i4_sobol_generate(dim, npoint)\n",
    "\n",
    "    # Scale the Sobol points to fit within the specified boundaries\n",
    "    scaled_points = []\n",
    "    for i in range(dim):\n",
    "        a, b = boundaries[i]\n",
    "        scaled_dim = a + sobol_points[:, i] * (b - a)\n",
    "        scaled_points.append(scaled_dim)\n",
    "\n",
    "    # Transpose the scaled points to get points per dimension\n",
    "    scaled_points = np.array(list(map(list, zip(*scaled_points))))\n",
    "    return scaled_points\n",
    "\n",
    "\"\"\"MAXIMIZE FUNCTION\"\"\"\n",
    "def maximize(set_of_points):\n",
    "    z = []\n",
    "    z_max = 0\n",
    "    F = objective_function(set_of_points.T)\n",
    "    for i in range (len(set_of_points)):\n",
    "        z.append(F[i])\n",
    "        if z[i]>z_max:\n",
    "            z_max = z[i]\n",
    "            idx_max = i\n",
    "    x_max = set_of_points[idx_max]\n",
    "    return z_max,idx_max,x_max\n"
   ]
  },
  {
   "cell_type": "code",
   "execution_count": 6,
   "metadata": {},
   "outputs": [
    {
     "data": {
      "text/plain": [
       "array([ 1.58203125, -0.25390625, -1.23046875,  0.09765625,  5.13671875])"
      ]
     },
     "execution_count": 6,
     "metadata": {},
     "output_type": "execute_result"
    }
   ],
   "source": [
    "k=0\n",
    "iter_points = {}\n",
    "iter_points[k] = generate_points(len(boundaries),m_cluster,boundaries[:,0],boundaries[:,1])\n",
    "x_prime = maximize(iter_points[0])[-1]\n",
    "x_prime"
   ]
  },
  {
   "cell_type": "code",
   "execution_count": 7,
   "metadata": {},
   "outputs": [
    {
     "data": {
      "text/plain": [
       "10.0"
      ]
     },
     "execution_count": 7,
     "metadata": {},
     "output_type": "execute_result"
    }
   ],
   "source": [
    "min_boundaries = 10**100\n",
    "for i in range (len(boundaries)):\n",
    "    abs_disc = np.abs(boundaries[i,1]-boundaries[i,0])\n",
    "    if abs_disc<=min_boundaries:\n",
    "        min_boundaries = abs_disc\n",
    "radius = min_boundaries/2\n",
    "radius"
   ]
  },
  {
   "cell_type": "code",
   "execution_count": 8,
   "metadata": {},
   "outputs": [
    {
     "name": "stdout",
     "output_type": "stream",
     "text": [
      "{0: array([ 1.58203125, -0.25390625, -1.23046875,  0.09765625,  5.13671875])} {0: 10.0}\n"
     ]
    }
   ],
   "source": [
    "k = 0\n",
    "cluster_center,cluster_radius = {},{}\n",
    "cluster_center[0],cluster_radius[0] = x_prime,radius\n",
    "print(cluster_center,cluster_radius)"
   ]
  },
  {
   "cell_type": "code",
   "execution_count": 9,
   "metadata": {},
   "outputs": [],
   "source": [
    "# potential_cluster_center = []\n",
    "# F = objective_function(iter_points[0].T)\n",
    "# for i in range (m_cluster):\n",
    "#     if F[i] > gamma:\n",
    "#         potential_cluster_center.append(iter_points[0][i])\n",
    "# len(potential_cluster_center)"
   ]
  },
  {
   "cell_type": "code",
   "execution_count": 10,
   "metadata": {},
   "outputs": [],
   "source": [
    "\"\"\"FUNCTION CLUSTER\"\"\"\n",
    "def function_cluster(y,lendict):\n",
    "    min_dist_cluster = 10**100\n",
    "    for ci,cc in cluster_center.items():\n",
    "        dist = np.linalg.norm(cc-y)\n",
    "        if dist<=min_dist_cluster:\n",
    "            xc = cc\n",
    "            cluster_id = ci\n",
    "            min_dist_cluster = dist\n",
    "    xt = (xc + y)/2\n",
    "    # print(xt,xc,y)\n",
    "    Fxt = objective_function(xt)\n",
    "    Fxc = objective_function(xc)\n",
    "    Fy = objective_function(y)\n",
    "    # print(Fxt,Fxc,Fy)\n",
    "    if Fxt < Fy and Fxt < Fxc:\n",
    "        cluster_center[lendict] = y\n",
    "        cluster_radius[lendict] = np.linalg.norm(y-xt)\n",
    "    elif Fxt > Fy and Fxt > Fxc:\n",
    "        cluster_center[lendict] = y\n",
    "        cluster_radius[lendict] = np.linalg.norm(y-xt)\n",
    "        function_cluster(xt,lendict+1)\n",
    "    elif Fy > Fxc:\n",
    "        cluster_center[cluster_id] = y\n",
    "\n",
    "    cluster_radius[cluster_id] =  np.linalg.norm(y-xt)\n",
    "    # return cluster_center,cluster_radius\n"
   ]
  },
  {
   "cell_type": "code",
   "execution_count": 11,
   "metadata": {},
   "outputs": [],
   "source": [
    "# for i in range (len(potential_cluster_center)):\n",
    "#     print(f'Titik ke-{i}')\n",
    "#     lendict = len(list(cluster_center.keys()))\n",
    "#     function_cluster(potential_cluster_center[i],lendict)\n",
    "#     print(cluster_center,cluster_radius)\n",
    "#     print('')"
   ]
  },
  {
   "cell_type": "code",
   "execution_count": 12,
   "metadata": {},
   "outputs": [
    {
     "ename": "ValueError",
     "evalue": "shapes (2,2) and (5,1) not aligned: 2 (dim 1) != 5 (dim 0)",
     "output_type": "error",
     "traceback": [
      "\u001b[1;31m---------------------------------------------------------------------------\u001b[0m",
      "\u001b[1;31mValueError\u001b[0m                                Traceback (most recent call last)",
      "\u001b[1;32md:\\OneDrive - Institut Teknologi Bandung\\[AKADEMIK]\\Semester 7\\TA\\Thesis\\code-4.ipynb Cell 15\u001b[0m line \u001b[0;36m2\n\u001b[0;32m     <a href='vscode-notebook-cell:/d%3A/OneDrive%20-%20Institut%20Teknologi%20Bandung/%5BAKADEMIK%5D/Semester%207/TA/Thesis/code-4.ipynb#X15sZmlsZQ%3D%3D?line=16'>17</a>\u001b[0m         function_cluster(potential_cluster_center[i],lendict)\n\u001b[0;32m     <a href='vscode-notebook-cell:/d%3A/OneDrive%20-%20Institut%20Teknologi%20Bandung/%5BAKADEMIK%5D/Semester%207/TA/Thesis/code-4.ipynb#X15sZmlsZQ%3D%3D?line=17'>18</a>\u001b[0m         \u001b[39m# print(cluster_center,cluster_radius)\u001b[39;00m\n\u001b[0;32m     <a href='vscode-notebook-cell:/d%3A/OneDrive%20-%20Institut%20Teknologi%20Bandung/%5BAKADEMIK%5D/Semester%207/TA/Thesis/code-4.ipynb#X15sZmlsZQ%3D%3D?line=18'>19</a>\u001b[0m         \u001b[39m# print('')\u001b[39;00m\n\u001b[1;32m---> <a href='vscode-notebook-cell:/d%3A/OneDrive%20-%20Institut%20Teknologi%20Bandung/%5BAKADEMIK%5D/Semester%207/TA/Thesis/code-4.ipynb#X15sZmlsZQ%3D%3D?line=19'>20</a>\u001b[0m     iter_points[k\u001b[39m+\u001b[39m\u001b[39m1\u001b[39m]\u001b[39m=\u001b[39mspo\u001b[39m.\u001b[39;49mupdate_point(iter_points[k],Sn,dim\u001b[39m=\u001b[39;49m\u001b[39mlen\u001b[39;49m(boundaries),objective_function\u001b[39m=\u001b[39;49mobjective_function)\n\u001b[0;32m     <a href='vscode-notebook-cell:/d%3A/OneDrive%20-%20Institut%20Teknologi%20Bandung/%5BAKADEMIK%5D/Semester%207/TA/Thesis/code-4.ipynb#X15sZmlsZQ%3D%3D?line=20'>21</a>\u001b[0m     k\u001b[39m+\u001b[39m\u001b[39m=\u001b[39m\u001b[39m1\u001b[39m\n\u001b[0;32m     <a href='vscode-notebook-cell:/d%3A/OneDrive%20-%20Institut%20Teknologi%20Bandung/%5BAKADEMIK%5D/Semester%207/TA/Thesis/code-4.ipynb#X15sZmlsZQ%3D%3D?line=21'>22</a>\u001b[0m cluster_center,cluster_radius\n",
      "File \u001b[1;32md:\\OneDrive - Institut Teknologi Bandung\\[AKADEMIK]\\Semester 7\\TA\\Thesis\\spiralopt.py:82\u001b[0m, in \u001b[0;36mupdate_point\u001b[1;34m(set_of_points, Sn, dim, objective_function)\u001b[0m\n\u001b[0;32m     79\u001b[0m new_set_of_points \u001b[39m=\u001b[39m np\u001b[39m.\u001b[39mcopy(set_of_points)\n\u001b[0;32m     80\u001b[0m \u001b[39mfor\u001b[39;00m i \u001b[39min\u001b[39;00m \u001b[39mrange\u001b[39m (\u001b[39mlen\u001b[39m(new_set_of_points)):\n\u001b[0;32m     81\u001b[0m     \u001b[39m# perkalian matriks\u001b[39;00m\n\u001b[1;32m---> 82\u001b[0m     poin \u001b[39m=\u001b[39m np\u001b[39m.\u001b[39;49mdot(Sn,set_of_points[i]\u001b[39m.\u001b[39;49mreshape(\u001b[39m-\u001b[39;49m\u001b[39m1\u001b[39;49m,\u001b[39m1\u001b[39;49m)) \u001b[39m-\u001b[39m np\u001b[39m.\u001b[39mdot((Sn\u001b[39m-\u001b[39mnp\u001b[39m.\u001b[39midentity(dim)),x_star\u001b[39m.\u001b[39mreshape(\u001b[39m-\u001b[39m\u001b[39m1\u001b[39m,\u001b[39m1\u001b[39m))\n\u001b[0;32m     83\u001b[0m     new_set_of_points[i] \u001b[39m=\u001b[39m poin\u001b[39m.\u001b[39mT\n\u001b[0;32m     84\u001b[0m \u001b[39mreturn\u001b[39;00m new_set_of_points\n",
      "\u001b[1;31mValueError\u001b[0m: shapes (2,2) and (5,1) not aligned: 2 (dim 1) != 5 (dim 0)"
     ]
    }
   ],
   "source": [
    "import spiralopt as spo\n",
    "\n",
    "Sn = r*spo.generate_Rn(dim=2,theta=theta)\n",
    "k=0\n",
    "\n",
    "while k<k_cluster:\n",
    "    potential_cluster_center = []\n",
    "    F = objective_function(iter_points[k].T)\n",
    "    for i in range (m_cluster):\n",
    "        if F[i] > gamma:\n",
    "            potential_cluster_center.append(iter_points[k][i])\n",
    "    len(potential_cluster_center)\n",
    "    # print('')\n",
    "    for i in range (len(potential_cluster_center)):\n",
    "        # print(f'Titik ke-{i}')\n",
    "        lendict = len(list(cluster_center.keys()))\n",
    "        function_cluster(potential_cluster_center[i],lendict)\n",
    "        # print(cluster_center,cluster_radius)\n",
    "        # print('')\n",
    "    iter_points[k+1]=spo.update_point(iter_points[k],Sn,dim=len(boundaries),objective_function=objective_function)\n",
    "    k+=1\n",
    "cluster_center,cluster_radius"
   ]
  },
  {
   "cell_type": "code",
   "execution_count": null,
   "metadata": {},
   "outputs": [],
   "source": [
    "def cluster_boundaries(center_point,radius):\n",
    "    return np.array([[center_point[i]-radius,center_point[i]+radius]for i in range (len(center_point))])"
   ]
  },
  {
   "cell_type": "code",
   "execution_count": null,
   "metadata": {},
   "outputs": [
    {
     "name": "stdout",
     "output_type": "stream",
     "text": [
      "[[0.5000022717735871, 3.141597096059079], [-0.26059639105515375, 0.6225304875959872], [1.174236251433537, -0.8675164933547067], [-0.24055652850290282, 0.7226292274218346], [1.0890859864631193, 0.3413046900030345], [-0.4978567377049285, -0.6295990042143522], [1.5460004774594744, -10.819768505056128], [-0.15647265582944417, 1.1305175882418348], [1.672637529162629, -16.77604437203473], [1.6499272038048727, -15.578693459030585], [-0.31740702746976, 0.4306882944740895], [-0.941206787091725, -3.1840871923480205], [1.529879433956135, -10.177714863008227], [-0.5025568152106246, -0.6554115524526947], [0.011345737350102879, 1.8747279523622113], [0.9232301028434668, 1.9510185455417484], [1.4036273594086066, -5.909676047944996], [1.3051610424056375, -3.378590379317089], [-0.4391014358140238, -0.3093901171914397], [1.5693863178461869, -11.793985606760712], [0.500001041540945, 3.1415903335002686], [-0.28247683134266605, 0.5121106311248332], [1.4339490480199284, -6.82076345353203], [0.028564902642815148, 1.9447675366146597], [-0.9118341571729051, -3.0093589977562596], [1.5782258531508884, -12.176692516846614], [1.6461270794628957, -15.384211417553185], [1.0473598102583488, 0.8312747552714946], [-1.0896107603957772, -4.074984934736696], [-0.403368085492103, -0.11760760168315393], [0.20967072980966178, 2.59105833099547], [-0.947849402461621, -3.2237250075969657], [1.1620375898503013, -0.6757742902903769], [0.27558627127788715, 2.7772243491467234], [0.24543320770383503, 2.6957959611701443], [0.2513428054248322, 2.7122709044632916], [0.9908305323863199, 1.399837049905383], [0.9723642687352826, 1.5636281925988615], [1.6711136943836828, -16.69373381819912], [-0.9144877992420852, -3.0251142336588916], [1.6059038622533892, -13.424846232402693], [0.774835444884432, 2.7498144535148845], [1.1883329274486008, -1.097429475081426], [1.5687884204945595, -11.768886889480001], [1.2926766959762188, -3.100189850552385], [0.8445822056757463, 2.438058490539103], [0.9869824737189428, 1.4348181592525358], [1.5445493130504784, -10.760910066265147], [0.5751981994942862, 3.1422716037992275], [-0.07875026507009043, 1.4880518807233334], [-0.06003942911289286, 1.5709569967056194], [-0.008020538256488506, 1.7943702200690472], [-0.010263986505801258, 1.7849239707434201], [0.9805294205322684, 1.4924767149248928], [0.9742465878695108, 1.5474029387704185], [0.979079808020997, 1.5052549963917985], [0.2725324216886519, 2.7692774098694715], [0.26414765639907584, 2.7471168849851777], [1.1334041357728228, -0.25074540670335194], [1.337154632856388, -4.133774390795711], [0.03912910453936172, 1.9871211715790802], [0.017937707567367032, 1.901703996713303], [0.013994173470659099, 1.8855655559057323], [0.5964016753426171, 3.0814405367167947], [-0.02929348975491233, 1.704310797051243], [1.409582494048362, -6.083302829883562], [1.4054151203403082, -5.961515221594571], [0.06559870956602247, 2.090870505488549], [0.9538176001016128, 1.7179261138426363], [-0.1717541336330967, 1.0579425540084162], [-0.2011998644008248, 0.9160661815887132], [-0.16818600437186526, 1.0749472240528524], [1.397937429962304, -5.746012437060121], [0.22197056270921417, 2.628048801028796], [0.9674159935934904, 1.6057791447714036], [1.414729545004823, -6.235526738796125], [1.2363891338490096, -1.9511706947752563], [1.1573359144169713, -0.603571051577316], [0.9864978886304704, 1.4392074220908826], [-0.1273821398057937, 1.2667007305057445], [0.9146304844267238, 2.011939059329529], [0.19362579298168994, 2.541340085875347], [0.3564301127877711, 2.961227492910794], [0.3852466390593635, 3.0135742506404095], [0.45877434670305406, 3.111413582318277], [1.002392631739454, 1.291944195939202], [0.3218696895945477, 2.8890134529115943], [0.4928975468114004, 3.137764591080017], [1.0476624638991092, 0.8279440890548875], [0.20370259590781042, 2.572783937721901], [0.5093350426561599, 3.145741884278776], [0.5043541561787646, 3.130268966513136], [0.33776431730591044, 2.923469382710872], [0.1968707430007977, 2.551526768534735], [0.22280476104186694, 2.6305197037719372], [0.20479475390806243, 2.57613387990416], [0.7884248874093203, 2.6971600404607163], [1.0243247511323668, 1.0755986696700317], [1.0466322585629262, 0.8392602708076445], [1.0508784003046363, 0.7923497288821574], [0.2816414710152867, 2.7927754094730703], [0.36929817154060063, 2.985518666377266], [0.3446524802290662, 2.9377524894776608], [0.35751551852398905, 2.963341853558595], [0.2994462786802674, 2.836922418638389], [0.3111460434594226, 2.8645922735666423], [0.3186534770752792, 2.8817895677131924], [0.5092486929357768, 3.0834784016088954], [0.27422638474754046, 2.7736790095918806], [0.3962108234724092, 3.031494756054066], [0.3447479556510782, 2.9379354436541605], [0.29241898984703446, 2.8197876110869755], [0.32406047494277573, 2.8938778354861396], [0.3263177068523645, 2.8988596539043487], [0.30175256604141043, 2.8424619473142156], [0.2915438215940843, 2.81762940074195], [0.3170914607803941, 2.8782186198638806], [0.32145822500248566, 2.8880902981654955], [0.29512258441631584, 2.8264255146973043], [0.29682789492363576, 2.830582349814891], [0.29839572829513333, 2.834384902331876], [0.3012946386305645, 2.8413644049279907], [0.2970283646135068, 2.8310632582262167], [0.31248995232518356, 2.86771099309663], [0.29462548136725064, 2.825204282393321], [0.29580439694255195, 2.828085359606598], [0.3070874681560594, 2.855119370664193], [0.3122932734916709, 2.8672503688119266], [0.3039201431315788, 2.84763095676387], [0.30266645038165946, 2.8446475509144564], [0.29846172571634944, 2.8345412553232516], [0.30550813872650845, 2.851394333977368], [0.29944975768635407, 2.8369303089763576], [0.2951043749292982, 2.8263806195179244], [0.3061677911267013, 2.8529513329865246], [0.3007491491891828, 2.8400567019267426], [0.3062907053710892, 2.8532420994126886], [0.3022248200121288, 2.8435912248380526], [0.308726483022473, 2.8589605868558614], [0.29749094736614845, 2.832193292751913], [0.2946533045119674, 2.8252501143923734], [0.3030459980516273, 2.8455506426017623], [0.2984625662955178, 2.834545908541273], [0.29911607848745664, 2.8361253728111686], [0.30069856503931514, 2.8399358209066072], [0.3005400232155077, 2.839554341702757], [0.30078111852294664, 2.8401421800342153], [0.29893041540811377, 2.8356786325612036], [0.30038751275631265, 2.8391898731777263], [0.299447143014425, 2.836922845733818], [0.2995104974314207, 2.8371490248404974], [0.29934454106385383, 2.8367069159856104], [0.30015411183214397, 2.8386288518416003], [0.29944715208848055, 2.836924856002789], [0.3000060131849582, 2.8382680832294627], [0.3002197781431357, 2.8387847938179136], [0.299362159277145, 2.836719021105036], [0.2999442880854986, 2.8381221603315727], [0.2996722451787085, 2.837467224716789], [0.30026558920286117, 2.838895204455739], [0.2997339085924232, 2.837615255867108], [0.3006849414946011, 2.839903329653627]]\n",
      "[0.9999937274096858, 0.9999781947707974, 0.5144419849143814, 0.9768285559220646, 0.7193364897505244, 0.6881153317822785, 0.6604618241343959, 0.9093017742709677, 0.7180839983006245, 0.8735397381703683, 0.8768561304402499, 0.5567574704993148, 0.9769404984740853, 0.6825094050386482, 0.8739402487863898, 0.8848645263403644, 0.5938890963839307, 0.9144132748598512, 0.7622495995026183, 0.7569566101537214, 0.9999944772645374, 0.9723603153087186, 0.9999127203268506, 0.8761983161838021, 0.529383462091171, 0.9998024221920536, 0.7655792946176143, 0.8281540312058394, 0.7207124887679555, 0.8098584024224095, 0.9500582819863482, 0.5638794296466721, 0.5316881354331338, 0.9877437149345527, 0.9708283666443331, 0.9742251124727697, 0.8966505407994939, 0.8998613508804183, 0.7640134191624193, 0.5315742209329533, 0.9469223088558393, 0.8455977717310103, 0.502715299249601, 0.7457667113680043, 0.9815137912248524, 0.8512302193321741, 0.8979374968519184, 0.6757898112206605, 0.948980498289161, 0.8791050660250117, 0.8755842777637258, 0.8726101764380139, 0.8725244128183416, 0.8993282167076575, 0.8998450973703372, 0.8995234545715998, 0.986090173568765, 0.9814675909216809, 0.5927659494437312, 0.9966444579645732, 0.8780578338804882, 0.8746869643698337, 0.8742175239505354, 0.9047811241930731, 0.8726377540425448, 0.6264127824285659, 0.601969850804721, 0.8843029097710225, 0.8970325212296092, 0.9185439683854714, 0.9398945630177127, 0.916281501271103, 0.5767452089205959, 0.9571952433275872, 0.8996108329578093, 0.6689497018620356, 0.5567588798178759, 0.5398877532398088, 0.8980768375393763, 0.8948928756082069, 0.8806916910080327, 0.9408817000268467, 0.9792267488798408, 0.9745015463976601, 0.9824256799187105, 0.8905272093066063, 0.9901501107268602, 0.9962926393338218, 0.8275189514421487, 0.9466116321284519, 0.9947729563163387, 0.9872854292184428, 0.984453548904501, 0.9427192152741202, 0.9576820454004451, 0.9472458930740418, 0.8445199274736257, 0.8682167214358043, 0.8296739848720059, 0.8205591097936459, 0.9909744752515134, 0.9766044785933726, 0.9823363179351173, 0.978976091795497, 0.9999894455251638, 0.9946070710316474, 0.9914347637942679, 0.9488965497720083, 0.9870031908169078, 0.9738189623673505, 0.9823041152359495, 0.9965299099818189, 0.9893011570643224, 0.9884452538601143, 0.9988900312272934, 0.9960882956295052, 0.9920629992995607, 0.9903129366797497, 0.9978767677740517, 0.9987159752145561, 0.999479667395046, 0.9991054394125128, 0.9988108476992316, 0.9940169079322656, 0.9976264523802668, 0.9982118364296745, 0.9964142802633394, 0.9941068752729111, 0.9978702018654227, 0.9984574879831716, 0.9995133190126841, 0.9971327832339334, 0.99998749393499, 0.9978655971849707, 0.9968329203395693, 0.9993677108402718, 0.9967750723862957, 0.9986646454630276, 0.9956762475632482, 0.9990408532501722, 0.9976264264602722, 0.998274445992843, 0.9995132727610297, 0.9998331943676997, 0.9993874071110579, 0.9994685701146239, 0.9993497862895049, 0.9997427383543545, 0.9995409986596877, 0.9999901135811899, 0.9999062296677683, 0.9999231667328103, 0.999653047875022, 0.999985114744664, 0.9997225657888881, 0.9996166072353395, 0.999946137413544, 0.9997535863662349, 0.9998858469045891, 0.999596543695293, 0.999855653435978, 0.9993985547643373]\n"
     ]
    }
   ],
   "source": [
    "roots = []\n",
    "roots_values = []\n",
    "for i in range (len(cluster_center)):\n",
    "    bound = cluster_boundaries(cluster_center[i],cluster_radius[i])\n",
    "    lp = bound[:,0]\n",
    "    hp = bound[:,1]\n",
    "    root,value = spo.SpiralOpt(lp,hp,objective_function,dim=2,npoint=m,r = r,theta=theta, iter_max=k_max, error_max = 10**(-5),random=0, show_err=False, show_objective_function=False)\n",
    "    roots.append(root)\n",
    "    roots_values.append(value)\n",
    "print(roots)\n",
    "print(roots_values)"
   ]
  },
  {
   "cell_type": "code",
   "execution_count": null,
   "metadata": {},
   "outputs": [
    {
     "data": {
      "text/plain": [
       "array([[  0.50000227,   3.1415971 ],\n",
       "       [ -0.26059639,   0.62253049],\n",
       "       [  0.50000104,   3.14159033],\n",
       "       [  1.43394905,  -6.82076345],\n",
       "       [  1.57822585, -12.17669252],\n",
       "       [  0.29944628,   2.83692242],\n",
       "       [  0.29839573,   2.8343849 ],\n",
       "       [  0.30129464,   2.8413644 ],\n",
       "       [  0.29846173,   2.83454126],\n",
       "       [  0.29944976,   2.83693031],\n",
       "       [  0.30074915,   2.8400567 ],\n",
       "       [  0.29749095,   2.83219329],\n",
       "       [  0.29846257,   2.83454591],\n",
       "       [  0.29911608,   2.83612537],\n",
       "       [  0.30069857,   2.83993582],\n",
       "       [  0.30054002,   2.83955434],\n",
       "       [  0.30078112,   2.84014218],\n",
       "       [  0.29893042,   2.83567863],\n",
       "       [  0.30038751,   2.83918987],\n",
       "       [  0.29944714,   2.83692285],\n",
       "       [  0.2995105 ,   2.83714902],\n",
       "       [  0.29934454,   2.83670692],\n",
       "       [  0.30015411,   2.83862885],\n",
       "       [  0.29944715,   2.83692486],\n",
       "       [  0.30000601,   2.83826808],\n",
       "       [  0.30021978,   2.83878479],\n",
       "       [  0.29936216,   2.83671902],\n",
       "       [  0.29994429,   2.83812216],\n",
       "       [  0.29967225,   2.83746722],\n",
       "       [  0.30026559,   2.8388952 ],\n",
       "       [  0.29973391,   2.83761526],\n",
       "       [  0.30068494,   2.83990333]])"
      ]
     },
     "execution_count": 15,
     "metadata": {},
     "output_type": "execute_result"
    }
   ],
   "source": [
    "eligible_roots = np.array([x for x in roots if (1-objective_function(x))<epsilon])\n",
    "eligible_roots"
   ]
  },
  {
   "cell_type": "code",
   "execution_count": null,
   "metadata": {},
   "outputs": [
    {
     "name": "stdout",
     "output_type": "stream",
     "text": [
      "[[ -0.26059639   0.62253049]\n",
      " [  0.50000104   3.14159033]\n",
      " [  1.43394905  -6.82076345]\n",
      " [  1.57822585 -12.17669252]\n",
      " [  0.29944976   2.83693031]]\n"
     ]
    }
   ],
   "source": [
    "duplicated_roots = []\n",
    "for i in range(len(eligible_roots)):\n",
    "    for j in range (i+1,len(eligible_roots)):\n",
    "        if np.linalg.norm(eligible_roots[i]-eligible_roots[j])<delta:\n",
    "            duplicated_roots.append([eligible_roots[i],eligible_roots[j]])\n",
    "duplicated_roots = np.unique(duplicated_roots,axis=0)\n",
    "# print(duplicated_roots)\n",
    "deselected_duplicated_roots = []\n",
    "for i in range (len(duplicated_roots)):\n",
    "    root_a = objective_function(duplicated_roots[i][0])\n",
    "    root_b = objective_function(duplicated_roots[i][1])\n",
    "    if root_a>root_b:\n",
    "        deselected_duplicated_roots.append(list(duplicated_roots[i][1]))\n",
    "    else:\n",
    "        deselected_duplicated_roots.append(list(duplicated_roots[i][0]))\n",
    "# print(deselected_duplicated_roots)\n",
    "\n",
    "if deselected_duplicated_roots:\n",
    "    exclude_condition = np.all(eligible_roots != np.array(deselected_duplicated_roots)[:, np.newaxis], axis=2).all(axis=0)\n",
    "    final_root = eligible_roots[exclude_condition]\n",
    "else:\n",
    "    final_root = eligible_roots\n",
    "print(final_root)"
   ]
  },
  {
   "cell_type": "code",
   "execution_count": null,
   "metadata": {},
   "outputs": [],
   "source": [
    "# \"\"\"Visualization\"\"\"\n",
    "# fig, ax = plt.subplots()\n",
    "# for center,radius in zip(cluster_center.values(),cluster_radius.values()):\n",
    "#     circle = plt.Circle(center, radius, fill=False, linestyle='dotted', edgecolor='b')\n",
    "#     ax.add_artist(circle)\n",
    "\n",
    "# # Set axis limits\n",
    "# ax.set_xlim(-10, 10)\n",
    "# ax.set_ylim(-10, 10)\n",
    "\n",
    "# # # Add labels (optional)\n",
    "# # for i, center in cluster_center.items():\n",
    "# #     ax.text(center[0], center[1], f'Cluster {i+1}', ha='center', va='bottom')\n",
    "\n",
    "# # Add a title and labels (optional)\n",
    "# ax.set_title('Cluster Visualization')\n",
    "# ax.set_xlabel('X-axis')\n",
    "# ax.set_ylabel('Y-axis')\n",
    "\n",
    "# # Show the plot\n",
    "# plt.gca().set_aspect('equal', adjustable='box')  # Make the aspect ratio equal\n",
    "# plt.grid(True)\n",
    "# plt.show()\n"
   ]
  }
 ],
 "metadata": {
  "kernelspec": {
   "display_name": ".venv",
   "language": "python",
   "name": "python3"
  },
  "language_info": {
   "codemirror_mode": {
    "name": "ipython",
    "version": 3
   },
   "file_extension": ".py",
   "mimetype": "text/x-python",
   "name": "python",
   "nbconvert_exporter": "python",
   "pygments_lexer": "ipython3",
   "version": "3.11.4"
  }
 },
 "nbformat": 4,
 "nbformat_minor": 2
}
