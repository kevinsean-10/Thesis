{
 "cells": [
  {
   "cell_type": "markdown",
   "metadata": {},
   "source": [
    "code-2.py"
   ]
  },
  {
   "cell_type": "code",
   "execution_count": 46,
   "metadata": {},
   "outputs": [
    {
     "data": {
      "text/plain": [
       "{0: array([[ 2.28507192,  4.47232073],\n",
       "        [ 1.01614212,  4.04318244],\n",
       "        [ 4.52180667,  0.50130156],\n",
       "        [-3.56826552, -3.02991712],\n",
       "        [ 3.0735913 , -2.67967169],\n",
       "        [-1.36785403, -4.97634025],\n",
       "        [-3.13443188, -2.73944455],\n",
       "        [-2.40848762, -1.24656762],\n",
       "        [ 1.29762343, -0.47256295],\n",
       "        [-4.67439078, -2.5392081 ]])}"
      ]
     },
     "execution_count": 46,
     "metadata": {},
     "output_type": "execute_result"
    }
   ],
   "source": [
    "import numpy as np\n",
    "import matplotlib.pyplot as plt\n",
    "from matplotlib.animation import FuncAnimation\n",
    "np.random.seed(36)\n",
    "npoint = 6\n",
    "theta = np.pi/4\n",
    "r = 0.9\n",
    "iter_max = 20\n",
    "npoint = 10\n",
    "iter = 0\n",
    "iter_points = {}\n",
    "\n",
    "def generate_points(low,high, npoint):\n",
    "    x_coordinates = np.random.uniform(low, high, npoint)\n",
    "    y_coordinates = np.random.uniform(low, high, npoint)\n",
    "    points = np.column_stack((x_coordinates, y_coordinates))\n",
    "    return points\n",
    "\n",
    "def objective_function(x,y):\n",
    "    z = x**2 +y**2\n",
    "    return z\n",
    "\n",
    "points = generate_points(-5,5,npoint)\n",
    "iter_points[iter] = points\n",
    "iter_points"
   ]
  },
  {
   "cell_type": "code",
   "execution_count": 45,
   "metadata": {},
   "outputs": [
    {
     "data": {
      "text/plain": [
       "array([[ 0.6363961, -0.6363961],\n",
       "       [ 0.6363961,  0.6363961]])"
      ]
     },
     "execution_count": 45,
     "metadata": {},
     "output_type": "execute_result"
    }
   ],
   "source": [
    "R2 = np.array([[np.cos(theta), -np.sin(theta)],[np.sin(theta),np.cos(theta)]])\n",
    "S2 = r*R2\n",
    "S2"
   ]
  },
  {
   "cell_type": "code",
   "execution_count": 52,
   "metadata": {},
   "outputs": [
    {
     "data": {
      "image/png": "[encoded data removed]",
      "text/plain": [
       "<Figure size 640x480 with 1 Axes>"
      ]
     },
     "metadata": {},
     "output_type": "display_data"
    },
    {
     "data": {
      "text/plain": [
       "array([[ 2.28507192,  4.47232073],\n",
       "       [ 1.01614212,  4.04318244],\n",
       "       [ 4.52180667,  0.50130156],\n",
       "       [-3.56826552, -3.02991712],\n",
       "       [ 3.0735913 , -2.67967169],\n",
       "       [-1.36785403, -4.97634025],\n",
       "       [-3.13443188, -2.73944455],\n",
       "       [-2.40848762, -1.24656762],\n",
       "       [ 1.29762343, -0.47256295],\n",
       "       [-4.67439078, -2.5392081 ]])"
      ]
     },
     "execution_count": 52,
     "metadata": {},
     "output_type": "execute_result"
    }
   ],
   "source": [
    "# Plot the points\n",
    "plt.scatter(iter_points[0][:,0], iter_points[0][:,1], c='b', marker='o', label='Random Points')\n",
    "plt.xlabel('X')\n",
    "plt.ylabel('Y')\n",
    "plt.title('Random Points in Cartesian Coordinates')\n",
    "plt.legend()\n",
    "plt.grid(True)\n",
    "\n",
    "# Display the plot\n",
    "plt.show()\n",
    "\n",
    "points"
   ]
  },
  {
   "cell_type": "code",
   "execution_count": 37,
   "metadata": {},
   "outputs": [
    {
     "data": {
      "text/plain": [
       "array([ 1.29762343, -0.47256295])"
      ]
     },
     "execution_count": 37,
     "metadata": {},
     "output_type": "execute_result"
    }
   ],
   "source": [
    "def cari_minimum(set_of_points):\n",
    "    z = []\n",
    "    z_min = 10**100\n",
    "    for i in range (len(set_of_points)):\n",
    "        z.append(objective_function(set_of_points[i,0],set_of_points[i,1]))\n",
    "        if z[i]<z_min:\n",
    "            z_min = z[i]\n",
    "            idx_min = i\n",
    "    x_min = set_of_points[idx_min]\n",
    "    return z_min,idx_min,x_min\n",
    "(z_star,idx_star,x_star) = cari_minimum(points)\n",
    "x_star"
   ]
  },
  {
   "cell_type": "code",
   "execution_count": 50,
   "metadata": {},
   "outputs": [
    {
     "data": {
      "text/plain": [
       "array([[-1.22087291],\n",
       "       [ 3.30275013]])"
      ]
     },
     "execution_count": 50,
     "metadata": {},
     "output_type": "execute_result"
    }
   ],
   "source": [
    "np.dot(S2,iter_points[0][0].reshape(-1,1)) - np.dot((S2-np.identity(2)),x_star.reshape(-1,1))"
   ]
  },
  {
   "cell_type": "code",
   "execution_count": 51,
   "metadata": {},
   "outputs": [
    {
     "data": {
      "text/plain": [
       "array([[ 0.53948966, -1.83439752],\n",
       "       [ 0.49722937, -1.70943701],\n",
       "       [ 0.14843524, -2.05466465],\n",
       "       [-0.1993089 , -1.25797788],\n",
       "       [-0.16481775, -1.91204862],\n",
       "       [-0.39098698, -1.474668  ],\n",
       "       [-0.170704  , -1.30070056],\n",
       "       [-0.02368983, -1.37218944],\n",
       "       [ 0.0525319 , -1.73715647],\n",
       "       [-0.1509853 , -1.14904989]])"
      ]
     },
     "execution_count": 51,
     "metadata": {},
     "output_type": "execute_result"
    }
   ],
   "source": [
    "iter_points[iter+1] = np.copy(iter_points[iter])\n",
    "for i in range (npoint):\n",
    "    poin = np.dot(S2,iter_points[iter][i].reshape(-1,1)) - np.dot((S2-np.identity(2)),x_star.reshape(-1,1))\n",
    "    iter_points[iter+1][i] = poin.T\n",
    "iter_points[iter+1]"
   ]
  },
  {
   "cell_type": "code",
   "execution_count": 44,
   "metadata": {},
   "outputs": [
    {
     "data": {
      "text/plain": [
       "array([[-1.22087291,  3.30275013],\n",
       "       [-1.75531294,  2.22210621],\n",
       "       [ 2.72971751,  2.19905828],\n",
       "       [-0.17151911, -5.19668594],\n",
       "       [ 3.83243786, -0.74693931],\n",
       "       [ 2.46751028, -5.03504874],\n",
       "       [-0.08028468, -4.73574029],\n",
       "       [-0.56835764, -3.32369113],\n",
       "       [ 1.29762343, -0.47256295],\n",
       "       [-1.18773822, -5.58833444]])"
      ]
     },
     "execution_count": 44,
     "metadata": {},
     "output_type": "execute_result"
    }
   ],
   "source": [
    "def update_point(set_of_points):\n",
    "    (z_star,idx_star,x_star) = cari_minimum(set_of_points)\n",
    "    new_set_of_points = np.copy(set_of_points)\n",
    "    for i in range (len(new_set_of_points)):\n",
    "        poin = np.dot(S2,set_of_points[i].reshape(-1,1)) - np.dot((S2-np.identity(2)),x_star.reshape(-1,1))\n",
    "        new_set_of_points[i] = poin.T\n",
    "    return new_set_of_points\n",
    "aa = update_point(iter_points[iter])\n",
    "aa"
   ]
  },
  {
   "cell_type": "code",
   "execution_count": 49,
   "metadata": {},
   "outputs": [
    {
     "data": {
      "text/plain": [
       "{0: array([[ 2.28507192,  4.47232073],\n",
       "        [ 1.01614212,  4.04318244],\n",
       "        [ 4.52180667,  0.50130156],\n",
       "        [-3.56826552, -3.02991712],\n",
       "        [ 3.0735913 , -2.67967169],\n",
       "        [-1.36785403, -4.97634025],\n",
       "        [-3.13443188, -2.73944455],\n",
       "        [-2.40848762, -1.24656762],\n",
       "        [ 1.29762343, -0.47256295],\n",
       "        [-4.67439078, -2.5392081 ]]),\n",
       " 1: array([[-1.22087291,  3.30275013],\n",
       "        [-1.75531294,  2.22210621],\n",
       "        [ 2.72971751,  2.19905828],\n",
       "        [-0.17151911, -5.19668594],\n",
       "        [ 3.83243786, -0.74693931],\n",
       "        [ 2.46751028, -5.03504874],\n",
       "        [-0.08028468, -4.73574029],\n",
       "        [-0.56835764, -3.32369113],\n",
       "        [ 1.29762343, -0.47256295],\n",
       "        [-1.18773822, -5.58833444]]),\n",
       " 2: array([[-2.70773235,  0.32727033],\n",
       "        [-2.36013033, -0.7005628 ],\n",
       "        [ 0.50879318,  2.13902548],\n",
       "        [ 3.36908031, -4.413933  ],\n",
       "        [ 3.0853815 ,  0.96597103],\n",
       "        [ 4.94568304, -2.63159969],\n",
       "        [ 3.13379753, -4.06252774],\n",
       "        [ 1.92456722, -3.47451289],\n",
       "        [ 1.29762343, -0.47256295],\n",
       "        [ 2.971606  , -5.30989446]]),\n",
       " 3: array([[-1.76038016, -2.51254498],\n",
       "        [-0.88505859, -2.9454414 ],\n",
       "        [-0.86638977,  0.68743326],\n",
       "        [ 5.12416305, -1.6625684 ],\n",
       "        [ 1.51986828,  1.58063674],\n",
       "        [ 4.99323692,  0.47504541],\n",
       "        [ 4.75079707, -1.58866851],\n",
       "        [ 3.60703726, -1.98400761],\n",
       "        [ 1.29762343, -0.47256295],\n",
       "        [ 5.44139834, -2.48570588]]),\n",
       " 4: array([[ 0.60113191, -1.91795242],\n",
       "        [ 1.43367674, -1.63639479],\n",
       "        [-0.86638977,  0.68743326],\n",
       "        [ 4.4415066 ,  3.00426583],\n",
       "        [ 0.08378434,  2.7744698 ],\n",
       "        [ 2.99781662,  4.28131405],\n",
       "        [ 4.15686834,  2.81368678],\n",
       "        [ 3.68057632,  1.83421023],\n",
       "        [ 1.24899686,  1.32638576],\n",
       "        [ 5.16723538,  2.68231164]]),\n",
       " 5: array([[ 1.7255926 , -0.03669896],\n",
       "        [ 2.07623871,  0.67231151],\n",
       "        [-0.86638977,  0.68743326],\n",
       "        [ 1.03711157,  5.53978105],\n",
       "        [-1.58988459,  2.62030228],\n",
       "        [-0.69435561,  5.43373088],\n",
       "        [ 0.97725266,  5.2373546 ],\n",
       "        [ 1.29747733,  4.31090915],\n",
       "        [ 0.07320716,  2.44028395],\n",
       "        [ 1.70385293,  5.79674162]]),\n",
       " 6: array([[ 1.24397263,  1.87612581],\n",
       "        [ 1.01591095,  2.55048713],\n",
       "        [-0.86638977,  0.68743326],\n",
       "        [-2.74302416,  4.98682932],\n",
       "        [-2.55688937,  1.45707429],\n",
       "        [-3.77743321,  3.81744044],\n",
       "        [-2.58865512,  4.75627233],\n",
       "        [-1.79527911,  4.37047579],\n",
       "        [-1.38394129,  2.40089643],\n",
       "        [-2.48224126,  5.57466963]]),\n",
       " 7: array([[-0.27984267,  2.78693898],\n",
       "        [-0.85414115,  3.07096232],\n",
       "        [-0.86638977,  0.68743326],\n",
       "        [-4.79679148,  2.22926934],\n",
       "        [-2.43201368,  0.10140245],\n",
       "        [-4.71089084,  0.82678093],\n",
       "        [-4.55182606,  2.18078363],\n",
       "        [-3.80140524,  2.44016561],\n",
       "        [-2.28619883,  1.44850677],\n",
       "        [-5.00492954,  2.76932985]]),\n",
       " 8: array([[-1.82923074,  2.3968268 ],\n",
       "        [-2.37546341,  2.21209684],\n",
       "        [-0.86638977,  0.68743326],\n",
       "        [-4.34890058, -0.83264059],\n",
       "        [-1.489799  , -0.68187142],\n",
       "        [-3.40169558, -1.67051193],\n",
       "        [-4.16214942, -0.70760168],\n",
       "        [-3.84965422, -0.06496711],\n",
       "        [-2.25429494,  0.26821652],\n",
       "        [-4.82505123, -0.62140645]]),\n",
       " 9: array([[-2.5669894 ,  1.16253641],\n",
       "        [-2.79704831,  0.69735464],\n",
       "        [-0.86638977,  0.68743326],\n",
       "        [-2.115277  , -2.49619212],\n",
       "        [-0.39170482, -0.58072211],\n",
       "        [-0.97926138, -2.42661261],\n",
       "        [-2.07600357, -2.29777013],\n",
       "        [-2.28610298, -1.68992927],\n",
       "        [-1.48285931, -0.46261208],\n",
       "        [-2.55272601, -2.66478396]]),\n",
       " 10: array([[-2.88545037, -0.85566182],\n",
       "        [-2.7358191 , -1.29811028],\n",
       "        [-1.5008416 , -0.07576063],\n",
       "        [-0.26958178, -2.89659438],\n",
       "        [-0.39170482, -0.58072211],\n",
       "        [ 0.409094  , -2.12935834],\n",
       "        [-0.37086331, -2.74532594],\n",
       "        [-0.8913973 , -2.49220483],\n",
       "        [-1.16127605, -1.19996382],\n",
       "        [-0.44068144, -3.28227641]]),\n",
       " 11: array([[-1.80374421, -2.34270262],\n",
       "        [-1.42694698, -2.52905034],\n",
       "        [-1.41891066, -0.96521692],\n",
       "        [ 1.1598259 , -1.97681558],\n",
       "        [-0.39170482, -0.58072211],\n",
       "        [ 1.10346649, -1.05664293],\n",
       "        [ 0.99910409, -1.9450041 ],\n",
       "        [ 0.50675299, -2.11518462],\n",
       "        [-0.48737394, -1.46455725],\n",
       "        [ 1.29638528, -2.33114927]]),\n",
       " 12: array([[-0.16900365, -2.60065601],\n",
       "        [ 0.1893796 , -2.47945468],\n",
       "        [-0.80072361, -1.47912291],\n",
       "        [ 1.48415173, -0.48180245],\n",
       "        [-0.39170482, -0.58072211],\n",
       "        [ 0.86269053,  0.06792493],\n",
       "        [ 1.36162429, -0.56384048],\n",
       "        [ 1.15659619, -0.98547302],\n",
       "        [ 0.10988097, -1.20407481],\n",
       "        [ 1.79655417, -0.62039317]]),\n",
       " 13: array([[ 1.0354994 , -1.72447402],\n",
       "        [ 1.18644105, -1.41926826],\n",
       "        [-0.08026402, -1.41275884],\n",
       "        [ 0.73913089,  0.67601777],\n",
       "        [-0.39170482, -0.58072211],\n",
       "        [-0.00620895,  0.63036665],\n",
       "        [ 0.7133636 ,  0.5458331 ],\n",
       "        [ 0.85120982,  0.14702871],\n",
       "        [ 0.32420165, -0.6582141 ],\n",
       "        [ 1.02614119,  0.78663087]]),\n",
       " 14: array([[ 2.15534161, -0.20530564],\n",
       "        [ 2.05716853,  0.0849848 ],\n",
       "        [ 1.24689979, -0.71699881],\n",
       "        [ 0.43907023,  1.13375022],\n",
       "        [ 0.51919515, -0.38569358],\n",
       "        [-0.00620895,  0.63036665],\n",
       "        [ 0.50552103,  1.034503  ],\n",
       "        [ 0.84704339,  0.86843024],\n",
       "        [ 1.02411083,  0.0205909 ],\n",
       "        [ 0.55132871,  1.3867962 ]]),\n",
       " 15: array([[ 1.90121199,  1.47415042],\n",
       "        [ 1.65399532,  1.59641315],\n",
       "        [ 1.6487227 ,  0.57038205],\n",
       "        [-0.04318636,  1.23409193],\n",
       "        [ 0.97477294,  0.318115  ],\n",
       "        [-0.00620895,  0.63036665],\n",
       "        [ 0.06226322,  1.21322042],\n",
       "        [ 0.38529478,  1.32487585],\n",
       "        [ 1.03754145,  0.89799924],\n",
       "        [-0.13278297,  1.46657026]]),\n",
       " 16: array([[ 0.6706856 ,  2.38122261],\n",
       "        [ 0.43555035,  2.30170241],\n",
       "        [ 1.08515707,  1.64538474],\n",
       "        [-0.41394964,  0.99104279],\n",
       "        [ 0.81679983,  1.05594397],\n",
       "        [-0.00620895,  0.63036665],\n",
       "        [-0.33355939,  1.04486794],\n",
       "        [-0.19904046,  1.32150105],\n",
       "        [ 0.4877094 ,  1.46492568],\n",
       "        [-0.61891689,  1.08197216]]),\n",
       " 17: array([[-0.6896738 ,  2.17537761],\n",
       "        [-0.78870662,  1.97513211],\n",
       "        [ 0.04237858,  1.97086129],\n",
       "        [-0.49522643,  0.60041495],\n",
       "        [ 0.24671488,  1.42496198],\n",
       "        [-0.00620895,  0.63036665],\n",
       "        [-0.4783205 ,  0.68582911],\n",
       "        [-0.56876141,  0.94748467],\n",
       "        [-0.22299135,  1.47580448],\n",
       "        [-0.68353388,  0.52784169]]),\n",
       " 18: array([[-1.42440228,  1.17865124],\n",
       "        [-1.35999092,  0.98819168],\n",
       "        [-0.8283736 ,  1.51437313],\n",
       "        [-0.29835662,  0.30009669],\n",
       "        [-0.35092658,  1.29700377],\n",
       "        [-0.00620895,  0.63036665],\n",
       "        [-0.341955  ,  0.36521279],\n",
       "        [-0.56602781,  0.47417313],\n",
       "        [-0.68220176,  1.03044052],\n",
       "        [-0.37200941,  0.13407322]]),\n",
       " 19: array([[-1.70651351,  0.12909988],\n",
       "        [-1.54431465,  0.0488833 ],\n",
       "        [-1.54085528,  0.72206231],\n",
       "        [-0.43079375,  0.28660226],\n",
       "        [-1.09867685,  0.88757472],\n",
       "        [-0.45505463,  0.68270641],\n",
       "        [-0.49997922,  0.30029606],\n",
       "        [-0.71192022,  0.22703893],\n",
       "        [-1.13985927,  0.50711267],\n",
       "        [-0.37200941,  0.13407322]]),\n",
       " 20: array([[-1.21811761, -0.718365  ],\n",
       "        [-1.06384537, -0.6661918 ],\n",
       "        [-1.49005234, -0.23558177],\n",
       "        [-0.50648842,  0.19373198],\n",
       "        [-1.31398316,  0.15115032],\n",
       "        [-0.77400709,  0.4303716 ],\n",
       "        [-0.55923247,  0.1584173 ],\n",
       "        [-0.64749034, -0.02308168],\n",
       "        [-1.09806692, -0.11718258],\n",
       "        [-0.37200941,  0.13407322]]),\n",
       " 21: array([[-0.36798101, -0.94687509],\n",
       "        [-0.30300558, -0.81549402],\n",
       "        [-0.84828058, -0.81269193],\n",
       "        [-0.49555793,  0.08645791],\n",
       "        [-0.98234563, -0.4545274 ],\n",
       "        [-0.8164023 ,  0.0668066 ],\n",
       "        [-0.50664991,  0.03041768],\n",
       "        [-0.44731163, -0.14125453],\n",
       "        [-0.67417137, -0.48788516],\n",
       "        [-0.37200941,  0.13407322]])}"
      ]
     },
     "execution_count": 49,
     "metadata": {},
     "output_type": "execute_result"
    }
   ],
   "source": [
    "while iter <= iter_max:\n",
    "    iter_points[iter+1] = update_point(iter_points[iter])\n",
    "    iter += 1\n",
    "iter_points"
   ]
  }
 ],
 "metadata": {
  "kernelspec": {
   "display_name": ".venv",
   "language": "python",
   "name": "python3"
  },
  "language_info": {
   "codemirror_mode": {
    "name": "ipython",
    "version": 3
   },
   "file_extension": ".py",
   "mimetype": "text/x-python",
   "name": "python",
   "nbconvert_exporter": "python",
   "pygments_lexer": "ipython3",
   "version": "3.11.4"
  },
  "orig_nbformat": 4
 },
 "nbformat": 4,
 "nbformat_minor": 2
}
