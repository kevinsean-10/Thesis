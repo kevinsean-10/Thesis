{
 "cells": [
  {
   "cell_type": "code",
   "execution_count": null,
   "metadata": {},
   "outputs": [],
   "source": [
    "import numpy as np\n",
    "import matplotlib.pyplot as plt\n",
    "import sobol_seq\n",
    "from scipy.stats import qmc"
   ]
  },
  {
   "cell_type": "markdown",
   "metadata": {},
   "source": [
    "Problem 1"
   ]
  },
  {
   "cell_type": "code",
   "execution_count": null,
   "metadata": {},
   "outputs": [],
   "source": [
    "m_cluster = 100\n",
    "gamma = -0.2\n",
    "epsilon = 10**(-3)\n",
    "delta = 0.01\n",
    "k_cluster = 100\n",
    "m = 500\n",
    "r = 0.95\n",
    "theta = np.pi/4\n",
    "k_max = 250\n",
    "dim = 2\n",
    "\n",
    "def objective_function(x):\n",
    "    f1 = np.exp(x[0]-x[1])-np.sin(x[0]+x[1])\n",
    "    f2 = (x[0]*x[1])**2-np.cos(x[0]+x[1])\n",
    "    return np.array([f1,f2])\n",
    "\n",
    "boundaries = np.array([(-10,10) for _ in range (dim)])"
   ]
  },
  {
   "cell_type": "markdown",
   "metadata": {},
   "source": [
    "Objective Function"
   ]
  },
  {
   "cell_type": "code",
   "execution_count": null,
   "metadata": {},
   "outputs": [],
   "source": [
    "def root_objective_function(x:np.ndarray):\n",
    "    res = 0\n",
    "    F_array = objective_function(x)\n",
    "    for f in F_array:\n",
    "        res += np.abs(f)\n",
    "    return -1/(1+res)"
   ]
  },
  {
   "cell_type": "code",
   "execution_count": null,
   "metadata": {},
   "outputs": [],
   "source": [
    "\"\"\"GENERATE POINTS USING SOBOL SEQUENCE\"\"\"\n",
    "def generate_points(dim: int, npoint: int, low=-10, high=10, sobol=True, seed=None):\n",
    "    \"\"\"\n",
    "            Generates points within the specified bounds.\n",
    "\n",
    "        Args:\n",
    "            dim: Number of dimensions.\n",
    "            npoint: Number of points to generate.\n",
    "            low: Lower bound for each variable (scalar or list/numpy array).\n",
    "            high: Upper bound for each variable (scalar or list/numpy array).\n",
    "            sobol: Flag indicating whether to use Sobol sequence (True) or random sampling (False).\n",
    "\n",
    "        Returns:\n",
    "            A numpy array of size (npoint, dim) representing the generated points.\n",
    "    \"\"\"\n",
    "\n",
    "    if type(low) != type(high):\n",
    "        raise TypeError('The type of \"low\" and \"high\" should be the same.')\n",
    "\n",
    "    # Handle boundaries\n",
    "    if type(low) == int:\n",
    "        boundaries = [(low, high) for _ in range(dim)]\n",
    "    elif type(low) in (list, np.ndarray):\n",
    "        if len(low) != len(high):\n",
    "            raise TypeError('The length of \"low\" and \"high\" should be the same.')\n",
    "        else:\n",
    "            boundaries = [(low[i], high[i]) for i in range(len(low))]\n",
    "\n",
    "    # Generate points based on the sobol flag\n",
    "    if sobol:\n",
    "        sampler = qmc.Sobol(d=dim,scramble=True,seed=seed)\n",
    "        sample = sampler.random(n=npoint)\n",
    "        scaled_points = qmc.scale(sample=sample,l_bounds=low,u_bounds=high)\n",
    "\n",
    "    else:\n",
    "        # Generate random points\n",
    "        np.random.seed(seed)\n",
    "        scaled_points = np.zeros((npoint, dim))\n",
    "        for i in range(dim):\n",
    "            min_val, max_val = boundaries[i]\n",
    "            scaled_points[:, i] = np.random.uniform(min_val, max_val, npoint)\n",
    "\n",
    "    return scaled_points"
   ]
  },
  {
   "cell_type": "code",
   "execution_count": null,
   "metadata": {},
   "outputs": [],
   "source": [
    "k=0\n",
    "iter_points = {}\n",
    "iter_points[k] = generate_points(dim,m_cluster,boundaries[:,0],boundaries[:,1])\n",
    "fitness = np.asarray([root_objective_function(ind) for ind in iter_points[0]])\n",
    "best_idx = np.argmin(fitness)\n",
    "x_prime = iter_points[0][best_idx]\n",
    "\n",
    "radius = (boundaries[:,1]-boundaries[:,0])/2\n",
    "id_rad = np.argmin(radius)\n",
    "radii = radius[id_rad]\n",
    "\n",
    "cluster_center,cluster_radius = np.array([x_prime]),np.array([radii])\n",
    "# cluster_center[0],cluster_radius[0] = x_prime,radius\n",
    "print(cluster_center,cluster_radius)"
   ]
  },
  {
   "cell_type": "code",
   "execution_count": null,
   "metadata": {},
   "outputs": [],
   "source": [
    "\"\"\"FUNCTION CLUSTER\"\"\"\n",
    "def function_cluster(y):\n",
    "    # min_dist_cluster = 10**100\n",
    "    # for ci,cc in cluster_center.items():\n",
    "    #     dist = np.linalg.norm(cc-y)\n",
    "    #     if dist<=min_dist_cluster:\n",
    "    #         xc = cc\n",
    "    #         cluster_id = ci\n",
    "    #         min_dist_cluster = dist\n",
    "    global cluster_center\n",
    "    global cluster_radius\n",
    "    dist_list = np.linalg.norm(cluster_center-y,axis=1)\n",
    "    min_dist_id = np.argmin(dist_list)\n",
    "    min_dist = dist_list[min_dist_id]\n",
    "    xc = cluster_center[min_dist_id]\n",
    "    xt = (xc + y)/2\n",
    "    # print(xt,xc,y)\n",
    "    Fxt = root_objective_function(xt)\n",
    "    Fxc = root_objective_function(xc)\n",
    "    Fy = root_objective_function(y)\n",
    "    # print(Fxt,Fxc,Fy)\n",
    "    if (Fxt > Fy) & (Fxt > Fxc):\n",
    "        cluster_center = np.append(cluster_center,[y],axis=0)\n",
    "        cluster_radius = np.append(cluster_radius, [np.linalg.norm(y-xt)],axis=0)\n",
    "    elif (Fxt < Fy) & (Fxt < Fxc):\n",
    "        cluster_center = np.append(cluster_center,[y],axis=0)\n",
    "        cluster_radius = np.append(cluster_radius, [np.linalg.norm(y-xt)],axis=0)\n",
    "        function_cluster(xt)\n",
    "    elif Fy < Fxc:\n",
    "        cluster_center[min_dist_id] = y\n",
    "    \n",
    "    cluster_radius[min_dist_id] =  np.linalg.norm(y-xt)\n",
    "    # # update radii if the existing corresponding cluster radii is larger than tha candidate\n",
    "    # if cluster_radius[min_dist_id] > np.linalg.norm(y-xt):\n",
    "    #     cluster_radius[min_dist_id] =  np.linalg.norm(y-xt)\n",
    "    \n",
    "    # return cluster_center,cluster_radius\n"
   ]
  },
  {
   "cell_type": "code",
   "execution_count": null,
   "metadata": {},
   "outputs": [],
   "source": [
    "# import importlib.util\n",
    "# spec = importlib.util.spec_from_file_location(\"spo\", r\"D:\\OneDrive - Institut Teknologi Bandung\\[AKADEMIK]\\Semester 7-8\\TA\\Thesis\\Spiral Optimization\\new\\Spiropt.py\")\n",
    "# spo = importlib.util.module_from_spec(spec)\n",
    "# spec.loader.exec_module(spo)\n",
    "\n",
    "import Spiropt as spo\n",
    "import re\n",
    "import importlib\n",
    "importlib.reload(spo)"
   ]
  },
  {
   "cell_type": "code",
   "execution_count": null,
   "metadata": {},
   "outputs": [],
   "source": [
    "seed = np.random.randint(0,100)\n",
    "print(f\"seed={seed}\")\n",
    "\n",
    "while k<k_cluster:\n",
    "    potential_cluster_center = []\n",
    "    F = root_objective_function(iter_points[k].T)\n",
    "    for i in range (m_cluster):\n",
    "        # If F(x_i)<gamma and x_i is not the center of existing cluster, x_i may have a possibility to become a cluster center\n",
    "        if len(iter_points[k].T) == 1:\n",
    "            fungam = F[0][i]\n",
    "        else:\n",
    "            fungam = F[i]\n",
    "        exist_in_cluster_center = any(np.linalg.norm(iter_points[k][i] - ctr) < epsilon for ctr in cluster_center)\n",
    "        if (fungam < gamma) & (exist_in_cluster_center==False):\n",
    "            potential_cluster_center.append(iter_points[k][i])\n",
    "        # print(f'potential_cluster_center:{potential_cluster_center}')\n",
    "    # Apply function cluster\n",
    "    for i in range (len(potential_cluster_center)):\n",
    "        function_cluster(potential_cluster_center[i])\n",
    "\n",
    "    Rn = spo.generate_Rn(dim,theta)\n",
    "    Sn = r*Rn\n",
    "    iter_points[k+1] = spo.update_point(set_of_points=iter_points[k],\n",
    "                                    objective_function=root_objective_function,\n",
    "                                    Sn=Sn)\n",
    "\n",
    "    k+=1\n",
    "print(f\"len(cluster_center)={len(cluster_center)}\\ncluster_center={cluster_center}\")"
   ]
  },
  {
   "cell_type": "markdown",
   "metadata": {},
   "source": [
    "Cluster Visualization"
   ]
  },
  {
   "cell_type": "code",
   "execution_count": null,
   "metadata": {},
   "outputs": [],
   "source": [
    "if dim != 2:\n",
    "    print(f\"Dimension {dim} can be visualized using cluster_visualization2D.\")\n",
    "\"\"\"Visualization\"\"\"\n",
    "fig, ax = plt.subplots(figsize=(10,10))\n",
    "for center,radius in zip(cluster_center,cluster_radius):\n",
    "    circle = plt.Circle(center, radius, fill=False, linestyle='dotted', edgecolor='b')\n",
    "    ax.add_artist(circle)\n",
    "\n",
    "# Set axis limits\n",
    "ax.set_xlim(boundaries[0])\n",
    "ax.set_ylim(boundaries[1])\n",
    "# ax.autoscale_view()\n",
    "\n",
    "# # Add labels (optional)\n",
    "# for i, center in cluster_center.items():\n",
    "#     ax.text(center[0], center[1], f'Cluster {i+1}', ha='center', va='bottom')\n",
    "\n",
    "# Add a title and labels (optional)\n",
    "ax.set_title('Cluster Visualization')\n",
    "ax.set_xlabel('X-axis')\n",
    "ax.set_ylabel('Y-axis')\n",
    "\n",
    "# Show the plot\n",
    "plt.gca().set_aspect('equal', adjustable='box')  # Make the aspect ratio equal\n",
    "plt.grid(True)\n",
    "plt.show()"
   ]
  },
  {
   "cell_type": "code",
   "execution_count": null,
   "metadata": {},
   "outputs": [],
   "source": [
    "answ = np.array([[-6.437160, 0.155348],\n",
    "                 [-0.932122, 1.067870],\n",
    "                 [-0.155283, 6.439840],\n",
    "                 [0.163333, 6.122430],\n",
    "                 [0.667121, 0.690103],\n",
    "                 [-6.117110, -0.163476]])\n",
    "\n",
    "possible_cluster_id = []\n",
    "for i in range (len(cluster_center)):\n",
    "    for j in range (len(answ)):\n",
    "        ddist = np.linalg.norm(cluster_center[i]-answ[j])\n",
    "        if ddist <= cluster_radius[i]:\n",
    "            possible_cluster_id.append([i,j])\n",
    "            print(f'cluster_center[{i}] x answ[{j}]')\n"
   ]
  },
  {
   "cell_type": "markdown",
   "metadata": {},
   "source": [
    "# Spiral Optimization Evaluation"
   ]
  },
  {
   "cell_type": "code",
   "execution_count": null,
   "metadata": {},
   "outputs": [],
   "source": [
    "archive = []\n",
    "for i in range (len(cluster_center)):\n",
    "    # subbound = np.array([cluster_center[i]-np.abs(cluster_radius[i]),cluster_center[i]+np.abs(cluster_radius[i])])\n",
    "    subbound = np.array([[c-cluster_radius[i],c+cluster_radius[i]] for c in cluster_center[i]])\n",
    "    root, root_score = spo.spiral_opt(objective_function=root_objective_function,\n",
    "                                      boundaries=subbound,\n",
    "                                      n_point=m,\n",
    "                                      theta=theta,\n",
    "                                      radius=r,\n",
    "                                      max_iter=k_max,\n",
    "                                      max_error=-1+epsilon,\n",
    "                                      seed=None)\n",
    "    archive.append(root)\n",
    "    print(f'\\n====== Cluster {i} ======\\n')\n",
    "    print(f'Roots = {archive}')\n",
    "archive"
   ]
  },
  {
   "cell_type": "code",
   "execution_count": null,
   "metadata": {},
   "outputs": [],
   "source": [
    "if dim == 1:\n",
    "    list_criteria = [element for sublist in archive for element in sublist] #convert from 2D array into 1D array\n",
    "else:\n",
    "    list_criteria = archive\n",
    "eligible_roots = np.array([x for x in list_criteria if (root_objective_function(x))<-1+epsilon])\n",
    "eligible_roots"
   ]
  },
  {
   "cell_type": "code",
   "execution_count": null,
   "metadata": {},
   "outputs": [],
   "source": [
    "id_duplicated_roots = []\n",
    "for i in range(len(eligible_roots)):\n",
    "    for j in range (i+1,len(eligible_roots)):\n",
    "        if np.linalg.norm(eligible_roots[i]-eligible_roots[j])<delta:\n",
    "            id_duplicated_roots.append([i,j])\n",
    "id_duplicated_roots = np.unique(id_duplicated_roots,axis=0)\n",
    "deselected_id_duplicated_roots = []\n",
    "for i in range (len(id_duplicated_roots)):\n",
    "    root_a = root_objective_function(eligible_roots[id_duplicated_roots[i][0]])\n",
    "    root_b = root_objective_function(eligible_roots[id_duplicated_roots[i][1]])\n",
    "    if root_a<=root_b:\n",
    "        id_duplicated_root = id_duplicated_roots[i][1]\n",
    "    else:\n",
    "        id_duplicated_root = id_duplicated_roots[i][0]\n",
    "    deselected_id_duplicated_roots.append(id_duplicated_root)\n",
    "\n",
    "if deselected_id_duplicated_roots:\n",
    "    unique_roots = np.ones(len(eligible_roots),dtype=bool)\n",
    "    unique_roots[deselected_id_duplicated_roots] = False\n",
    "    final_root = eligible_roots[unique_roots]\n",
    "else:\n",
    "    final_root = eligible_roots\n",
    "\n",
    "final_root"
   ]
  }
 ],
 "metadata": {
  "kernelspec": {
   "display_name": "Python 3",
   "language": "python",
   "name": "python3"
  },
  "language_info": {
   "codemirror_mode": {
    "name": "ipython",
    "version": 3
   },
   "file_extension": ".py",
   "mimetype": "text/x-python",
   "name": "python",
   "nbconvert_exporter": "python",
   "pygments_lexer": "ipython3",
   "version": "3.8.8"
  }
 },
 "nbformat": 4,
 "nbformat_minor": 2
}
