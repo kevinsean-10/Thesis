{
 "cells": [
  {
   "cell_type": "code",
   "execution_count": 1,
   "metadata": {},
   "outputs": [],
   "source": [
    "import numpy as np\n",
    "import pandas as pd\n",
    "import sobol_seq\n",
    "import matplotlib.pyplot as plt"
   ]
  },
  {
   "cell_type": "markdown",
   "metadata": {},
   "source": [
    "Problem 1"
   ]
  },
  {
   "cell_type": "code",
   "execution_count": 2,
   "metadata": {},
   "outputs": [],
   "source": [
    "m_cluster = 50\n",
    "gamma = 0.2\n",
    "epsilon = 10**(-3)\n",
    "delta = 0.01\n",
    "k_cluster = 10\n",
    "m = 250\n",
    "r = 0.95\n",
    "theta = np.pi/4\n",
    "k_max = 250\n",
    "dim = 2\n",
    "\n",
    "def objective_function(x):\n",
    "    f1 = np.exp(x[0]-x[1])-np.sin(x[0]+x[1])\n",
    "    f2 = (x[0]*x[1])**2-np.cos(x[0]+x[1])\n",
    "    f_list = [f1,f2]\n",
    "    denom = 0\n",
    "    for f in f_list:\n",
    "        denom +=np.abs(f)\n",
    "    F = 1/(1+denom)\n",
    "    return F\n",
    "\n",
    "boundaries = np.array([(-10,10) for _ in range (dim)])"
   ]
  },
  {
   "cell_type": "markdown",
   "metadata": {},
   "source": [
    "Problem 2"
   ]
  },
  {
   "cell_type": "code",
   "execution_count": 3,
   "metadata": {},
   "outputs": [],
   "source": [
    "# m_cluster = 2000\n",
    "# gamma = 0.3\n",
    "# epsilon = 10**(-3)\n",
    "# delta = 0.1\n",
    "# k_cluster = 10\n",
    "# m = 300\n",
    "# r = 0.95\n",
    "# theta = np.pi/4\n",
    "# k_max = 300\n",
    "# dim = 2\n",
    "\n",
    "# def objective_function(x):\n",
    "#     f1 = 0.5*np.sin(x[0]*x[1])-0.25*x[1]/np.pi - 0.5*x[0]\n",
    "#     f2 = (1-0.25/np.pi)*(np.exp(2*x[0])-np.exp(1))+np.exp(1)*x[1]/np.pi - 2*np.exp(1)*x[0]\n",
    "#     f_list = [f1,f2]\n",
    "#     denom = 0\n",
    "#     for f in f_list:\n",
    "#         denom +=np.abs(f)\n",
    "#     F = 1/(1+denom)\n",
    "#     return F\n",
    "\n",
    "# boundaries = np.array([(-1,3),(-17,4)])"
   ]
  },
  {
   "cell_type": "markdown",
   "metadata": {},
   "source": [
    "Problem 4"
   ]
  },
  {
   "cell_type": "code",
   "execution_count": 4,
   "metadata": {},
   "outputs": [],
   "source": [
    "# m_cluster = 2000\n",
    "# gamma = 0.001\n",
    "# epsilon = 10**(-1)\n",
    "# delta = 0.5\n",
    "# k_cluster = 10\n",
    "# m = 500\n",
    "# r = 0.95\n",
    "# theta = np.pi/4\n",
    "# k_max = 500\n",
    "# dim = 3\n",
    "\n",
    "# def objective_function(x):\n",
    "#     f1 = x[0]*x[1]-(x[0]-2*x[2])*(x[1]-2*x[2])-165\n",
    "#     f2 = (x[0]*x[1]**3)/12-((x[0]-2*x[2])*(x[1]-2*x[2])**3)/12-9369\n",
    "#     f3 = (2*(x[1]-x[2])**2*(x[0]-x[2])**2*x[2])/(x[1]+x[0]-2*x[2])-6835\n",
    "#     f_list = [f1,f2,f3]\n",
    "#     denom = 1\n",
    "#     for f in f_list:\n",
    "#         denom +=np.abs(f)\n",
    "#     F = 1/denom\n",
    "#     return F\n",
    "\n",
    "# boundaries = np.array([(-40,40) for _ in range (dim)])"
   ]
  },
  {
   "cell_type": "markdown",
   "metadata": {},
   "source": [
    "Problem 5"
   ]
  },
  {
   "cell_type": "code",
   "execution_count": 5,
   "metadata": {},
   "outputs": [],
   "source": [
    "# m_cluster = 3000\n",
    "# gamma = 0.1\n",
    "# epsilon = 5*10**(-2.5)\n",
    "# delta = 0.01\n",
    "# k_cluster = 10\n",
    "# m = 200\n",
    "# r = 0.95\n",
    "# theta = np.pi/4\n",
    "# k_max = 200\n",
    "# dim = 5\n",
    "\n",
    "# def objective_function(x):\n",
    "#     f1 = 2*x[0]+x[1]+x[2]+x[3]+x[4]-6\n",
    "#     f2 = x[0]+2*x[1]+x[2]+x[3]+x[4]-6\n",
    "#     f3 = x[0]+x[1]+2*x[2]+x[3]+x[4]-6\n",
    "#     f4 = x[0]+x[1]+x[2]+2*x[3]+x[4]-6\n",
    "#     f5 = x[0]*x[1]*x[2]*x[3]*x[4]-1\n",
    "#     f_list = [f1,f2,f3,f4,f5]\n",
    "#     denom = 0\n",
    "#     for f in f_list:\n",
    "#         denom +=np.abs(f)\n",
    "#     F = 1/(1+denom)\n",
    "#     return F\n",
    "\n",
    "# boundaries = np.array([(-10,10) for _ in range (dim)])"
   ]
  },
  {
   "cell_type": "markdown",
   "metadata": {},
   "source": [
    "Supercritical Pitchfork Bifurcation"
   ]
  },
  {
   "cell_type": "code",
   "execution_count": 6,
   "metadata": {},
   "outputs": [],
   "source": [
    "# m_cluster = 300\n",
    "# gamma = 0.1\n",
    "# epsilon = 5*10**(-3)\n",
    "# delta = 0.01\n",
    "# k_cluster = 10\n",
    "# m = 200\n",
    "# r = 0.95\n",
    "# theta = np.pi/4\n",
    "# k_max = 200\n",
    "# dim=1\n",
    "# boundaries = np.array([(-9,9) for _ in range (1)])\n",
    "# d_list = np.linspace(boundaries[0][0],boundaries[0][1],31)\n",
    "# def objective_function(x):\n",
    "#     f = d_list[-1]*x-x**3\n",
    "#     f_list = [f]\n",
    "#     denom = 1\n",
    "#     for f in f_list:\n",
    "#         denom +=np.abs(f)\n",
    "#     F = 1/denom\n",
    "#     return F\n",
    "# # rsp.root_SpiralOpt(objective_function,m_cluster,gamma,epsilon,delta,k_cluster,m,r,theta,k_max,dim)"
   ]
  },
  {
   "cell_type": "code",
   "execution_count": 7,
   "metadata": {},
   "outputs": [],
   "source": [
    "\"\"\"GENERATE POINTS USING SOBOL SEQUENCE\"\"\"\n",
    "def generate_points(dim,npoint,low=-10,high=10):\n",
    "    if type(low) != type(high):\n",
    "        raise TypeError('The type of \"low\" and \"high\" should be the same.')\n",
    "    if type(low) == int:\n",
    "        boundaries = [(low,high) for _ in range (dim)]\n",
    "    elif type(low) == list or type(low) == np.ndarray:\n",
    "        if len(low) != len(high):\n",
    "            raise TypeError('The length of \"low\" and \"high\" should be the same.')\n",
    "        else:\n",
    "            boundaries = [(low[i],high[i]) for i in range (len(low))]\n",
    "\n",
    "    # Generate Sobol sequence points\n",
    "    sobol_points = sobol_seq.i4_sobol_generate(dim, npoint)\n",
    "\n",
    "    # Scale the Sobol points to fit within the specified boundaries\n",
    "    scaled_points = []\n",
    "    for i in range(dim):\n",
    "        a, b = boundaries[i]\n",
    "        scaled_dim = a + sobol_points[:, i] * (b - a)\n",
    "        scaled_points.append(scaled_dim)\n",
    "\n",
    "    # Transpose the scaled points to get points per dimension\n",
    "    scaled_points = np.array(list(map(list, zip(*scaled_points))))\n",
    "    return scaled_points\n",
    "\n",
    "\"\"\"MAXIMIZE FUNCTION\"\"\"\n",
    "def maximize(set_of_points):\n",
    "    z = []\n",
    "    z_max = 0\n",
    "    F = objective_function(set_of_points.T)\n",
    "    for i in range (len(set_of_points)):\n",
    "        if len(set_of_points.T) == 1: # ini sifat dari numpy python dimana arraynya malah dobel klo ga diginiin\n",
    "            z.append(objective_function(set_of_points.T)[0,i])\n",
    "            if z[i]>z_max:\n",
    "                z_max = z[i]\n",
    "                idx_max = i\n",
    "        else:\n",
    "            z.append(objective_function(set_of_points.T)[i])\n",
    "            if z[i]>z_max:\n",
    "                z_max = z[i]\n",
    "                idx_max = i\n",
    "    x_max = set_of_points[idx_max]\n",
    "    return z_max,idx_max,x_max\n"
   ]
  },
  {
   "cell_type": "code",
   "execution_count": 8,
   "metadata": {},
   "outputs": [
    {
     "data": {
      "text/plain": [
       "array([-1.25,  1.25])"
      ]
     },
     "execution_count": 8,
     "metadata": {},
     "output_type": "execute_result"
    }
   ],
   "source": [
    "k=0\n",
    "iter_points = {}\n",
    "iter_points[k] = generate_points(dim,m_cluster,boundaries[:,0],boundaries[:,1])\n",
    "x_prime = maximize(iter_points[0])[-1]\n",
    "x_prime"
   ]
  },
  {
   "cell_type": "code",
   "execution_count": 9,
   "metadata": {},
   "outputs": [
    {
     "data": {
      "text/plain": [
       "10.0"
      ]
     },
     "execution_count": 9,
     "metadata": {},
     "output_type": "execute_result"
    }
   ],
   "source": [
    "min_boundaries = 10**100\n",
    "for i in range (len(boundaries)):\n",
    "    abs_disc = np.abs(boundaries[i,1]-boundaries[i,0])\n",
    "    if abs_disc<=min_boundaries:\n",
    "        min_boundaries = abs_disc\n",
    "radius = min_boundaries/2\n",
    "radius"
   ]
  },
  {
   "cell_type": "code",
   "execution_count": 10,
   "metadata": {},
   "outputs": [
    {
     "name": "stdout",
     "output_type": "stream",
     "text": [
      "{0: array([-1.25,  1.25])} {0: 10.0}\n"
     ]
    }
   ],
   "source": [
    "k = 0\n",
    "cluster_center,cluster_radius = {},{}\n",
    "cluster_center[0],cluster_radius[0] = x_prime,radius\n",
    "print(cluster_center,cluster_radius)"
   ]
  },
  {
   "cell_type": "code",
   "execution_count": 11,
   "metadata": {},
   "outputs": [],
   "source": [
    "# potential_cluster_center = []\n",
    "# F = objective_function(iter_points[0].T)\n",
    "# for i in range (m_cluster):\n",
    "#     if F[i] > gamma:\n",
    "#         potential_cluster_center.append(iter_points[0][i])\n",
    "# len(potential_cluster_center)"
   ]
  },
  {
   "cell_type": "code",
   "execution_count": 12,
   "metadata": {},
   "outputs": [],
   "source": [
    "\"\"\"FUNCTION CLUSTER\"\"\"\n",
    "def function_cluster(y,lendict):\n",
    "    min_dist_cluster = 10**100\n",
    "    for ci,cc in cluster_center.items():\n",
    "        dist = np.linalg.norm(cc-y)\n",
    "        if dist<=min_dist_cluster:\n",
    "            xc = cc\n",
    "            cluster_id = ci\n",
    "            min_dist_cluster = dist\n",
    "    xt = (xc + y)/2\n",
    "    # print(xt,xc,y)\n",
    "    Fxt = objective_function(xt)\n",
    "    Fxc = objective_function(xc)\n",
    "    Fy = objective_function(y)\n",
    "    # print(Fxt,Fxc,Fy)\n",
    "    if (Fxt < Fy) & (Fxt < Fxc):\n",
    "        cluster_center[lendict] = y\n",
    "        cluster_radius[lendict] = np.linalg.norm(y-xt)\n",
    "    elif (Fxt > Fy) & (Fxt > Fxc):\n",
    "        cluster_center[lendict] = y\n",
    "        cluster_radius[lendict] = np.linalg.norm(y-xt)\n",
    "        function_cluster(xt,lendict+1)\n",
    "    elif Fy > Fxc:\n",
    "        cluster_center[cluster_id] = y\n",
    "\n",
    "    cluster_radius[cluster_id] =  np.linalg.norm(y-xt)\n",
    "    # return cluster_center,cluster_radius\n"
   ]
  },
  {
   "cell_type": "code",
   "execution_count": 13,
   "metadata": {},
   "outputs": [],
   "source": [
    "# for i in range (len(potential_cluster_center)):\n",
    "#     print(f'Titik ke-{i}')\n",
    "#     lendict = len(list(cluster_center.keys()))\n",
    "#     function_cluster(potential_cluster_center[i],lendict)\n",
    "#     print(cluster_center,cluster_radius)\n",
    "#     print('')"
   ]
  },
  {
   "cell_type": "code",
   "execution_count": 14,
   "metadata": {},
   "outputs": [
    {
     "data": {
      "text/plain": [
       "({0: array([-1.19583191,  1.28837341]),\n",
       "  1: array([-0.93828125,  0.93828125]),\n",
       "  2: array([-4.0625,  0.3125]),\n",
       "  3: array([-0.3125,  6.5625]),\n",
       "  4: array([0.16601563, 5.29101562]),\n",
       "  5: array([-0.0390625,  5.8359375]),\n",
       "  6: array([0.09765625, 5.47265625]),\n",
       "  7: array([-1.60625  ,  0.1515625]),\n",
       "  8: array([0.0859375, 2.8828125]),\n",
       "  9: array([-1.2203125,  0.0921875]),\n",
       "  10: array([0.08760742, 1.32254883]),\n",
       "  11: array([0.67659182, 0.69352808]),\n",
       "  12: array([-1.58955078,  0.43916016]),\n",
       "  13: array([0.67043704, 0.6873733 ]),\n",
       "  14: array([-0.48174316,  1.35604004]),\n",
       "  15: array([-0.18032227,  0.51875977]),\n",
       "  16: array([-0.2807959 ,  0.75319824]),\n",
       "  17: array([0.48029187, 1.18439758]),\n",
       "  18: array([0.16736938, 1.3432605 ]),\n",
       "  19: array([-0.02877454,  0.67533118]),\n",
       "  20: array([0.40910211, 0.6081185 ]),\n",
       "  21: array([0.64344914, 0.690147  ]),\n",
       "  22: array([-0.81665527,  1.5569873 ]),\n",
       "  23: array([-1.03332764,  1.40349365]),\n",
       "  24: array([-1.14166382,  1.32674683]),\n",
       "  25: array([0.28939197, 1.12076428]),\n",
       "  26: array([-0.30591431,  0.67784302]),\n",
       "  27: array([-0.2975415 ,  0.70296143]),\n",
       "  28: array([-0.55709839,  1.43139526]),\n",
       "  29: array([-0.53197998,  1.40627686]),\n",
       "  30: array([-0.82723145,  0.9964502 ]),\n",
       "  31: array([0.46438354, 0.94577271]),\n",
       "  32: array([0.56816548, 0.78456171]),\n",
       "  33: array([0.45811964, 0.91425434]),\n",
       "  34: array([0.46955375, 0.54766687]),\n",
       "  35: array([0.5502189 , 0.68765019]),\n",
       "  36: array([0.65966617, 0.68506526]),\n",
       "  37: array([0.64749834, 0.71201267]),\n",
       "  38: array([0.48650606, 0.90475905]),\n",
       "  39: array([0.47586115, 0.90831978]),\n",
       "  40: array([0.47940946, 0.90713287]),\n",
       "  41: array([0.66466693, 0.69160471]),\n",
       "  42: array([0.62720973, 0.6634223 ]),\n",
       "  43: array([0.65640657, 0.70310443]),\n",
       "  44: array([0.66774432, 0.68852733]),\n",
       "  45: array([0.66620563, 0.69006602]),\n",
       "  46: array([0.66652956, 0.68974208]),\n",
       "  47: array([0.6723604 , 0.68391124]),\n",
       "  48: array([0.6726236 , 0.68445788]),\n",
       "  49: array([0.67005236, 0.69391276]),\n",
       "  50: array([0.6592815 , 0.69852884]),\n",
       "  51: array([0.65592067, 0.70197066]),\n",
       "  52: array([0.65579919, 0.70168722]),\n",
       "  53: array([0.66082019, 0.68468059]),\n",
       "  54: array([0.67312975, 0.69699015]),\n",
       "  55: array([0.67577185, 0.69610945]),\n",
       "  56: array([0.67101405, 0.69295107])},\n",
       " {0: 0.26553194594945817,\n",
       "  1: 0.12536221647649856,\n",
       "  2: 1.4823176532039277,\n",
       "  3: 0.7763125226431034,\n",
       "  4: 1.072357229409034,\n",
       "  5: 0.38815626132155207,\n",
       "  6: 0.19407813066077603,\n",
       "  7: 0.5897297366268409,\n",
       "  8: 0.16900051031092053,\n",
       "  9: 0.21959533407677628,\n",
       "  10: 0.11039406255457403,\n",
       "  11: 0.0011443012005569347,\n",
       "  12: 0.14939116258846674,\n",
       "  13: 0.002243013909825904,\n",
       "  14: 0.07104558709216595,\n",
       "  15: 0.07926351526931702,\n",
       "  16: 0.05295425407982156,\n",
       "  17: 0.1354545080928892,\n",
       "  18: 0.08194933827545713,\n",
       "  19: 0.11957728377233509,\n",
       "  20: 0.0325015395986923,\n",
       "  21: 0.006087277811911898,\n",
       "  22: 0.26553194594945817,\n",
       "  23: 0.1327659729747291,\n",
       "  24: 0.06638298648736453,\n",
       "  25: 0.0005920465591012194,\n",
       "  26: 0.026477127039910838,\n",
       "  27: 0.026477127039910838,\n",
       "  28: 0.03552279354608306,\n",
       "  29: 0.03552279354608306,\n",
       "  30: 0.06268110823824936,\n",
       "  31: 0.0642695599570654,\n",
       "  32: 0.022700826795843548,\n",
       "  33: 0.031246437905710737,\n",
       "  34: 0.0325015395986923,\n",
       "  35: 0.02697962465113304,\n",
       "  36: 0.0020715313360389277,\n",
       "  37: 0.005121874045812135,\n",
       "  38: 0.007483102158013438,\n",
       "  39: 0.003741551079006737,\n",
       "  40: 0.003741551079006737,\n",
       "  41: 0.0016545441961097558,\n",
       "  42: 0.011373268564371524,\n",
       "  43: 0.0012335106148661926,\n",
       "  44: 0.0,\n",
       "  45: 0.0021760431223392493,\n",
       "  46: 0.00028632146346566176,\n",
       "  47: 0.0018246676288206764,\n",
       "  48: 0.002838195355881348,\n",
       "  49: 0.0013600269514620505,\n",
       "  50: 0.002192977565464013,\n",
       "  51: 0.00030837765371648256,\n",
       "  52: 0.00015418882685824128,\n",
       "  53: 0.002566093719836329,\n",
       "  54: 0.002324015073404942,\n",
       "  55: 0.0004641698354016882,\n",
       "  56: 0.0006800134757310645})"
      ]
     },
     "execution_count": 14,
     "metadata": {},
     "output_type": "execute_result"
    }
   ],
   "source": [
    "import spiralopt as spo\n",
    "\n",
    "Sn = r*spo.generate_Rn(dim,theta=theta)\n",
    "\n",
    "while k<k_cluster:\n",
    "    potential_cluster_center = []\n",
    "    F = objective_function(iter_points[k].T)\n",
    "    for i in range (m_cluster):\n",
    "        if len(iter_points[k].T) == 1:\n",
    "            fungam = F[0][i]\n",
    "        else:\n",
    "            fungam = F[i]\n",
    "        exist_in_cluster_center = any(np.linalg.norm(iter_points[k][i] - ctr) < epsilon for ctr in cluster_center[k])\n",
    "        # print(exist_in_cluster_center)\n",
    "        if (fungam > gamma) & (exist_in_cluster_center==False):\n",
    "            potential_cluster_center.append(iter_points[k][i])\n",
    "    # len(potential_cluster_center)\n",
    "    # print('')\n",
    "    for i in range (len(potential_cluster_center)):\n",
    "        # print(f'Titik ke-{i}')\n",
    "        lendict = len(list(cluster_center.keys()))\n",
    "        function_cluster(potential_cluster_center[i],lendict)\n",
    "        # print(cluster_center,cluster_radius)\n",
    "        # print('')\n",
    "    iter_points[k+1]=spo.update_point(iter_points[k],Sn,dim=len(boundaries),objective_function=objective_function)\n",
    "    k+=1\n",
    "cluster_center,cluster_radius"
   ]
  },
  {
   "cell_type": "code",
   "execution_count": 15,
   "metadata": {},
   "outputs": [
    {
     "data": {
      "image/png": "[encoded data removed]",
      "text/plain": [
       "<Figure size 640x480 with 1 Axes>"
      ]
     },
     "metadata": {},
     "output_type": "display_data"
    }
   ],
   "source": [
    "if dim != 2:\n",
    "    print(f\"Dimension {dim} can be visualized using cluster_visualization2D.\")\n",
    "\"\"\"Visualization\"\"\"\n",
    "fig, ax = plt.subplots()\n",
    "for center,radius in zip(cluster_center.values(),cluster_radius.values()):\n",
    "    circle = plt.Circle(center, radius, fill=False, linestyle='dotted', edgecolor='b')\n",
    "    ax.add_artist(circle)\n",
    "\n",
    "# Set axis limits\n",
    "ax.set_xlim(boundaries[0])\n",
    "ax.set_ylim(boundaries[1])\n",
    "# ax.autoscale_view()\n",
    "\n",
    "# # Add labels (optional)\n",
    "# for i, center in cluster_center.items():\n",
    "#     ax.text(center[0], center[1], f'Cluster {i+1}', ha='center', va='bottom')\n",
    "\n",
    "# Add a title and labels (optional)\n",
    "ax.set_title('Cluster Visualization')\n",
    "ax.set_xlabel('X-axis')\n",
    "ax.set_ylabel('Y-axis')\n",
    "\n",
    "# Show the plot\n",
    "plt.gca().set_aspect('equal', adjustable='box')  # Make the aspect ratio equal\n",
    "plt.grid(True)\n",
    "plt.show()"
   ]
  },
  {
   "cell_type": "code",
   "execution_count": 16,
   "metadata": {},
   "outputs": [],
   "source": [
    "def cluster_boundaries(center_point,radius):\n",
    "    return np.array([[center_point[i]-radius,center_point[i]+radius]for i in range (len(center_point))])"
   ]
  },
  {
   "cell_type": "code",
   "execution_count": 17,
   "metadata": {},
   "outputs": [
    {
     "data": {
      "text/plain": [
       "([[-0.9537325161667238, 1.0462740200729737],\n",
       "  [-0.9460030303251447, 1.0539845283043974],\n",
       "  [-5.439697984714359, -0.16200538903254],\n",
       "  [-0.15528539304765945, 6.439832073209614],\n",
       "  [0.16341179837299807, 6.119423929112942],\n",
       "  [0.1633270747075405, 6.122427335625973],\n",
       "  [0.1671258978604891, 5.6378510411955505],\n",
       "  [-1.2793324805427502, 0.7195240238613789],\n",
       "  [0.04762030596057782, 3.0439601370681872],\n",
       "  [-1.4141682038548533, -0.09823719221063197],\n",
       "  [0.18963089015081028, 1.3185890605017976],\n",
       "  [0.6754982431664561, 0.6928434400468767],\n",
       "  [-1.4508813056150833, 0.5394736241004501],\n",
       "  [0.6683409762396577, 0.6888730665935872],\n",
       "  [-0.5450141534498949, 1.4170909929779054],\n",
       "  [-0.10230210806972834, 0.5967798750628918],\n",
       "  [-0.326711073698906, 0.7064556981850505],\n",
       "  [0.36283092977660053, 1.064820189917363],\n",
       "  [0.22353286865017533, 1.2669690041062478],\n",
       "  [0.08345819993062373, 0.5748521364677409],\n",
       "  [0.44036089028943143, 0.5926284011988512],\n",
       "  [0.6494378162052885, 0.6961356471479125],\n",
       "  [-0.7005568285881112, 1.2979638266924018],\n",
       "  [-0.9016027997141236, 1.271768815339124],\n",
       "  [-1.0758035561184034, 1.2608865639309035],\n",
       "  [0.289968102660554, 1.1213403512373734],\n",
       "  [-0.3284698509400124, 0.6957468624946728],\n",
       "  [-0.3229844911350269, 0.69332942059886],\n",
       "  [-0.5896246880047842, 1.4045941572736325],\n",
       "  [-0.5659993656534622, 1.4265815187064794],\n",
       "  [-0.8853790399694792, 1.042405828571839],\n",
       "  [0.49220465427741317, 0.8868738627790894],\n",
       "  [0.5898481675073749, 0.7720434505319711],\n",
       "  [0.4885493085676277, 0.891413661861226],\n",
       "  [0.5015432536890322, 0.5796563286067428],\n",
       "  [0.5767734836673697, 0.714204733214177],\n",
       "  [0.6617000775673568, 0.6870991149310872],\n",
       "  [0.6505472448296522, 0.7070616685540257],\n",
       "  [0.4836780772019362, 0.8975361281213532],\n",
       "  [0.47794988063702737, 0.9047526461897865],\n",
       "  [0.4788574804046544, 0.9036076179475793],\n",
       "  [0.6662460846182816, 0.6909834998916496],\n",
       "  [0.638398774876418, 0.6746112868858547],\n",
       "  [0.6554982381818996, 0.701975653020744],\n",
       "  [0.6677443203215125, 0.6885273251471997],\n",
       "  [0.6671162803097322, 0.690102190038435],\n",
       "  [0.66680462719546, 0.6900170831313089],\n",
       "  [0.6715198005604766, 0.685652817809904],\n",
       "  [0.6702303090754884, 0.6869569133345722],\n",
       "  [0.6688760376876749, 0.6927152027148307],\n",
       "  [0.6608184611837769, 0.6965155445679854],\n",
       "  [0.6557819781059375, 0.7016752083684273],\n",
       "  [0.6558992931813389, 0.7015508365214612],\n",
       "  [0.6633396781321592, 0.6872000082319298],\n",
       "  [0.671119647409238, 0.6949437649548242],\n",
       "  [0.6753739801506097, 0.6957043523110947],\n",
       "  [0.6704275829150143, 0.6923540056941812]],\n",
       " [0.958828388592594,\n",
       "  0.97315324542882,\n",
       "  0.6154273433970244,\n",
       "  0.9999187540889521,\n",
       "  0.9970208186947436,\n",
       "  0.9998928944548661,\n",
       "  0.6828592058886834,\n",
       "  0.6000484321914882,\n",
       "  0.49510265833714534,\n",
       "  0.43373069434587264,\n",
       "  0.597126897456036,\n",
       "  0.9792482079922527,\n",
       "  0.518934810944515,\n",
       "  0.9975973394419673,\n",
       "  0.598142917741558,\n",
       "  0.5266043994717674,\n",
       "  0.5290186251938448,\n",
       "  0.6663188502316898,\n",
       "  0.6080724271057939,\n",
       "  0.5590546921521107,\n",
       "  0.692413425114218,\n",
       "  0.9621854418378368,\n",
       "  0.7007758980146307,\n",
       "  0.6133198193779921,\n",
       "  0.514281379927133,\n",
       "  0.6230740835876633,\n",
       "  0.5316075027817776,\n",
       "  0.5313309091136955,\n",
       "  0.6283001839321726,\n",
       "  0.6165573443119964,\n",
       "  0.8719767346021857,\n",
       "  0.7646510113902,\n",
       "  0.8734914655722212,\n",
       "  0.7613469934188966,\n",
       "  0.7002371481801104,\n",
       "  0.8361187616399809,\n",
       "  0.9861862812221638,\n",
       "  0.9686959151492044,\n",
       "  0.7570029984382597,\n",
       "  0.7520032196111581,\n",
       "  0.7527887544940082,\n",
       "  0.9982746151497804,\n",
       "  0.9328493385505462,\n",
       "  0.9777360357234469,\n",
       "  0.9961574627860886,\n",
       "  0.999976813249735,\n",
       "  0.9992133842112272,\n",
       "  0.991369817606284,\n",
       "  0.9938891571167119,\n",
       "  0.9913202991707288,\n",
       "  0.9877675919147438,\n",
       "  0.9782866934101042,\n",
       "  0.9785100266238155,\n",
       "  0.9888612492871457,\n",
       "  0.9834077070743872,\n",
       "  0.9778767802768858,\n",
       "  0.9910119592605626])"
      ]
     },
     "execution_count": 17,
     "metadata": {},
     "output_type": "execute_result"
    }
   ],
   "source": [
    "roots = []\n",
    "roots_values = []\n",
    "for i in range (len(cluster_center)):\n",
    "    bound = cluster_boundaries(cluster_center[i],cluster_radius[i])\n",
    "    lp = bound[:,0]\n",
    "    hp = bound[:,1]\n",
    "    root,value = spo.SpiralOpt(lp,hp,objective_function,dim=dim,npoint=m,r = r,theta=theta, iter_max=k_max, error_max = 10**(-5),random=0, show_err=False, show_objective_function=False)\n",
    "    roots.append(root)\n",
    "    roots_values.append(value)\n",
    "roots,roots_values"
   ]
  },
  {
   "cell_type": "code",
   "execution_count": 18,
   "metadata": {},
   "outputs": [
    {
     "data": {
      "text/plain": [
       "array([[-0.15528539,  6.43983207],\n",
       "       [ 0.16332707,  6.12242734],\n",
       "       [ 0.66711628,  0.69010219],\n",
       "       [ 0.66680463,  0.69001708]])"
      ]
     },
     "execution_count": 18,
     "metadata": {},
     "output_type": "execute_result"
    }
   ],
   "source": [
    "if dim == 1:\n",
    "    list_criteria = [element for sublist in roots for element in sublist] #convert from 2D array into 1D array\n",
    "else:\n",
    "    list_criteria = roots\n",
    "eligible_roots = np.array([x for x in list_criteria if (1-objective_function(x))<epsilon])\n",
    "eligible_roots"
   ]
  },
  {
   "cell_type": "code",
   "execution_count": 19,
   "metadata": {},
   "outputs": [
    {
     "data": {
      "text/plain": [
       "array([[-0.15528539,  6.43983207],\n",
       "       [ 0.16332707,  6.12242734],\n",
       "       [ 0.66711628,  0.69010219]])"
      ]
     },
     "execution_count": 19,
     "metadata": {},
     "output_type": "execute_result"
    }
   ],
   "source": [
    "duplicated_roots = []\n",
    "for i in range(len(eligible_roots)):\n",
    "    for j in range (i+1,len(eligible_roots)):\n",
    "        if np.linalg.norm(eligible_roots[i]-eligible_roots[j])<delta:\n",
    "            duplicated_roots.append([eligible_roots[i],eligible_roots[j]])\n",
    "duplicated_roots = np.unique(duplicated_roots,axis=0)\n",
    "# print(duplicated_roots)\n",
    "deselected_duplicated_roots = []\n",
    "for i in range (len(duplicated_roots)):\n",
    "    root_a = objective_function(duplicated_roots[i][0])\n",
    "    root_b = objective_function(duplicated_roots[i][1])\n",
    "    if dim == 1:\n",
    "        if root_a>root_b:\n",
    "            duplicated_root = duplicated_roots[i][1]\n",
    "        else:\n",
    "            duplicated_root = duplicated_roots[i][0]\n",
    "    else:\n",
    "        if root_a>root_b:\n",
    "            duplicated_root = list(duplicated_roots[i][1])\n",
    "        else:\n",
    "            duplicated_root = list(duplicated_roots[i][0])\n",
    "    deselected_duplicated_roots.append(duplicated_root)\n",
    "# print(deselected_duplicated_roots)\n",
    "if dim == 1:\n",
    "    # Reshape the 1D array to have one column\n",
    "    deselected_duplicated_roots = np.array(deselected_duplicated_roots).reshape(-1, 1)\n",
    "\n",
    "    # Compare the 2D array with the reshaped 1D array\n",
    "    exclude_condition = np.all(eligible_roots != deselected_duplicated_roots, axis=0)\n",
    "\n",
    "    # Use the boolean mask to filter eligible_roots\n",
    "    final_root = eligible_roots[exclude_condition]\n",
    "else:\n",
    "    if deselected_duplicated_roots:\n",
    "        exclude_condition = np.all(eligible_roots != np.array(deselected_duplicated_roots)[:, np.newaxis], axis=2).all(axis=0)\n",
    "        final_root = eligible_roots[exclude_condition]\n",
    "    else:\n",
    "        final_root = eligible_roots\n",
    "\n",
    "final_root"
   ]
  },
  {
   "cell_type": "code",
   "execution_count": 20,
   "metadata": {},
   "outputs": [
    {
     "data": {
      "image/png": "[encoded data removed]",
      "text/plain": [
       "<Figure size 640x480 with 1 Axes>"
      ]
     },
     "metadata": {},
     "output_type": "display_data"
    }
   ],
   "source": [
    "\"\"\"Visualization\"\"\"\n",
    "fig, ax = plt.subplots()\n",
    "for center,radius in zip(cluster_center.values(),cluster_radius.values()):\n",
    "    circle = plt.Circle(center, radius, fill=False, linestyle='dotted', edgecolor='b')\n",
    "    ax.add_artist(circle)\n",
    "\n",
    "# Set axis limits\n",
    "ax.set_xlim(boundaries[0])\n",
    "ax.set_ylim(boundaries[1])\n",
    "# ax.autoscale_view()\n",
    "\n",
    "# # Add labels (optional)\n",
    "# for i, center in cluster_center.items():\n",
    "#     ax.text(center[0], center[1], f'Cluster {i+1}', ha='center', va='bottom')\n",
    "\n",
    "# Add a title and labels (optional)\n",
    "ax.set_title('Cluster Visualization')\n",
    "ax.set_xlabel('X-axis')\n",
    "ax.set_ylabel('Y-axis')\n",
    "\n",
    "# Show the plot\n",
    "plt.gca().set_aspect('equal', adjustable='box')  # Make the aspect ratio equal\n",
    "plt.grid(True)\n",
    "plt.show()\n"
   ]
  }
 ],
 "metadata": {
  "kernelspec": {
   "display_name": ".venv",
   "language": "python",
   "name": "python3"
  },
  "language_info": {
   "codemirror_mode": {
    "name": "ipython",
    "version": 3
   },
   "file_extension": ".py",
   "mimetype": "text/x-python",
   "name": "python",
   "nbconvert_exporter": "python",
   "pygments_lexer": "ipython3",
   "version": "3.11.4"
  }
 },
 "nbformat": 4,
 "nbformat_minor": 2
}
