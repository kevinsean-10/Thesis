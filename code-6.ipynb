{
 "cells": [
  {
   "cell_type": "code",
   "execution_count": 41,
   "metadata": {},
   "outputs": [],
   "source": [
    "import numpy as np\n",
    "import matplotlib.pyplot as plt\n",
    "import rspiropt as rsp"
   ]
  },
  {
   "cell_type": "code",
   "execution_count": 42,
   "metadata": {},
   "outputs": [
    {
     "data": {
      "text/plain": [
       "array([[-9,  9],\n",
       "       [-3,  3]])"
      ]
     },
     "execution_count": 42,
     "metadata": {},
     "output_type": "execute_result"
    }
   ],
   "source": [
    "m_cluster = 500 #how many cluster center candidate points--> the spread of the clusters\n",
    "gamma = 0.1\n",
    "epsilon = 10**(-4)\n",
    "delta = 0.01\n",
    "k_cluster = 10 #max iteration at the clustering phase\n",
    "m = 100 #how many points in a cluster --> the accuracy\n",
    "r = 0.9\n",
    "theta = np.pi/4\n",
    "k_max = 200 #max iteration at the SDOA phase\n",
    "dim=2\n",
    "boundaries = np.array([[-9,9],[-3,3]])\n",
    "boundaries"
   ]
  },
  {
   "cell_type": "code",
   "execution_count": 43,
   "metadata": {},
   "outputs": [],
   "source": [
    "# def objective_function(X):\n",
    "#     f1 =(X[0]**2+X[0]*X[1]-6)\n",
    "#     f2 =(X[0]**2+X[1]**3+2*X[0]*X[1]**2-3)\n",
    "#     f_list = [f1,f2]\n",
    "#     denom = 1\n",
    "#     for f in f_list:\n",
    "#         denom +=np.abs(f)\n",
    "#     F = 1/denom\n",
    "#     return F"
   ]
  },
  {
   "cell_type": "markdown",
   "metadata": {},
   "source": [
    "Saddle Note Bifurcation"
   ]
  },
  {
   "cell_type": "code",
   "execution_count": 44,
   "metadata": {},
   "outputs": [],
   "source": [
    "# def objective_function(X):\n",
    "#     f1 = X[0]+X[1]**2 #-2*x\n",
    "#     f_list = [f1]\n",
    "#     denom = 1\n",
    "#     for f in f_list:\n",
    "#         denom +=np.abs(f)\n",
    "#     F = 1/denom\n",
    "#     return F"
   ]
  },
  {
   "cell_type": "markdown",
   "metadata": {},
   "source": [
    "Transcritical Bifurcation"
   ]
  },
  {
   "cell_type": "code",
   "execution_count": 45,
   "metadata": {},
   "outputs": [],
   "source": [
    "# # X : (d,x)\n",
    "# def objective_function(X):\n",
    "#     f1 = X[0]*X[1]+X[1]**2 #+2\n",
    "#     f_list = [f1]\n",
    "#     denom = 1\n",
    "#     for f in f_list:\n",
    "#         denom +=np.abs(f)\n",
    "#     F = 1/denom\n",
    "#     return F"
   ]
  },
  {
   "cell_type": "markdown",
   "metadata": {},
   "source": [
    "Supercritical Pitchfork Bifurcation"
   ]
  },
  {
   "cell_type": "code",
   "execution_count": 46,
   "metadata": {},
   "outputs": [],
   "source": [
    "# X : (d,x)\n",
    "def objective_function(X):\n",
    "    f1 = X[0]*X[1]+X[1]**3 #+2\n",
    "    f_list = [f1]\n",
    "    denom = 1\n",
    "    for f in f_list:\n",
    "        denom +=np.abs(f)\n",
    "    F = 1/denom\n",
    "    return F\n"
   ]
  },
  {
   "cell_type": "code",
   "execution_count": 47,
   "metadata": {},
   "outputs": [
    {
     "data": {
      "image/png": "[encoded data removed]",
      "text/plain": [
       "<Figure size 640x480 with 1 Axes>"
      ]
     },
     "metadata": {},
     "output_type": "display_data"
    },
    {
     "data": {
      "text/plain": [
       "array([[-3.55593949e-08,  7.73030324e-09],\n",
       "       [-2.32520923e+00, -1.52486359e+00],\n",
       "       [-6.11886275e+00,  1.46416355e-06],\n",
       "       [-5.54834189e+00,  2.35549041e+00],\n",
       "       [-8.51439841e+00, -2.91794104e+00],\n",
       "       [-7.87500005e+00,  9.83053959e-09],\n",
       "       [-4.07109331e+00, -2.96704924e-08],\n",
       "       [-5.48152878e+00, -2.34126324e+00],\n",
       "       [-3.09759900e+00, -2.62343471e-06],\n",
       "       [-1.83199201e+00, -9.71057143e-09],\n",
       "       [-2.67945399e+00,  1.63690495e+00],\n",
       "       [-9.55002494e-01,  9.77241457e-01],\n",
       "       [-6.11264594e+00, -2.47237657e+00],\n",
       "       [-6.46229890e+00,  2.54210601e+00],\n",
       "       [-6.16404082e+00, -4.23272856e-07],\n",
       "       [-1.18070027e+00, -1.99401805e-06],\n",
       "       [-2.75348608e+00,  1.39168008e-06],\n",
       "       [-3.62364373e+00, -1.13549205e-06],\n",
       "       [-9.21134246e+00,  3.03501919e+00],\n",
       "       [-7.63058688e+00,  2.76235217e+00],\n",
       "       [-7.91513120e+00,  2.81338446e+00],\n",
       "       [-7.08216258e+00, -2.66123331e+00],\n",
       "       [-3.05443351e+00, -2.37531101e-07],\n",
       "       [-5.28150528e+00,  2.29815316e+00],\n",
       "       [-5.70016538e+00,  2.38750170e+00],\n",
       "       [-5.43761549e+00,  2.33187134e+00],\n",
       "       [-5.44744558e+00,  2.33397661e+00],\n",
       "       [-6.32812544e-01,  9.65558038e-09],\n",
       "       [-5.39957642e+00, -2.32369768e+00],\n",
       "       [-1.02476309e+00,  1.01230730e+00],\n",
       "       [-9.71452388e-01,  9.85622547e-01],\n",
       "       [-4.89900060e-02,  2.21331585e-01],\n",
       "       [-5.56203955e-02,  2.35839363e-01],\n",
       "       [-2.79739941e-01,  5.28905341e-01],\n",
       "       [-1.26057176e+00, -1.12275399e+00],\n",
       "       [-1.10028354e+00, -1.04894353e+00],\n",
       "       [-6.09014117e-01, -7.80393576e-01],\n",
       "       [-5.86786819e-01, -7.66018216e-01],\n",
       "       [-5.03751466e-01,  7.09760086e-01],\n",
       "       [-3.31470636e-01,  5.75731559e-01],\n",
       "       [-4.47994176e-01,  6.69320614e-01],\n",
       "       [-2.77382250e+00, -4.28227370e-07],\n",
       "       [-1.63063690e+00, -1.08868817e-06],\n",
       "       [-4.83728945e-01, -6.95505392e-01],\n",
       "       [-1.65285836e+00, -1.28563725e+00],\n",
       "       [-1.49774699e+00, -1.22382424e+00],\n",
       "       [-1.28234654e+00, -1.13240879e+00],\n",
       "       [-2.84765685e-01,  1.31338550e-08],\n",
       "       [-8.40058634e-01,  8.73839817e-09],\n",
       "       [-1.24195120e+00, -1.40290294e-07],\n",
       "       [-1.75475035e-01, -4.18898535e-01],\n",
       "       [-1.28286397e-01, -3.58167764e-01],\n",
       "       [-3.35414036e-01, -3.23023091e-07],\n",
       "       [-1.94378501e-01,  2.45926239e-06],\n",
       "       [-5.73340571e-02, -2.39443921e-01],\n",
       "       [-1.44494281e-01, -3.80127777e-01],\n",
       "       [-1.53244455e-01, -3.91456451e-01],\n",
       "       [-1.28144576e-01,  9.65558038e-09],\n",
       "       [-7.52791191e-01,  2.68665837e-06],\n",
       "       [-4.32741080e-01, -1.35587038e-06],\n",
       "       [-4.93356478e-01,  7.19769039e-09],\n",
       "       [-5.78417765e-03,  7.60276728e-02],\n",
       "       [-4.34394656e-02,  2.08420675e-01],\n",
       "       [-5.40473659e-01, -1.69655936e-06],\n",
       "       [-5.25798059e-01, -8.70669868e-07],\n",
       "       [-7.77688704e-01, -2.87395383e-07],\n",
       "       [-9.83044034e-03, -9.91451037e-02],\n",
       "       [-5.09267038e-01, -1.80487445e-06],\n",
       "       [-6.82033288e-03, -8.25642044e-02],\n",
       "       [ 3.25668376e-01, -1.24877326e-06],\n",
       "       [ 2.37450668e-01, -2.17991300e-07],\n",
       "       [-7.51210855e-02, -1.52967392e-07],\n",
       "       [ 2.64568608e-01,  1.73135517e-06],\n",
       "       [ 1.39213351e-01,  2.33475386e-07],\n",
       "       [ 9.14934889e-02, -4.15788849e-07],\n",
       "       [-3.68090718e-01, -3.38333326e-07],\n",
       "       [-1.57566646e-01, -2.22048901e-07],\n",
       "       [ 1.50606736e-01,  1.45416591e-06],\n",
       "       [ 3.46205880e-01, -2.66098043e-07],\n",
       "       [-2.88618538e-03,  5.37096800e-02],\n",
       "       [ 2.18165134e-01,  7.62452423e-08],\n",
       "       [-2.11633854e-01,  1.99578896e-06],\n",
       "       [-2.37601838e-01,  1.26852253e-07],\n",
       "       [-1.78476411e-03,  4.22584336e-02],\n",
       "       [-2.22010456e-01,  1.21606276e-08],\n",
       "       [-3.38026118e-02, -2.10840183e-07],\n",
       "       [-1.33112439e-02,  1.15375967e-01],\n",
       "       [-8.53146909e-02, -5.47064897e-04],\n",
       "       [ 1.06821000e-01,  7.68433457e-08],\n",
       "       [-2.37708844e-03, -4.87495515e-02],\n",
       "       [-9.99047242e-02,  9.57676254e-09],\n",
       "       [ 7.65502989e-02,  8.78388464e-09],\n",
       "       [ 5.57908697e-02,  1.20870973e-08],\n",
       "       [ 1.64777787e-01,  1.34636010e-08],\n",
       "       [-5.09256142e-02, -1.67858566e-07],\n",
       "       [ 4.57610357e-02,  1.77092951e-07],\n",
       "       [-4.82340607e-04,  2.19653270e-02],\n",
       "       [ 3.33674840e-02,  6.61306383e-09]])"
      ]
     },
     "execution_count": 47,
     "metadata": {},
     "output_type": "execute_result"
    }
   ],
   "source": [
    "set_of_points = rsp.root_SpiralOpt(objective_function,m_cluster,gamma,epsilon,delta,k_cluster,m,r,theta,k_max,dim,boundaries,cluster_visualization2D=True,random=10)\n",
    "set_of_points"
   ]
  },
  {
   "cell_type": "code",
   "execution_count": 48,
   "metadata": {},
   "outputs": [
    {
     "data": {
      "image/png": "[encoded data removed]",
      "text/plain": [
       "<Figure size 640x480 with 1 Axes>"
      ]
     },
     "metadata": {},
     "output_type": "display_data"
    }
   ],
   "source": [
    "\"\"\"Visualization\"\"\"\n",
    "\n",
    "plt.scatter(x=set_of_points[:,0], y=set_of_points[:,1],marker='.',c='blue')\n",
    "\n",
    "# Add labels and a title\n",
    "plt.xlabel('d')\n",
    "plt.ylabel('x')\n",
    "plt.title('Bifurcation Diagram')\n",
    "plt.xlim(boundaries[0])\n",
    "plt.ylim(boundaries[1])\n",
    "plt.gca().set_aspect('equal', adjustable='box')  # Make the aspect ratio equal\n",
    "# Show the plot\n",
    "plt.grid(True)\n",
    "plt.show()\n"
   ]
  }
 ],
 "metadata": {
  "kernelspec": {
   "display_name": ".venv",
   "language": "python",
   "name": "python3"
  },
  "language_info": {
   "codemirror_mode": {
    "name": "ipython",
    "version": 3
   },
   "file_extension": ".py",
   "mimetype": "text/x-python",
   "name": "python",
   "nbconvert_exporter": "python",
   "pygments_lexer": "ipython3",
   "version": "3.11.4"
  }
 },
 "nbformat": 4,
 "nbformat_minor": 2
}
