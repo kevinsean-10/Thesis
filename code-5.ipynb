{
 "cells": [
  {
   "cell_type": "markdown",
   "metadata": {},
   "source": [
    "# Bifurcation 1D"
   ]
  },
  {
   "cell_type": "code",
   "execution_count": 7,
   "metadata": {},
   "outputs": [],
   "source": [
    "import numpy as np\n",
    "import matplotlib.pyplot as plt\n",
    "import rspiropt as rsp"
   ]
  },
  {
   "cell_type": "code",
   "execution_count": 8,
   "metadata": {},
   "outputs": [
    {
     "data": {
      "text/plain": [
       "array([-9.  , -8.55, -8.1 , -7.65, -7.2 , -6.75, -6.3 , -5.85, -5.4 ,\n",
       "       -4.95, -4.5 , -4.05, -3.6 , -3.15, -2.7 , -2.25, -1.8 , -1.35,\n",
       "       -0.9 , -0.45,  0.  ,  0.45,  0.9 ,  1.35,  1.8 ,  2.25,  2.7 ,\n",
       "        3.15,  3.6 ,  4.05,  4.5 ,  4.95,  5.4 ,  5.85,  6.3 ,  6.75,\n",
       "        7.2 ,  7.65,  8.1 ,  8.55,  9.  ])"
      ]
     },
     "execution_count": 8,
     "metadata": {},
     "output_type": "execute_result"
    }
   ],
   "source": [
    "m_cluster = 300\n",
    "gamma = 0.1\n",
    "epsilon = 5*10**(-3)\n",
    "delta = 0.01\n",
    "k_cluster = 10\n",
    "m = 200\n",
    "r = 0.95\n",
    "theta = np.pi/4\n",
    "k_max = 200\n",
    "dim=1\n",
    "boundaries = np.array([(-9,9) for _ in range (1)])\n",
    "d_list = np.linspace(boundaries[0][0],boundaries[0][1],41)\n",
    "d_list"
   ]
  },
  {
   "cell_type": "code",
   "execution_count": 9,
   "metadata": {},
   "outputs": [],
   "source": [
    "# def objective_function(x):\n",
    "#     f = d_list[-1]*x-x**3\n",
    "#     f_list = [f]\n",
    "#     denom = 1\n",
    "#     for f in f_list:\n",
    "#         denom +=np.abs(f)\n",
    "#     F = 1/denom\n",
    "#     return F\n",
    "# rsp.root_SpiralOpt(objective_function,m_cluster,gamma,epsilon,delta,k_cluster,m,r,theta,k_max,dim)"
   ]
  },
  {
   "cell_type": "markdown",
   "metadata": {},
   "source": [
    "Saddle Note Bifurcation"
   ]
  },
  {
   "cell_type": "code",
   "execution_count": 10,
   "metadata": {},
   "outputs": [],
   "source": [
    "# d_roots = {}\n",
    "# for i,d in enumerate(d_list):  \n",
    "#     def objective_function(x):\n",
    "#         f = d+x**2 #-2*x\n",
    "#         f_list = [f]\n",
    "#         denom = 1\n",
    "#         for f in f_list:\n",
    "#             denom +=np.abs(f)\n",
    "#         F = 1/denom\n",
    "#         return F\n",
    "#     d_roots[i] = [d,rsp.root_SpiralOpt(objective_function,m_cluster,gamma,epsilon,delta,k_cluster,m,r,theta,k_max,dim,boundaries,random=100)]\n",
    "# d_roots"
   ]
  },
  {
   "cell_type": "markdown",
   "metadata": {},
   "source": [
    "Transcritical Bifurcation"
   ]
  },
  {
   "cell_type": "code",
   "execution_count": 11,
   "metadata": {},
   "outputs": [],
   "source": [
    "# d_roots = {}\n",
    "# for i,d in enumerate(d_list):  \n",
    "#     def objective_function(x):\n",
    "#         f = d*x+x**2 #+2\n",
    "#         f_list = [f]\n",
    "#         denom = 1\n",
    "#         for f in f_list:\n",
    "#             denom +=np.abs(f)\n",
    "#         F = 1/denom\n",
    "#         return F\n",
    "#     d_roots[i] = [d,rsp.root_SpiralOpt(objective_function,m_cluster,gamma,epsilon,delta,k_cluster,m,r,theta,k_max,dim,boundaries)]\n",
    "# d_roots"
   ]
  },
  {
   "cell_type": "markdown",
   "metadata": {},
   "source": [
    "Supercritical Pitchfork Bifurcation"
   ]
  },
  {
   "cell_type": "code",
   "execution_count": 12,
   "metadata": {},
   "outputs": [
    {
     "data": {
      "text/plain": [
       "{0: [-9.0, array([-1.01355955e-07, -3.00000000e+00,  3.00000000e+00])],\n",
       " 1: [-8.55, array([ 0.        , -2.92403438,  2.92404108])],\n",
       " 2: [-8.1, array([ 0.        ,  2.84604873, -2.84605016])],\n",
       " 3: [-7.65, array([ 0.        ,  2.76586306, -2.76586309])],\n",
       " 4: [-7.2, array([ 0.        , -2.68328101,  2.68328112])],\n",
       " 5: [-6.75, array([ 0.        ,  2.59807587, -2.59807626])],\n",
       " 6: [-6.3, array([ 0.        , -2.5099785 ,  2.50998496])],\n",
       " 7: [-5.85, array([-1.01355955e-07, -2.41867508e+00,  2.41867727e+00])],\n",
       " 8: [-5.4, array([-1.01355955e-07,  2.32378881e+00, -2.32378985e+00])],\n",
       " 9: [-4.95, array([-1.01355955e-07,  2.22485933e+00, -2.22485952e+00])],\n",
       " 10: [-4.5, array([-1.01355955e-07,  2.12131970e+00, -2.12131986e+00])],\n",
       " 11: [-4.05, array([ 0.        , -2.01246079,  2.01245881])],\n",
       " 12: [-3.5999999999999996, array([ 0.        ,  1.89736868, -1.89736894])],\n",
       " 13: [-3.1499999999999995,\n",
       "  array([-1.01355955e-07,  1.77482539e+00, -1.77482456e+00])],\n",
       " 14: [-2.7, array([-1.01355955e-07, -1.64316716e+00,  1.64316792e+00])],\n",
       " 15: [-2.25, array([-1.01355955e-07, -1.50000000e+00,  1.50000000e+00])],\n",
       " 16: [-1.7999999999999998, array([ 0.        , -1.34163914,  1.34163966])],\n",
       " 17: [-1.3499999999999996,\n",
       "  array([-1.01355955e-07,  1.16189474e+00, -1.16189481e+00])],\n",
       " 18: [-0.9000000000000004, array([ 0.        ,  0.94868267, -0.94868169])],\n",
       " 19: [-0.4499999999999993, array([ 0.        , -0.67081914,  0.67081841])],\n",
       " 20: [0.0, array([-1.01355955e-07])],\n",
       " 21: [0.45000000000000107, array([-1.01355955e-07])],\n",
       " 22: [0.9000000000000004, array([-1.01355955e-07])],\n",
       " 23: [1.3499999999999996, array([-1.01355955e-07])],\n",
       " 24: [1.8000000000000007, array([-1.01355955e-07])],\n",
       " 25: [2.25, array([-1.01355955e-07])],\n",
       " 26: [2.700000000000001, array([-1.01355955e-07])],\n",
       " 27: [3.1500000000000004, array([-1.01355955e-07])],\n",
       " 28: [3.5999999999999996, array([-1.01355955e-07])],\n",
       " 29: [4.050000000000001, array([-1.01355955e-07])],\n",
       " 30: [4.5, array([-1.01355955e-07])],\n",
       " 31: [4.950000000000001, array([-1.01355955e-07])],\n",
       " 32: [5.4, array([-1.01355955e-07])],\n",
       " 33: [5.85, array([-1.01355955e-07])],\n",
       " 34: [6.300000000000001, array([-1.01355955e-07])],\n",
       " 35: [6.75, array([-1.01355955e-07])],\n",
       " 36: [7.199999999999999, array([-1.01355955e-07])],\n",
       " 37: [7.650000000000002, array([-1.01355955e-07])],\n",
       " 38: [8.100000000000001, array([-1.01355955e-07])],\n",
       " 39: [8.55, array([-1.01355955e-07])],\n",
       " 40: [9.0, array([-1.01355955e-07])]}"
      ]
     },
     "execution_count": 12,
     "metadata": {},
     "output_type": "execute_result"
    }
   ],
   "source": [
    "d_roots = {}\n",
    "for i,d in enumerate(d_list):  \n",
    "    def objective_function(x):\n",
    "        f = d*x+x**3 #+2\n",
    "        f_list = [f]\n",
    "        denom = 1\n",
    "        for f in f_list:\n",
    "            denom +=np.abs(f)\n",
    "        F = 1/denom\n",
    "        return F\n",
    "    d_roots[i] = [d,rsp.root_SpiralOpt(objective_function,m_cluster,gamma,epsilon,delta,k_cluster,m,r,theta,k_max,dim,boundaries)]\n",
    "d_roots"
   ]
  },
  {
   "cell_type": "code",
   "execution_count": 13,
   "metadata": {},
   "outputs": [
    {
     "data": {
      "text/plain": [
       "array([[ 0.00000000e+00,  0.00000000e+00],\n",
       "       [-9.00000000e+00, -1.01355955e-07],\n",
       "       [-9.00000000e+00, -3.00000000e+00],\n",
       "       [-9.00000000e+00,  3.00000000e+00],\n",
       "       [-8.55000000e+00,  0.00000000e+00],\n",
       "       [-8.55000000e+00, -2.92403438e+00],\n",
       "       [-8.55000000e+00,  2.92404108e+00],\n",
       "       [-8.10000000e+00,  0.00000000e+00],\n",
       "       [-8.10000000e+00,  2.84604873e+00],\n",
       "       [-8.10000000e+00, -2.84605016e+00],\n",
       "       [-7.65000000e+00,  0.00000000e+00],\n",
       "       [-7.65000000e+00,  2.76586306e+00],\n",
       "       [-7.65000000e+00, -2.76586309e+00],\n",
       "       [-7.20000000e+00,  0.00000000e+00],\n",
       "       [-7.20000000e+00, -2.68328101e+00],\n",
       "       [-7.20000000e+00,  2.68328112e+00],\n",
       "       [-6.75000000e+00,  0.00000000e+00],\n",
       "       [-6.75000000e+00,  2.59807587e+00],\n",
       "       [-6.75000000e+00, -2.59807626e+00],\n",
       "       [-6.30000000e+00,  0.00000000e+00],\n",
       "       [-6.30000000e+00, -2.50997850e+00],\n",
       "       [-6.30000000e+00,  2.50998496e+00],\n",
       "       [-5.85000000e+00, -1.01355955e-07],\n",
       "       [-5.85000000e+00, -2.41867508e+00],\n",
       "       [-5.85000000e+00,  2.41867727e+00],\n",
       "       [-5.40000000e+00, -1.01355955e-07],\n",
       "       [-5.40000000e+00,  2.32378881e+00],\n",
       "       [-5.40000000e+00, -2.32378985e+00],\n",
       "       [-4.95000000e+00, -1.01355955e-07],\n",
       "       [-4.95000000e+00,  2.22485933e+00],\n",
       "       [-4.95000000e+00, -2.22485952e+00],\n",
       "       [-4.50000000e+00, -1.01355955e-07],\n",
       "       [-4.50000000e+00,  2.12131970e+00],\n",
       "       [-4.50000000e+00, -2.12131986e+00],\n",
       "       [-4.05000000e+00,  0.00000000e+00],\n",
       "       [-4.05000000e+00, -2.01246079e+00],\n",
       "       [-4.05000000e+00,  2.01245881e+00],\n",
       "       [-3.60000000e+00,  0.00000000e+00],\n",
       "       [-3.60000000e+00,  1.89736868e+00],\n",
       "       [-3.60000000e+00, -1.89736894e+00],\n",
       "       [-3.15000000e+00, -1.01355955e-07],\n",
       "       [-3.15000000e+00,  1.77482539e+00],\n",
       "       [-3.15000000e+00, -1.77482456e+00],\n",
       "       [-2.70000000e+00, -1.01355955e-07],\n",
       "       [-2.70000000e+00, -1.64316716e+00],\n",
       "       [-2.70000000e+00,  1.64316792e+00],\n",
       "       [-2.25000000e+00, -1.01355955e-07],\n",
       "       [-2.25000000e+00, -1.50000000e+00],\n",
       "       [-2.25000000e+00,  1.50000000e+00],\n",
       "       [-1.80000000e+00,  0.00000000e+00],\n",
       "       [-1.80000000e+00, -1.34163914e+00],\n",
       "       [-1.80000000e+00,  1.34163966e+00],\n",
       "       [-1.35000000e+00, -1.01355955e-07],\n",
       "       [-1.35000000e+00,  1.16189474e+00],\n",
       "       [-1.35000000e+00, -1.16189481e+00],\n",
       "       [-9.00000000e-01,  0.00000000e+00],\n",
       "       [-9.00000000e-01,  9.48682674e-01],\n",
       "       [-9.00000000e-01, -9.48681685e-01],\n",
       "       [-4.50000000e-01,  0.00000000e+00],\n",
       "       [-4.50000000e-01, -6.70819140e-01],\n",
       "       [-4.50000000e-01,  6.70818411e-01],\n",
       "       [ 0.00000000e+00, -1.01355955e-07],\n",
       "       [ 4.50000000e-01, -1.01355955e-07],\n",
       "       [ 9.00000000e-01, -1.01355955e-07],\n",
       "       [ 1.35000000e+00, -1.01355955e-07],\n",
       "       [ 1.80000000e+00, -1.01355955e-07],\n",
       "       [ 2.25000000e+00, -1.01355955e-07],\n",
       "       [ 2.70000000e+00, -1.01355955e-07],\n",
       "       [ 3.15000000e+00, -1.01355955e-07],\n",
       "       [ 3.60000000e+00, -1.01355955e-07],\n",
       "       [ 4.05000000e+00, -1.01355955e-07],\n",
       "       [ 4.50000000e+00, -1.01355955e-07],\n",
       "       [ 4.95000000e+00, -1.01355955e-07],\n",
       "       [ 5.40000000e+00, -1.01355955e-07],\n",
       "       [ 5.85000000e+00, -1.01355955e-07],\n",
       "       [ 6.30000000e+00, -1.01355955e-07],\n",
       "       [ 6.75000000e+00, -1.01355955e-07],\n",
       "       [ 7.20000000e+00, -1.01355955e-07],\n",
       "       [ 7.65000000e+00, -1.01355955e-07],\n",
       "       [ 8.10000000e+00, -1.01355955e-07],\n",
       "       [ 8.55000000e+00, -1.01355955e-07],\n",
       "       [ 9.00000000e+00, -1.01355955e-07]])"
      ]
     },
     "execution_count": 13,
     "metadata": {},
     "output_type": "execute_result"
    }
   ],
   "source": [
    "set_of_points = np.zeros((2))\n",
    "for i in range(len(d_roots)):\n",
    "    set_of_points=np.vstack((set_of_points,np.column_stack((np.full(len(d_roots[i][1]),d_roots[i][0]),d_roots[i][1]))))\n",
    "set_of_points"
   ]
  },
  {
   "cell_type": "code",
   "execution_count": 14,
   "metadata": {},
   "outputs": [
    {
     "data": {
      "image/png": "[encoded data removed]",
      "text/plain": [
       "<Figure size 640x480 with 1 Axes>"
      ]
     },
     "metadata": {},
     "output_type": "display_data"
    }
   ],
   "source": [
    "\"\"\"Visualization\"\"\"\n",
    "\n",
    "plt.scatter(x=set_of_points[:,0], y=set_of_points[:,1],marker='.',c='blue')\n",
    "\n",
    "# Add labels and a title\n",
    "plt.xlabel('d')\n",
    "plt.ylabel('x')\n",
    "plt.title('Bifurcation Diagram')\n",
    "\n",
    "# Show the plot\n",
    "plt.grid(True)\n",
    "plt.show()\n"
   ]
  },
  {
   "cell_type": "code",
   "execution_count": 15,
   "metadata": {},
   "outputs": [],
   "source": [
    "# # creating 3d bar plot using matplotlib \n",
    "# # in python\n",
    "\n",
    "# # to interact with plot\n",
    "# %matplotlib widget\n",
    "\n",
    "# # importing required libraries\n",
    "# from mpl_toolkits.mplot3d import Axes3D\n",
    "# import matplotlib.pyplot as plt\n",
    "# import numpy as np\n",
    "\n",
    "# # creating random dataset\n",
    "# xs = [2, 3, 4, 5, 1, 6, 2, 1, 7, 2]\n",
    "# ys = [1, 2, 3, 4, 5, 6, 7, 8, 9, 10]\n",
    "# zs = np.zeros(10)\n",
    "# dx = np.ones(10)\n",
    "# dy = np.ones(10)\n",
    "# dz = [1, 2, 3, 4, 5, 6, 7, 8, 9, 10]\n",
    "\n",
    "# # creating figure\n",
    "# figg = plt.figure()\n",
    "# ax = figg.add_subplot(111, projection='3d')\n",
    "\n",
    "# # creating the plot\n",
    "# plot_geeks = ax.bar3d(xs, ys, zs, dx, \n",
    "# \t\t\t\t\tdy, dz, color='green')\n",
    "\n",
    "# # setting title and labels\n",
    "# ax.set_title(\"3D bar plot\")\n",
    "# ax.set_xlabel('x-axis')\n",
    "# ax.set_ylabel('y-axis')\n",
    "# ax.set_zlabel('z-axis')\n",
    "\n",
    "# # displaying the plot\n",
    "# plt.show()\n"
   ]
  }
 ],
 "metadata": {
  "kernelspec": {
   "display_name": ".venv",
   "language": "python",
   "name": "python3"
  },
  "language_info": {
   "codemirror_mode": {
    "name": "ipython",
    "version": 3
   },
   "file_extension": ".py",
   "mimetype": "text/x-python",
   "name": "python",
   "nbconvert_exporter": "python",
   "pygments_lexer": "ipython3",
   "version": "3.11.4"
  }
 },
 "nbformat": 4,
 "nbformat_minor": 2
}
