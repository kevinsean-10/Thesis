{
 "cells": [
  {
   "cell_type": "markdown",
   "metadata": {},
   "source": [
    "# Bifurcation 1D"
   ]
  },
  {
   "cell_type": "code",
   "execution_count": 31,
   "metadata": {},
   "outputs": [],
   "source": [
    "import numpy as np\n",
    "import matplotlib.pyplot as plt\n",
    "import rspiropt as rsp"
   ]
  },
  {
   "cell_type": "code",
   "execution_count": 32,
   "metadata": {},
   "outputs": [
    {
     "data": {
      "text/plain": [
       "array([-9. , -8.4, -7.8, -7.2, -6.6, -6. , -5.4, -4.8, -4.2, -3.6, -3. ,\n",
       "       -2.4, -1.8, -1.2, -0.6,  0. ,  0.6,  1.2,  1.8,  2.4,  3. ,  3.6,\n",
       "        4.2,  4.8,  5.4,  6. ,  6.6,  7.2,  7.8,  8.4,  9. ])"
      ]
     },
     "execution_count": 32,
     "metadata": {},
     "output_type": "execute_result"
    }
   ],
   "source": [
    "m_cluster = 300\n",
    "gamma = 0.1\n",
    "epsilon = 5*10**(-3)\n",
    "delta = 0.01\n",
    "k_cluster = 10\n",
    "m = 200\n",
    "r = 0.95\n",
    "theta = np.pi/4\n",
    "k_max = 200\n",
    "dim=1\n",
    "boundaries = np.array([(-9,9) for _ in range (1)])\n",
    "d_list = np.linspace(boundaries[0][0],boundaries[0][1],31)\n",
    "d_list"
   ]
  },
  {
   "cell_type": "code",
   "execution_count": 33,
   "metadata": {},
   "outputs": [],
   "source": [
    "# def objective_function(x):\n",
    "#     f = d_list[-1]*x-x**3\n",
    "#     f_list = [f]\n",
    "#     denom = 1\n",
    "#     for f in f_list:\n",
    "#         denom +=np.abs(f)\n",
    "#     F = 1/denom\n",
    "#     return F\n",
    "# rsp.root_SpiralOpt(objective_function,m_cluster,gamma,epsilon,delta,k_cluster,m,r,theta,k_max,dim)"
   ]
  },
  {
   "cell_type": "markdown",
   "metadata": {},
   "source": [
    "Saddle Note Bifurcation"
   ]
  },
  {
   "cell_type": "code",
   "execution_count": 34,
   "metadata": {},
   "outputs": [],
   "source": [
    "# d_roots = {}\n",
    "# for i,d in enumerate(d_list):  \n",
    "#     def objective_function(x):\n",
    "#         f = d+x**2 #-2*x\n",
    "#         f_list = [f]\n",
    "#         denom = 1\n",
    "#         for f in f_list:\n",
    "#             denom +=np.abs(f)\n",
    "#         F = 1/denom\n",
    "#         return F\n",
    "#     d_roots[i] = [d,rsp.root_SpiralOpt(objective_function,m_cluster,gamma,epsilon,delta,k_cluster,m,r,theta,k_max,dim)]\n",
    "# d_roots"
   ]
  },
  {
   "cell_type": "markdown",
   "metadata": {},
   "source": [
    "Transcritical Bifurcation"
   ]
  },
  {
   "cell_type": "code",
   "execution_count": 35,
   "metadata": {},
   "outputs": [],
   "source": [
    "# d_roots = {}\n",
    "# for i,d in enumerate(d_list):  \n",
    "#     def objective_function(x):\n",
    "#         f = d*x+x**2 #+2\n",
    "#         f_list = [f]\n",
    "#         denom = 1\n",
    "#         for f in f_list:\n",
    "#             denom +=np.abs(f)\n",
    "#         F = 1/denom\n",
    "#         return F\n",
    "#     d_roots[i] = [d,rsp.root_SpiralOpt(objective_function,m_cluster,gamma,epsilon,delta,k_cluster,m,r,theta,k_max,dim)]\n",
    "# d_roots"
   ]
  },
  {
   "cell_type": "markdown",
   "metadata": {},
   "source": [
    "Supercritical Pitchfork Bifurcation"
   ]
  },
  {
   "cell_type": "code",
   "execution_count": 36,
   "metadata": {},
   "outputs": [
    {
     "data": {
      "text/plain": [
       "{0: [-9.0, array([-1.12617728e-07, -2.99999511e+00,  2.99999765e+00])],\n",
       " 1: [-8.4, array([ 0.        , -2.89827157,  2.89827139])],\n",
       " 2: [-7.8, array([ 0.        , -2.79284713,  2.79285247])],\n",
       " 3: [-7.2, array([-1.12617728e-07, -2.68327989e+00,  2.68327981e+00])],\n",
       " 4: [-6.6, array([-1.12617728e-07, -2.56904750e+00,  2.56904670e+00])],\n",
       " 5: [-6.0, array([-1.12617728e-07,  2.44948913e+00, -2.44948947e+00])],\n",
       " 6: [-5.4, array([-1.12617728e-07, -2.32379027e+00,  2.32379005e+00])],\n",
       " 7: [-4.8, array([ 0.        , -2.19089023,  2.19088899])],\n",
       " 8: [-4.2, array([ 0.        ,  2.0493892 , -2.04939106])],\n",
       " 9: [-3.6000000000000005,\n",
       "  array([-1.12617728e-07,  1.89736619e+00, -1.89736642e+00])],\n",
       " 10: [-3.0, array([-1.12617728e-07, -1.73204994e+00,  1.73205040e+00])],\n",
       " 11: [-2.4000000000000004, array([ 0.        ,  1.54919426, -1.54919494])],\n",
       " 12: [-1.8000000000000007,\n",
       "  array([-1.12617728e-07, -1.34163790e+00,  1.34163780e+00])],\n",
       " 13: [-1.2000000000000002, array([ 0.        , -1.09544506,  1.09544355])],\n",
       " 14: [-0.5999999999999996, array([ 0.        , -0.77459442,  0.77459684])],\n",
       " 15: [0.0, array([-1.12617728e-07])],\n",
       " 16: [0.5999999999999996, array([-1.12617728e-07])],\n",
       " 17: [1.1999999999999993, array([-1.12617728e-07])],\n",
       " 18: [1.799999999999999, array([-1.12617728e-07])],\n",
       " 19: [2.4000000000000004, array([-1.12617728e-07])],\n",
       " 20: [3.0, array([-1.12617728e-07])],\n",
       " 21: [3.5999999999999996, array([-1.12617728e-07])],\n",
       " 22: [4.199999999999999, array([-1.12617728e-07])],\n",
       " 23: [4.799999999999999, array([-1.12617728e-07])],\n",
       " 24: [5.399999999999999, array([-1.12617728e-07])],\n",
       " 25: [6.0, array([-1.12617728e-07])],\n",
       " 26: [6.6, array([-1.12617728e-07])],\n",
       " 27: [7.199999999999999, array([-1.12617728e-07])],\n",
       " 28: [7.800000000000001, array([-1.12617728e-07])],\n",
       " 29: [8.399999999999999, array([-1.12617728e-07])],\n",
       " 30: [9.0, array([-1.12617728e-07])]}"
      ]
     },
     "execution_count": 36,
     "metadata": {},
     "output_type": "execute_result"
    }
   ],
   "source": [
    "d_roots = {}\n",
    "for i,d in enumerate(d_list):  \n",
    "    def objective_function(x):\n",
    "        f = d*x+x**3 #+2\n",
    "        f_list = [f]\n",
    "        denom = 1\n",
    "        for f in f_list:\n",
    "            denom +=np.abs(f)\n",
    "        F = 1/denom\n",
    "        return F\n",
    "    d_roots[i] = [d,rsp.root_SpiralOpt(objective_function,m_cluster,gamma,epsilon,delta,k_cluster,m,r,theta,k_max,dim)]\n",
    "d_roots"
   ]
  },
  {
   "cell_type": "code",
   "execution_count": 37,
   "metadata": {},
   "outputs": [
    {
     "data": {
      "text/plain": [
       "array([[ 0.00000000e+00,  0.00000000e+00],\n",
       "       [-9.00000000e+00, -1.12617728e-07],\n",
       "       [-9.00000000e+00, -2.99999511e+00],\n",
       "       [-9.00000000e+00,  2.99999765e+00],\n",
       "       [-8.40000000e+00,  0.00000000e+00],\n",
       "       [-8.40000000e+00, -2.89827157e+00],\n",
       "       [-8.40000000e+00,  2.89827139e+00],\n",
       "       [-7.80000000e+00,  0.00000000e+00],\n",
       "       [-7.80000000e+00, -2.79284713e+00],\n",
       "       [-7.80000000e+00,  2.79285247e+00],\n",
       "       [-7.20000000e+00, -1.12617728e-07],\n",
       "       [-7.20000000e+00, -2.68327989e+00],\n",
       "       [-7.20000000e+00,  2.68327981e+00],\n",
       "       [-6.60000000e+00, -1.12617728e-07],\n",
       "       [-6.60000000e+00, -2.56904750e+00],\n",
       "       [-6.60000000e+00,  2.56904670e+00],\n",
       "       [-6.00000000e+00, -1.12617728e-07],\n",
       "       [-6.00000000e+00,  2.44948913e+00],\n",
       "       [-6.00000000e+00, -2.44948947e+00],\n",
       "       [-5.40000000e+00, -1.12617728e-07],\n",
       "       [-5.40000000e+00, -2.32379027e+00],\n",
       "       [-5.40000000e+00,  2.32379005e+00],\n",
       "       [-4.80000000e+00,  0.00000000e+00],\n",
       "       [-4.80000000e+00, -2.19089023e+00],\n",
       "       [-4.80000000e+00,  2.19088899e+00],\n",
       "       [-4.20000000e+00,  0.00000000e+00],\n",
       "       [-4.20000000e+00,  2.04938920e+00],\n",
       "       [-4.20000000e+00, -2.04939106e+00],\n",
       "       [-3.60000000e+00, -1.12617728e-07],\n",
       "       [-3.60000000e+00,  1.89736619e+00],\n",
       "       [-3.60000000e+00, -1.89736642e+00],\n",
       "       [-3.00000000e+00, -1.12617728e-07],\n",
       "       [-3.00000000e+00, -1.73204994e+00],\n",
       "       [-3.00000000e+00,  1.73205040e+00],\n",
       "       [-2.40000000e+00,  0.00000000e+00],\n",
       "       [-2.40000000e+00,  1.54919426e+00],\n",
       "       [-2.40000000e+00, -1.54919494e+00],\n",
       "       [-1.80000000e+00, -1.12617728e-07],\n",
       "       [-1.80000000e+00, -1.34163790e+00],\n",
       "       [-1.80000000e+00,  1.34163780e+00],\n",
       "       [-1.20000000e+00,  0.00000000e+00],\n",
       "       [-1.20000000e+00, -1.09544506e+00],\n",
       "       [-1.20000000e+00,  1.09544355e+00],\n",
       "       [-6.00000000e-01,  0.00000000e+00],\n",
       "       [-6.00000000e-01, -7.74594418e-01],\n",
       "       [-6.00000000e-01,  7.74596842e-01],\n",
       "       [ 0.00000000e+00, -1.12617728e-07],\n",
       "       [ 6.00000000e-01, -1.12617728e-07],\n",
       "       [ 1.20000000e+00, -1.12617728e-07],\n",
       "       [ 1.80000000e+00, -1.12617728e-07],\n",
       "       [ 2.40000000e+00, -1.12617728e-07],\n",
       "       [ 3.00000000e+00, -1.12617728e-07],\n",
       "       [ 3.60000000e+00, -1.12617728e-07],\n",
       "       [ 4.20000000e+00, -1.12617728e-07],\n",
       "       [ 4.80000000e+00, -1.12617728e-07],\n",
       "       [ 5.40000000e+00, -1.12617728e-07],\n",
       "       [ 6.00000000e+00, -1.12617728e-07],\n",
       "       [ 6.60000000e+00, -1.12617728e-07],\n",
       "       [ 7.20000000e+00, -1.12617728e-07],\n",
       "       [ 7.80000000e+00, -1.12617728e-07],\n",
       "       [ 8.40000000e+00, -1.12617728e-07],\n",
       "       [ 9.00000000e+00, -1.12617728e-07]])"
      ]
     },
     "execution_count": 37,
     "metadata": {},
     "output_type": "execute_result"
    }
   ],
   "source": [
    "set_of_points = np.zeros((2))\n",
    "for i in range(len(d_roots)):\n",
    "    set_of_points=np.vstack((set_of_points,np.column_stack((np.full(len(d_roots[i][1]),d_roots[i][0]),d_roots[i][1]))))\n",
    "set_of_points"
   ]
  },
  {
   "cell_type": "code",
   "execution_count": 38,
   "metadata": {},
   "outputs": [
    {
     "name": "stdout",
     "output_type": "stream",
     "text": [
      "Help on function scatter in module matplotlib.pyplot:\n",
      "\n",
      "scatter(x, y, s=None, c=None, marker=None, cmap=None, norm=None, vmin=None, vmax=None, alpha=None, linewidths=None, *, edgecolors=None, plotnonfinite=False, data=None, **kwargs)\n",
      "    A scatter plot of *y* vs. *x* with varying marker size and/or color.\n",
      "    \n",
      "    Parameters\n",
      "    ----------\n",
      "    x, y : float or array-like, shape (n, )\n",
      "        The data positions.\n",
      "    \n",
      "    s : float or array-like, shape (n, ), optional\n",
      "        The marker size in points**2 (typographic points are 1/72 in.).\n",
      "        Default is ``rcParams['lines.markersize'] ** 2``.\n",
      "    \n",
      "    c : array-like or list of colors or color, optional\n",
      "        The marker colors. Possible values:\n",
      "    \n",
      "        - A scalar or sequence of n numbers to be mapped to colors using\n",
      "          *cmap* and *norm*.\n",
      "        - A 2D array in which the rows are RGB or RGBA.\n",
      "        - A sequence of colors of length n.\n",
      "        - A single color format string.\n",
      "    \n",
      "        Note that *c* should not be a single numeric RGB or RGBA sequence\n",
      "        because that is indistinguishable from an array of values to be\n",
      "        colormapped. If you want to specify the same RGB or RGBA value for\n",
      "        all points, use a 2D array with a single row.  Otherwise,\n",
      "        value-matching will have precedence in case of a size matching with\n",
      "        *x* and *y*.\n",
      "    \n",
      "        If you wish to specify a single color for all points\n",
      "        prefer the *color* keyword argument.\n",
      "    \n",
      "        Defaults to `None`. In that case the marker color is determined\n",
      "        by the value of *color*, *facecolor* or *facecolors*. In case\n",
      "        those are not specified or `None`, the marker color is determined\n",
      "        by the next color of the ``Axes``' current \"shape and fill\" color\n",
      "        cycle. This cycle defaults to :rc:`axes.prop_cycle`.\n",
      "    \n",
      "    marker : `~.markers.MarkerStyle`, default: :rc:`scatter.marker`\n",
      "        The marker style. *marker* can be either an instance of the class\n",
      "        or the text shorthand for a particular marker.\n",
      "        See :mod:`matplotlib.markers` for more information about marker\n",
      "        styles.\n",
      "    \n",
      "    cmap : str or `~matplotlib.colors.Colormap`, default: :rc:`image.cmap`\n",
      "        The Colormap instance or registered colormap name used to map scalar data\n",
      "        to colors.\n",
      "    \n",
      "        This parameter is ignored if *c* is RGB(A).\n",
      "    \n",
      "    norm : str or `~matplotlib.colors.Normalize`, optional\n",
      "        The normalization method used to scale scalar data to the [0, 1] range\n",
      "        before mapping to colors using *cmap*. By default, a linear scaling is\n",
      "        used, mapping the lowest value to 0 and the highest to 1.\n",
      "    \n",
      "        If given, this can be one of the following:\n",
      "    \n",
      "        - An instance of `.Normalize` or one of its subclasses\n",
      "          (see :doc:`/tutorials/colors/colormapnorms`).\n",
      "        - A scale name, i.e. one of \"linear\", \"log\", \"symlog\", \"logit\", etc.  For a\n",
      "          list of available scales, call `matplotlib.scale.get_scale_names()`.\n",
      "          In that case, a suitable `.Normalize` subclass is dynamically generated\n",
      "          and instantiated.\n",
      "    \n",
      "        This parameter is ignored if *c* is RGB(A).\n",
      "    \n",
      "    vmin, vmax : float, optional\n",
      "        When using scalar data and no explicit *norm*, *vmin* and *vmax* define\n",
      "        the data range that the colormap covers. By default, the colormap covers\n",
      "        the complete value range of the supplied data. It is an error to use\n",
      "        *vmin*/*vmax* when a *norm* instance is given (but using a `str` *norm*\n",
      "        name together with *vmin*/*vmax* is acceptable).\n",
      "    \n",
      "        This parameter is ignored if *c* is RGB(A).\n",
      "    \n",
      "    alpha : float, default: None\n",
      "        The alpha blending value, between 0 (transparent) and 1 (opaque).\n",
      "    \n",
      "    linewidths : float or array-like, default: :rc:`lines.linewidth`\n",
      "        The linewidth of the marker edges. Note: The default *edgecolors*\n",
      "        is 'face'. You may want to change this as well.\n",
      "    \n",
      "    edgecolors : {'face', 'none', *None*} or color or sequence of color, default: :rc:`scatter.edgecolors`\n",
      "        The edge color of the marker. Possible values:\n",
      "    \n",
      "        - 'face': The edge color will always be the same as the face color.\n",
      "        - 'none': No patch boundary will be drawn.\n",
      "        - A color or sequence of colors.\n",
      "    \n",
      "        For non-filled markers, *edgecolors* is ignored. Instead, the color\n",
      "        is determined like with 'face', i.e. from *c*, *colors*, or\n",
      "        *facecolors*.\n",
      "    \n",
      "    plotnonfinite : bool, default: False\n",
      "        Whether to plot points with nonfinite *c* (i.e. ``inf``, ``-inf``\n",
      "        or ``nan``). If ``True`` the points are drawn with the *bad*\n",
      "        colormap color (see `.Colormap.set_bad`).\n",
      "    \n",
      "    Returns\n",
      "    -------\n",
      "    `~matplotlib.collections.PathCollection`\n",
      "    \n",
      "    Other Parameters\n",
      "    ----------------\n",
      "    data : indexable object, optional\n",
      "        If given, the following parameters also accept a string ``s``, which is\n",
      "        interpreted as ``data[s]`` (unless this raises an exception):\n",
      "    \n",
      "        *x*, *y*, *s*, *linewidths*, *edgecolors*, *c*, *facecolor*, *facecolors*, *color*\n",
      "    **kwargs : `~matplotlib.collections.Collection` properties\n",
      "    \n",
      "    See Also\n",
      "    --------\n",
      "    plot : To plot scatter plots when markers are identical in size and\n",
      "        color.\n",
      "    \n",
      "    Notes\n",
      "    -----\n",
      "    * The `.plot` function will be faster for scatterplots where markers\n",
      "      don't vary in size or color.\n",
      "    \n",
      "    * Any or all of *x*, *y*, *s*, and *c* may be masked arrays, in which\n",
      "      case all masks will be combined and only unmasked points will be\n",
      "      plotted.\n",
      "    \n",
      "    * Fundamentally, scatter works with 1D arrays; *x*, *y*, *s*, and *c*\n",
      "      may be input as N-D arrays, but within scatter they will be\n",
      "      flattened. The exception is *c*, which will be flattened only if its\n",
      "      size matches the size of *x* and *y*.\n",
      "\n"
     ]
    }
   ],
   "source": [
    "help(plt.scatter)"
   ]
  },
  {
   "cell_type": "code",
   "execution_count": 39,
   "metadata": {},
   "outputs": [
    {
     "data": {
      "image/png": "[encoded data removed]",
      "text/plain": [
       "<Figure size 640x480 with 1 Axes>"
      ]
     },
     "metadata": {},
     "output_type": "display_data"
    }
   ],
   "source": [
    "\"\"\"Visualization\"\"\"\n",
    "\n",
    "plt.scatter(x=set_of_points[:,0], y=set_of_points[:,1],marker='.',c='blue')\n",
    "\n",
    "# Add labels and a title\n",
    "plt.xlabel('d')\n",
    "plt.ylabel('x')\n",
    "plt.title('Bifurcation Diagram')\n",
    "\n",
    "# Show the plot\n",
    "plt.grid(True)\n",
    "plt.show()\n"
   ]
  },
  {
   "cell_type": "code",
   "execution_count": 40,
   "metadata": {},
   "outputs": [],
   "source": [
    "# # creating 3d bar plot using matplotlib \n",
    "# # in python\n",
    "\n",
    "# # to interact with plot\n",
    "# %matplotlib widget\n",
    "\n",
    "# # importing required libraries\n",
    "# from mpl_toolkits.mplot3d import Axes3D\n",
    "# import matplotlib.pyplot as plt\n",
    "# import numpy as np\n",
    "\n",
    "# # creating random dataset\n",
    "# xs = [2, 3, 4, 5, 1, 6, 2, 1, 7, 2]\n",
    "# ys = [1, 2, 3, 4, 5, 6, 7, 8, 9, 10]\n",
    "# zs = np.zeros(10)\n",
    "# dx = np.ones(10)\n",
    "# dy = np.ones(10)\n",
    "# dz = [1, 2, 3, 4, 5, 6, 7, 8, 9, 10]\n",
    "\n",
    "# # creating figure\n",
    "# figg = plt.figure()\n",
    "# ax = figg.add_subplot(111, projection='3d')\n",
    "\n",
    "# # creating the plot\n",
    "# plot_geeks = ax.bar3d(xs, ys, zs, dx, \n",
    "# \t\t\t\t\tdy, dz, color='green')\n",
    "\n",
    "# # setting title and labels\n",
    "# ax.set_title(\"3D bar plot\")\n",
    "# ax.set_xlabel('x-axis')\n",
    "# ax.set_ylabel('y-axis')\n",
    "# ax.set_zlabel('z-axis')\n",
    "\n",
    "# # displaying the plot\n",
    "# plt.show()\n"
   ]
  }
 ],
 "metadata": {
  "kernelspec": {
   "display_name": ".venv",
   "language": "python",
   "name": "python3"
  },
  "language_info": {
   "codemirror_mode": {
    "name": "ipython",
    "version": 3
   },
   "file_extension": ".py",
   "mimetype": "text/x-python",
   "name": "python",
   "nbconvert_exporter": "python",
   "pygments_lexer": "ipython3",
   "version": "3.11.4"
  }
 },
 "nbformat": 4,
 "nbformat_minor": 2
}
