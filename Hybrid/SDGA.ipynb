{
 "cells": [
  {
   "cell_type": "code",
   "execution_count": 1,
   "metadata": {},
   "outputs": [],
   "source": [
    "import numpy as np\n",
    "from itertools import product,combinations\n",
    "import matplotlib.pyplot as plt\n",
    "\n",
    "from functools import partial\n",
    "import sobol_seq\n",
    "import re"
   ]
  },
  {
   "cell_type": "markdown",
   "metadata": {},
   "source": [
    "**Problem 1 Pak Kun**"
   ]
  },
  {
   "cell_type": "code",
   "execution_count": 2,
   "metadata": {},
   "outputs": [
    {
     "name": "stdout",
     "output_type": "stream",
     "text": [
      "seed=62\n"
     ]
    }
   ],
   "source": [
    "epsilon = -1+1e-3\n",
    "delta = 1e-2\n",
    "dim = 2\n",
    "mutation_rate = 0.1\n",
    "\n",
    "gamma = -0.2\n",
    "m_cluster = 100\n",
    "k_cluster = 10\n",
    "m = 100\n",
    "k_max = 1000\n",
    "seed = np.random.randint(0,100)\n",
    "print(f\"seed={seed}\")\n",
    "\n",
    "def objective_function(x):\n",
    "    f1 = np.exp(x[0]-x[1])-np.sin(x[0]+x[1])\n",
    "    f2 = (x[0]*x[1])**2-np.cos(x[0]+x[1])\n",
    "    return np.array([f1,f2])\n",
    "\n",
    "boundaries = np.array([(-10,10) for _ in range (dim)])"
   ]
  },
  {
   "cell_type": "markdown",
   "metadata": {},
   "source": [
    "# Root Objective Function"
   ]
  },
  {
   "cell_type": "code",
   "execution_count": 3,
   "metadata": {},
   "outputs": [],
   "source": [
    "def root_objective_function(x:np.ndarray):\n",
    "    F_array = objective_function(x)\n",
    "    denom = 0\n",
    "    for f in F_array:\n",
    "        denom +=np.abs(f)\n",
    "    F = 1/(1+denom)\n",
    "    return -F"
   ]
  },
  {
   "cell_type": "markdown",
   "metadata": {},
   "source": [
    "# Optimization Algorithm"
   ]
  },
  {
   "cell_type": "code",
   "execution_count": 4,
   "metadata": {},
   "outputs": [],
   "source": [
    "\"\"\"GENERATE POINTS USING SOBOL SEQUENCE\"\"\"\n",
    "def generate_points(dim: int,\n",
    "                    npoint:int,\n",
    "                    low=-10,\n",
    "                    high=10,\n",
    "                    sobol = True):\n",
    "    if type(low) != type(high):\n",
    "        raise TypeError('The type of \"low\" and \"high\" should be the same.')\n",
    "    if type(low) == int:\n",
    "        boundaries = [(low,high) for _ in range (dim)]\n",
    "    elif type(low) == list or type(low) == np.ndarray:\n",
    "        if len(low) != len(high):\n",
    "            raise TypeError('The length of \"low\" and \"high\" should be the same.')\n",
    "        else:\n",
    "            boundaries = [(low[i],high[i]) for i in range (len(low))]\n",
    "\n",
    "    if sobol == True:\n",
    "        # Generate Sobol sequence points\n",
    "        sobol_points = sobol_seq.i4_sobol_generate(dim, npoint)\n",
    "        # Scale the Sobol points to fit within the specified boundaries\n",
    "        scaled_points = []\n",
    "        for i in range(dim):\n",
    "            a, b = boundaries[i]\n",
    "            scaled_dim = a + sobol_points[:, i] * (b - a)\n",
    "            scaled_points.append(scaled_dim)\n",
    "        # Transpose the scaled points to get points per dimension\n",
    "        scaled_points = np.array(list(map(list, zip(*scaled_points))))\n",
    "    \n",
    "    else:\n",
    "        scaled_points = np.zeros((npoint, dim))\n",
    "        for i in range(dim):\n",
    "            min_val, max_val = boundaries[i]\n",
    "            scaled_points[:, i] = np.random.uniform(min_val, max_val, npoint)\n",
    "\n",
    "    return scaled_points\n"
   ]
  },
  {
   "cell_type": "code",
   "execution_count": 5,
   "metadata": {},
   "outputs": [
    {
     "name": "stdout",
     "output_type": "stream",
     "text": [
      "[[-1.25  1.25]] [10.]\n"
     ]
    }
   ],
   "source": [
    "k=0\n",
    "iter_points = {}\n",
    "iter_points[k] = generate_points(dim,m_cluster,boundaries[:,0],boundaries[:,1])\n",
    "fitness = np.asarray([root_objective_function(ind) for ind in iter_points[0]])\n",
    "best_idx = np.argmin(fitness)\n",
    "x_prime = iter_points[0][best_idx]\n",
    "\n",
    "radius = (boundaries[:,1]-boundaries[:,0])/2\n",
    "id_rad = np.argmin(radius)\n",
    "radii = radius[id_rad]\n",
    "\n",
    "cluster_center,cluster_radius = np.array([x_prime]),np.array([radii])\n",
    "# cluster_center[0],cluster_radius[0] = x_prime,radius\n",
    "print(cluster_center,cluster_radius)"
   ]
  },
  {
   "cell_type": "code",
   "execution_count": 6,
   "metadata": {},
   "outputs": [],
   "source": [
    "\"\"\"FUNCTION CLUSTER\"\"\"\n",
    "def function_cluster(y):\n",
    "    # min_dist_cluster = 10**100\n",
    "    # for ci,cc in cluster_center.items():\n",
    "    #     dist = np.linalg.norm(cc-y)\n",
    "    #     if dist<=min_dist_cluster:\n",
    "    #         xc = cc\n",
    "    #         cluster_id = ci\n",
    "    #         min_dist_cluster = dist\n",
    "    global cluster_center\n",
    "    global cluster_radius\n",
    "    dist_list = np.linalg.norm(cluster_center-y,axis=1)\n",
    "    min_dist_id = np.argmin(dist_list)\n",
    "    min_dist = dist_list[min_dist_id]\n",
    "    xc = cluster_center[min_dist_id]\n",
    "    xt = (xc + y)/2\n",
    "    # print(xt,xc,y)\n",
    "    Fxt = root_objective_function(xt)\n",
    "    Fxc = root_objective_function(xc)\n",
    "    Fy = root_objective_function(y)\n",
    "    # print(Fxt,Fxc,Fy)\n",
    "    if (Fxt > Fy) & (Fxt > Fxc):\n",
    "        cluster_center = np.append(cluster_center,[y],axis=0)\n",
    "        cluster_radius = np.append(cluster_radius, [np.linalg.norm(y-xt)],axis=0)\n",
    "    elif (Fxt < Fy) & (Fxt < Fxc):\n",
    "        cluster_center = np.append(cluster_center,[y],axis=0)\n",
    "        cluster_radius = np.append(cluster_radius, [np.linalg.norm(y-xt)],axis=0)\n",
    "        function_cluster(xt)\n",
    "    elif Fy < Fxc:\n",
    "        cluster_center[min_dist_id] = y\n",
    "    \n",
    "    # update radii if the existing corresponding cluster radii is larger than tha candidate\n",
    "    if cluster_radius[min_dist_id] > np.linalg.norm(y-xt):\n",
    "        cluster_radius[min_dist_id] =  np.linalg.norm(y-xt)\n",
    "    \n",
    "    # return cluster_center,cluster_radius\n"
   ]
  },
  {
   "cell_type": "code",
   "execution_count": 7,
   "metadata": {},
   "outputs": [],
   "source": [
    "import importlib.util\n",
    "\n",
    "spec = importlib.util.spec_from_file_location(\"gal\", r\"D:\\OneDrive - Institut Teknologi Bandung\\[AKADEMIK]\\Semester 7-8\\TA\\Thesis\\Genetic Algorithm\\genal.py\")\n",
    "gal = importlib.util.module_from_spec(spec)\n",
    "spec.loader.exec_module(gal)"
   ]
  },
  {
   "cell_type": "code",
   "execution_count": 8,
   "metadata": {},
   "outputs": [
    {
     "name": "stdout",
     "output_type": "stream",
     "text": [
      "len(cluster_center)=32\n",
      "cluster_center=[[-1.09375     0.91583901]\n",
      " [ 0.625       0.30101646]\n",
      " [-0.46875     0.703125  ]\n",
      " [-6.40625     0.15625   ]\n",
      " [ 0.          6.25      ]\n",
      " [-0.15625     3.4375    ]\n",
      " [-9.58813222  0.        ]\n",
      " [-1.2757114  -0.1953125 ]\n",
      " [-1.5625      0.        ]\n",
      " [ 0.33324183  1.10236115]\n",
      " [-0.3125      0.78125   ]\n",
      " [ 0.78125     1.09375   ]\n",
      " [-6.875      -0.15625   ]\n",
      " [-4.765625    0.        ]\n",
      " [-6.25       -0.15625   ]\n",
      " [-5.078125   -0.15625   ]\n",
      " [-5.54825891 -0.15625   ]\n",
      " [-2.03125     0.0866383 ]\n",
      " [-1.71875     0.        ]\n",
      " [-2.8125      0.        ]\n",
      " [-1.40625     0.35406776]\n",
      " [-2.03125     0.17327659]\n",
      " [-7.8125      0.        ]\n",
      " [-1.25        0.89417803]\n",
      " [ 1.25        0.30101646]\n",
      " [ 0.39546734  0.71479148]\n",
      " [ 0.39546734  1.12819459]\n",
      " [ 0.35398367  1.11097229]\n",
      " [-8.40402874  0.        ]\n",
      " [-7.85541983  0.        ]\n",
      " [-1.35284562 -0.3125    ]\n",
      " [-1.40625    -0.15625   ]]\n",
      "len(cluster_radius)=32\n",
      "cluster_radius=[0.07887214 0.         0.08734641 0.07522786 1.10485435 1.30961364\n",
      " 0.         0.         0.078125   0.01122915 0.17469281 0.11048543\n",
      " 0.         0.1171875  0.078125   0.08734641 0.078125   0.04331915\n",
      " 0.09824827 0.078125   0.08250531 0.0866383  0.         0.15774429\n",
      " 0.15050823 0.19396723 0.04491661 0.02245831 0.         0.02145992\n",
      " 0.09352979 0.04676489]\n"
     ]
    }
   ],
   "source": [
    "while k<k_cluster:\n",
    "    potential_cluster_center = []\n",
    "    F = root_objective_function(iter_points[k].T)\n",
    "    for i in range (m_cluster):\n",
    "        # If F(x_i)<gamma and x_i is not the center of existing cluster, x_i may have a possibility to become a cluster center\n",
    "        if len(iter_points[k].T) == 1:\n",
    "            fungam = F[0][i]\n",
    "        else:\n",
    "            fungam = F[i]\n",
    "        exist_in_cluster_center = any(np.linalg.norm(iter_points[k][i] - ctr) < epsilon for ctr in cluster_center)\n",
    "        if (fungam < gamma) & (exist_in_cluster_center==False):\n",
    "            potential_cluster_center.append(iter_points[k][i])\n",
    "        # print(f'potential_cluster_center:{potential_cluster_center}')\n",
    "    # Apply function cluster\n",
    "    for i in range (len(potential_cluster_center)):\n",
    "        function_cluster(potential_cluster_center[i])\n",
    "    fitness_k = np.asarray([root_objective_function(ind) for ind in iter_points[k]])\n",
    "    i_g = np.argmin(fitness)\n",
    "    x_i_g = iter_points[k][i_g]\n",
    "    iter_points[k+1] = np.copy(iter_points[k])\n",
    "    fitness_k = np.asarray([root_objective_function(ind) for ind in iter_points[k]])\n",
    "    selected_population = gal.selection(population=iter_points[k+1],fitness=fitness_k)\n",
    "    offspring_population = gal.recombination(population=selected_population,\n",
    "                                             mutation_rate=mutation_rate,\n",
    "                                             boundaries=boundaries)\n",
    "    iter_points[k+1] = offspring_population\n",
    "    \n",
    "\n",
    "    k+=1\n",
    "print(f\"len(cluster_center)={len(cluster_center)}\\ncluster_center={cluster_center}\")\n",
    "print(f\"len(cluster_radius)={len(cluster_radius)}\\ncluster_radius={cluster_radius}\")"
   ]
  },
  {
   "cell_type": "code",
   "execution_count": 9,
   "metadata": {},
   "outputs": [
    {
     "data": {
      "image/png": "[encoded data removed]",
      "text/plain": [
       "<Figure size 1000x1000 with 1 Axes>"
      ]
     },
     "metadata": {},
     "output_type": "display_data"
    }
   ],
   "source": [
    "if dim != 2:\n",
    "    print(f\"Dimension {dim} can be visualized using cluster_visualization2D.\")\n",
    "\"\"\"Visualization\"\"\"\n",
    "fig, ax = plt.subplots(figsize=(10,10))\n",
    "for center,radius in zip(cluster_center,cluster_radius):\n",
    "    circle = plt.Circle(center, radius, fill=False, linestyle='dotted', edgecolor='b')\n",
    "    ax.add_artist(circle)\n",
    "\n",
    "# Set axis limits\n",
    "ax.set_xlim(boundaries[0])\n",
    "ax.set_ylim(boundaries[1])\n",
    "    \n",
    "ax.autoscale_view()\n",
    "\n",
    "# # Add labels (optional)\n",
    "# for i, center in cluster_center.items():\n",
    "#     ax.text(center[0], center[1], f'Cluster {i+1}', ha='center', va='bottom')\n",
    "\n",
    "# Add a title and labels (optional)\n",
    "ax.set_title('Cluster Visualization')\n",
    "ax.set_xlabel('X-axis')\n",
    "ax.set_ylabel('Y-axis')\n",
    "\n",
    "# Show the plot\n",
    "plt.gca().set_aspect('equal', adjustable='box')  # Make the aspect ratio equal\n",
    "plt.grid(True)\n",
    "plt.show()"
   ]
  },
  {
   "cell_type": "code",
   "execution_count": 10,
   "metadata": {},
   "outputs": [
    {
     "name": "stdout",
     "output_type": "stream",
     "text": [
      "cluster_center[3] x answ[0]\n",
      "cluster_center[4] x answ[2]\n",
      "cluster_center[4] x answ[3]\n"
     ]
    }
   ],
   "source": [
    "answ = np.array([[-6.437160, 0.155348],\n",
    "                 [-0.932122, 1.067870],\n",
    "                 [-0.155283, 6.439840],\n",
    "                 [0.163333, 6.122430],\n",
    "                 [0.667121, 0.690103],\n",
    "                 [-6.117110, -0.163476]])\n",
    "\n",
    "possible_cluster_id = []\n",
    "for i in range (len(cluster_center)):\n",
    "    for j in range (len(answ)):\n",
    "        ddist = np.linalg.norm(cluster_center[i]-answ[j])\n",
    "        if ddist <= cluster_radius[i]:\n",
    "            possible_cluster_id.append([i,j])\n",
    "            print(f'cluster_center[{i}] x answ[{j}]')\n"
   ]
  },
  {
   "cell_type": "markdown",
   "metadata": {},
   "source": [
    "# SDGA Evaluation"
   ]
  },
  {
   "cell_type": "code",
   "execution_count": 11,
   "metadata": {},
   "outputs": [
    {
     "name": "stdout",
     "output_type": "stream",
     "text": [
      "\n",
      "====== Cluster 0 ======\n",
      "\n",
      "Roots = [array([0.66689439, 0.69028724])]\n",
      "\n",
      "====== Cluster 1 ======\n",
      "\n",
      "Roots = [array([0.66689439, 0.69028724]), array([0.62330306, 0.62435127])]\n",
      "\n",
      "====== Cluster 2 ======\n",
      "\n",
      "Roots = [array([0.66689439, 0.69028724]), array([0.62330306, 0.62435127]), array([0.61492618, 0.7423335 ])]\n",
      "\n",
      "====== Cluster 3 ======\n",
      "\n",
      "Roots = [array([0.66689439, 0.69028724]), array([0.62330306, 0.62435127]), array([0.61492618, 0.7423335 ]), array([-6.11927214, -0.1636663 ])]\n",
      "\n",
      "====== Cluster 4 ======\n",
      "\n",
      "Roots = [array([0.66689439, 0.69028724]), array([0.62330306, 0.62435127]), array([0.61492618, 0.7423335 ]), array([-6.11927214, -0.1636663 ]), array([-0.1553119 ,  6.43866538])]\n",
      "\n",
      "====== Cluster 5 ======\n",
      "\n",
      "Roots = [array([0.66689439, 0.69028724]), array([0.62330306, 0.62435127]), array([0.61492618, 0.7423335 ]), array([-6.11927214, -0.1636663 ]), array([-0.1553119 ,  6.43866538]), array([-0.84623176,  1.15539719])]\n",
      "\n",
      "====== Cluster 6 ======\n",
      "\n",
      "Roots = [array([0.66689439, 0.69028724]), array([0.62330306, 0.62435127]), array([0.61492618, 0.7423335 ]), array([-6.11927214, -0.1636663 ]), array([-0.1553119 ,  6.43866538]), array([-0.84623176,  1.15539719]), array([-6.11820001, -0.16413094])]\n",
      "\n",
      "====== Cluster 7 ======\n",
      "\n",
      "Roots = [array([0.66689439, 0.69028724]), array([0.62330306, 0.62435127]), array([0.61492618, 0.7423335 ]), array([-6.11927214, -0.1636663 ]), array([-0.1553119 ,  6.43866538]), array([-0.84623176,  1.15539719]), array([-6.11820001, -0.16413094]), array([-1.23362202, -0.25409408])]\n",
      "\n",
      "====== Cluster 8 ======\n",
      "\n",
      "Roots = [array([0.66689439, 0.69028724]), array([0.62330306, 0.62435127]), array([0.61492618, 0.7423335 ]), array([-6.11927214, -0.1636663 ]), array([-0.1553119 ,  6.43866538]), array([-0.84623176,  1.15539719]), array([-6.11820001, -0.16413094]), array([-1.23362202, -0.25409408]), array([-1.55462031, -0.01595694])]\n",
      "\n",
      "====== Cluster 9 ======\n",
      "\n",
      "Roots = [array([0.66689439, 0.69028724]), array([0.62330306, 0.62435127]), array([0.61492618, 0.7423335 ]), array([-6.11927214, -0.1636663 ]), array([-0.1553119 ,  6.43866538]), array([-0.84623176,  1.15539719]), array([-6.11820001, -0.16413094]), array([-1.23362202, -0.25409408]), array([-1.55462031, -0.01595694]), array([0.66687327, 0.69027389])]\n",
      "\n",
      "====== Cluster 10 ======\n",
      "\n",
      "Roots = [array([0.66689439, 0.69028724]), array([0.62330306, 0.62435127]), array([0.61492618, 0.7423335 ]), array([-6.11927214, -0.1636663 ]), array([-0.1553119 ,  6.43866538]), array([-0.84623176,  1.15539719]), array([-6.11820001, -0.16413094]), array([-1.23362202, -0.25409408]), array([-1.55462031, -0.01595694]), array([0.66687327, 0.69027389]), array([0.60311568, 0.75717095])]\n",
      "\n",
      "====== Cluster 11 ======\n",
      "\n",
      "Roots = [array([0.66689439, 0.69028724]), array([0.62330306, 0.62435127]), array([0.61492618, 0.7423335 ]), array([-6.11927214, -0.1636663 ]), array([-0.1553119 ,  6.43866538]), array([-0.84623176,  1.15539719]), array([-6.11820001, -0.16413094]), array([-1.23362202, -0.25409408]), array([-1.55462031, -0.01595694]), array([0.66687327, 0.69027389]), array([0.60311568, 0.75717095]), array([0.67441593, 0.89263727])]\n",
      "\n",
      "====== Cluster 12 ======\n",
      "\n",
      "Roots = [array([0.66689439, 0.69028724]), array([0.62330306, 0.62435127]), array([0.61492618, 0.7423335 ]), array([-6.11927214, -0.1636663 ]), array([-0.1553119 ,  6.43866538]), array([-0.84623176,  1.15539719]), array([-6.11820001, -0.16413094]), array([-1.23362202, -0.25409408]), array([-1.55462031, -0.01595694]), array([0.66687327, 0.69027389]), array([0.60311568, 0.75717095]), array([0.67441593, 0.89263727]), array([-6.11495653, -0.16422911])]\n",
      "\n",
      "====== Cluster 13 ======\n",
      "\n",
      "Roots = [array([0.66689439, 0.69028724]), array([0.62330306, 0.62435127]), array([0.61492618, 0.7423335 ]), array([-6.11927214, -0.1636663 ]), array([-0.1553119 ,  6.43866538]), array([-0.84623176,  1.15539719]), array([-6.11820001, -0.16413094]), array([-1.23362202, -0.25409408]), array([-1.55462031, -0.01595694]), array([0.66687327, 0.69027389]), array([0.60311568, 0.75717095]), array([0.67441593, 0.89263727]), array([-6.11495653, -0.16422911]), array([-4.69715679,  0.01033722])]\n",
      "\n",
      "====== Cluster 14 ======\n",
      "\n",
      "Roots = [array([0.66689439, 0.69028724]), array([0.62330306, 0.62435127]), array([0.61492618, 0.7423335 ]), array([-6.11927214, -0.1636663 ]), array([-0.1553119 ,  6.43866538]), array([-0.84623176,  1.15539719]), array([-6.11820001, -0.16413094]), array([-1.23362202, -0.25409408]), array([-1.55462031, -0.01595694]), array([0.66687327, 0.69027389]), array([0.60311568, 0.75717095]), array([0.67441593, 0.89263727]), array([-6.11495653, -0.16422911]), array([-4.69715679,  0.01033722]), array([-6.11818538, -0.16329684])]\n",
      "\n",
      "====== Cluster 15 ======\n",
      "\n",
      "Roots = [array([0.66689439, 0.69028724]), array([0.62330306, 0.62435127]), array([0.61492618, 0.7423335 ]), array([-6.11927214, -0.1636663 ]), array([-0.1553119 ,  6.43866538]), array([-0.84623176,  1.15539719]), array([-6.11820001, -0.16413094]), array([-1.23362202, -0.25409408]), array([-1.55462031, -0.01595694]), array([0.66687327, 0.69027389]), array([0.60311568, 0.75717095]), array([0.67441593, 0.89263727]), array([-6.11495653, -0.16422911]), array([-4.69715679,  0.01033722]), array([-6.11818538, -0.16329684]), array([-4.88292541, -0.10382926])]\n",
      "\n",
      "====== Cluster 16 ======\n",
      "\n",
      "Roots = [array([0.66689439, 0.69028724]), array([0.62330306, 0.62435127]), array([0.61492618, 0.7423335 ]), array([-6.11927214, -0.1636663 ]), array([-0.1553119 ,  6.43866538]), array([-0.84623176,  1.15539719]), array([-6.11820001, -0.16413094]), array([-1.23362202, -0.25409408]), array([-1.55462031, -0.01595694]), array([0.66687327, 0.69027389]), array([0.60311568, 0.75717095]), array([0.67441593, 0.89263727]), array([-6.11495653, -0.16422911]), array([-4.69715679,  0.01033722]), array([-6.11818538, -0.16329684]), array([-4.88292541, -0.10382926]), array([-5.62202418, -0.16505536])]\n",
      "\n",
      "====== Cluster 17 ======\n",
      "\n",
      "Roots = [array([0.66689439, 0.69028724]), array([0.62330306, 0.62435127]), array([0.61492618, 0.7423335 ]), array([-6.11927214, -0.1636663 ]), array([-0.1553119 ,  6.43866538]), array([-0.84623176,  1.15539719]), array([-6.11820001, -0.16413094]), array([-1.23362202, -0.25409408]), array([-1.55462031, -0.01595694]), array([0.66687327, 0.69027389]), array([0.60311568, 0.75717095]), array([0.67441593, 0.89263727]), array([-6.11495653, -0.16422911]), array([-4.69715679,  0.01033722]), array([-6.11818538, -0.16329684]), array([-4.88292541, -0.10382926]), array([-5.62202418, -0.16505536]), array([-1.55977121,  0.05319744])]\n",
      "\n",
      "====== Cluster 18 ======\n",
      "\n",
      "Roots = [array([0.66689439, 0.69028724]), array([0.62330306, 0.62435127]), array([0.61492618, 0.7423335 ]), array([-6.11927214, -0.1636663 ]), array([-0.1553119 ,  6.43866538]), array([-0.84623176,  1.15539719]), array([-6.11820001, -0.16413094]), array([-1.23362202, -0.25409408]), array([-1.55462031, -0.01595694]), array([0.66687327, 0.69027389]), array([0.60311568, 0.75717095]), array([0.67441593, 0.89263727]), array([-6.11495653, -0.16422911]), array([-4.69715679,  0.01033722]), array([-6.11818538, -0.16329684]), array([-4.88292541, -0.10382926]), array([-5.62202418, -0.16505536]), array([-1.55977121,  0.05319744]), array([-1.64761462,  0.09664082])]\n",
      "\n",
      "====== Cluster 19 ======\n",
      "\n",
      "Roots = [array([0.66689439, 0.69028724]), array([0.62330306, 0.62435127]), array([0.61492618, 0.7423335 ]), array([-6.11927214, -0.1636663 ]), array([-0.1553119 ,  6.43866538]), array([-0.84623176,  1.15539719]), array([-6.11820001, -0.16413094]), array([-1.23362202, -0.25409408]), array([-1.55462031, -0.01595694]), array([0.66687327, 0.69027389]), array([0.60311568, 0.75717095]), array([0.67441593, 0.89263727]), array([-6.11495653, -0.16422911]), array([-4.69715679,  0.01033722]), array([-6.11818538, -0.16329684]), array([-4.88292541, -0.10382926]), array([-5.62202418, -0.16505536]), array([-1.55977121,  0.05319744]), array([-1.64761462,  0.09664082]), array([-1.50049705, -0.07489552])]\n",
      "\n",
      "====== Cluster 20 ======\n",
      "\n",
      "Roots = [array([0.66689439, 0.69028724]), array([0.62330306, 0.62435127]), array([0.61492618, 0.7423335 ]), array([-6.11927214, -0.1636663 ]), array([-0.1553119 ,  6.43866538]), array([-0.84623176,  1.15539719]), array([-6.11820001, -0.16413094]), array([-1.23362202, -0.25409408]), array([-1.55462031, -0.01595694]), array([0.66687327, 0.69027389]), array([0.60311568, 0.75717095]), array([0.67441593, 0.89263727]), array([-6.11495653, -0.16422911]), array([-4.69715679,  0.01033722]), array([-6.11818538, -0.16329684]), array([-4.88292541, -0.10382926]), array([-5.62202418, -0.16505536]), array([-1.55977121,  0.05319744]), array([-1.64761462,  0.09664082]), array([-1.50049705, -0.07489552]), array([0.26683882, 0.36036987])]\n",
      "\n",
      "====== Cluster 21 ======\n",
      "\n",
      "Roots = [array([0.66689439, 0.69028724]), array([0.62330306, 0.62435127]), array([0.61492618, 0.7423335 ]), array([-6.11927214, -0.1636663 ]), array([-0.1553119 ,  6.43866538]), array([-0.84623176,  1.15539719]), array([-6.11820001, -0.16413094]), array([-1.23362202, -0.25409408]), array([-1.55462031, -0.01595694]), array([0.66687327, 0.69027389]), array([0.60311568, 0.75717095]), array([0.67441593, 0.89263727]), array([-6.11495653, -0.16422911]), array([-4.69715679,  0.01033722]), array([-6.11818538, -0.16329684]), array([-4.88292541, -0.10382926]), array([-5.62202418, -0.16505536]), array([-1.55977121,  0.05319744]), array([-1.64761462,  0.09664082]), array([-1.50049705, -0.07489552]), array([0.26683882, 0.36036987]), array([-1.58203108,  0.16525705])]\n",
      "\n",
      "====== Cluster 22 ======\n",
      "\n",
      "Roots = [array([0.66689439, 0.69028724]), array([0.62330306, 0.62435127]), array([0.61492618, 0.7423335 ]), array([-6.11927214, -0.1636663 ]), array([-0.1553119 ,  6.43866538]), array([-0.84623176,  1.15539719]), array([-6.11820001, -0.16413094]), array([-1.23362202, -0.25409408]), array([-1.55462031, -0.01595694]), array([0.66687327, 0.69027389]), array([0.60311568, 0.75717095]), array([0.67441593, 0.89263727]), array([-6.11495653, -0.16422911]), array([-4.69715679,  0.01033722]), array([-6.11818538, -0.16329684]), array([-4.88292541, -0.10382926]), array([-5.62202418, -0.16505536]), array([-1.55977121,  0.05319744]), array([-1.64761462,  0.09664082]), array([-1.50049705, -0.07489552]), array([0.26683882, 0.36036987]), array([-1.58203108,  0.16525705]), array([-6.11695237, -0.16364636])]\n",
      "\n",
      "====== Cluster 23 ======\n",
      "\n",
      "Roots = [array([0.66689439, 0.69028724]), array([0.62330306, 0.62435127]), array([0.61492618, 0.7423335 ]), array([-6.11927214, -0.1636663 ]), array([-0.1553119 ,  6.43866538]), array([-0.84623176,  1.15539719]), array([-6.11820001, -0.16413094]), array([-1.23362202, -0.25409408]), array([-1.55462031, -0.01595694]), array([0.66687327, 0.69027389]), array([0.60311568, 0.75717095]), array([0.67441593, 0.89263727]), array([-6.11495653, -0.16422911]), array([-4.69715679,  0.01033722]), array([-6.11818538, -0.16329684]), array([-4.88292541, -0.10382926]), array([-5.62202418, -0.16505536]), array([-1.55977121,  0.05319744]), array([-1.64761462,  0.09664082]), array([-1.50049705, -0.07489552]), array([0.26683882, 0.36036987]), array([-1.58203108,  0.16525705]), array([-6.11695237, -0.16364636]), array([0.66548297, 0.69180475])]\n",
      "\n",
      "====== Cluster 24 ======\n",
      "\n",
      "Roots = [array([0.66689439, 0.69028724]), array([0.62330306, 0.62435127]), array([0.61492618, 0.7423335 ]), array([-6.11927214, -0.1636663 ]), array([-0.1553119 ,  6.43866538]), array([-0.84623176,  1.15539719]), array([-6.11820001, -0.16413094]), array([-1.23362202, -0.25409408]), array([-1.55462031, -0.01595694]), array([0.66687327, 0.69027389]), array([0.60311568, 0.75717095]), array([0.67441593, 0.89263727]), array([-6.11495653, -0.16422911]), array([-4.69715679,  0.01033722]), array([-6.11818538, -0.16329684]), array([-4.88292541, -0.10382926]), array([-5.62202418, -0.16505536]), array([-1.55977121,  0.05319744]), array([-1.64761462,  0.09664082]), array([-1.50049705, -0.07489552]), array([0.26683882, 0.36036987]), array([-1.58203108,  0.16525705]), array([-6.11695237, -0.16364636]), array([0.66548297, 0.69180475]), array([0.66830876, 0.68888402])]\n",
      "\n",
      "====== Cluster 25 ======\n",
      "\n",
      "Roots = [array([0.66689439, 0.69028724]), array([0.62330306, 0.62435127]), array([0.61492618, 0.7423335 ]), array([-6.11927214, -0.1636663 ]), array([-0.1553119 ,  6.43866538]), array([-0.84623176,  1.15539719]), array([-6.11820001, -0.16413094]), array([-1.23362202, -0.25409408]), array([-1.55462031, -0.01595694]), array([0.66687327, 0.69027389]), array([0.60311568, 0.75717095]), array([0.67441593, 0.89263727]), array([-6.11495653, -0.16422911]), array([-4.69715679,  0.01033722]), array([-6.11818538, -0.16329684]), array([-4.88292541, -0.10382926]), array([-5.62202418, -0.16505536]), array([-1.55977121,  0.05319744]), array([-1.64761462,  0.09664082]), array([-1.50049705, -0.07489552]), array([0.26683882, 0.36036987]), array([-1.58203108,  0.16525705]), array([-6.11695237, -0.16364636]), array([0.66548297, 0.69180475]), array([0.66830876, 0.68888402]), array([0.51601657, 0.85835896])]\n",
      "\n",
      "====== Cluster 26 ======\n",
      "\n",
      "Roots = [array([0.66689439, 0.69028724]), array([0.62330306, 0.62435127]), array([0.61492618, 0.7423335 ]), array([-6.11927214, -0.1636663 ]), array([-0.1553119 ,  6.43866538]), array([-0.84623176,  1.15539719]), array([-6.11820001, -0.16413094]), array([-1.23362202, -0.25409408]), array([-1.55462031, -0.01595694]), array([0.66687327, 0.69027389]), array([0.60311568, 0.75717095]), array([0.67441593, 0.89263727]), array([-6.11495653, -0.16422911]), array([-4.69715679,  0.01033722]), array([-6.11818538, -0.16329684]), array([-4.88292541, -0.10382926]), array([-5.62202418, -0.16505536]), array([-1.55977121,  0.05319744]), array([-1.64761462,  0.09664082]), array([-1.50049705, -0.07489552]), array([0.26683882, 0.36036987]), array([-1.58203108,  0.16525705]), array([-6.11695237, -0.16364636]), array([0.66548297, 0.69180475]), array([0.66830876, 0.68888402]), array([0.51601657, 0.85835896]), array([0.67059947, 0.68653451])]\n",
      "\n",
      "====== Cluster 27 ======\n",
      "\n",
      "Roots = [array([0.66689439, 0.69028724]), array([0.62330306, 0.62435127]), array([0.61492618, 0.7423335 ]), array([-6.11927214, -0.1636663 ]), array([-0.1553119 ,  6.43866538]), array([-0.84623176,  1.15539719]), array([-6.11820001, -0.16413094]), array([-1.23362202, -0.25409408]), array([-1.55462031, -0.01595694]), array([0.66687327, 0.69027389]), array([0.60311568, 0.75717095]), array([0.67441593, 0.89263727]), array([-6.11495653, -0.16422911]), array([-4.69715679,  0.01033722]), array([-6.11818538, -0.16329684]), array([-4.88292541, -0.10382926]), array([-5.62202418, -0.16505536]), array([-1.55977121,  0.05319744]), array([-1.64761462,  0.09664082]), array([-1.50049705, -0.07489552]), array([0.26683882, 0.36036987]), array([-1.58203108,  0.16525705]), array([-6.11695237, -0.16364636]), array([0.66548297, 0.69180475]), array([0.66830876, 0.68888402]), array([0.51601657, 0.85835896]), array([0.67059947, 0.68653451]), array([0.66663763, 0.69040568])]\n",
      "\n",
      "====== Cluster 28 ======\n",
      "\n",
      "Roots = [array([0.66689439, 0.69028724]), array([0.62330306, 0.62435127]), array([0.61492618, 0.7423335 ]), array([-6.11927214, -0.1636663 ]), array([-0.1553119 ,  6.43866538]), array([-0.84623176,  1.15539719]), array([-6.11820001, -0.16413094]), array([-1.23362202, -0.25409408]), array([-1.55462031, -0.01595694]), array([0.66687327, 0.69027389]), array([0.60311568, 0.75717095]), array([0.67441593, 0.89263727]), array([-6.11495653, -0.16422911]), array([-4.69715679,  0.01033722]), array([-6.11818538, -0.16329684]), array([-4.88292541, -0.10382926]), array([-5.62202418, -0.16505536]), array([-1.55977121,  0.05319744]), array([-1.64761462,  0.09664082]), array([-1.50049705, -0.07489552]), array([0.26683882, 0.36036987]), array([-1.58203108,  0.16525705]), array([-6.11695237, -0.16364636]), array([0.66548297, 0.69180475]), array([0.66830876, 0.68888402]), array([0.51601657, 0.85835896]), array([0.67059947, 0.68653451]), array([0.66663763, 0.69040568]), array([-6.11837701, -0.16338075])]\n",
      "\n",
      "====== Cluster 29 ======\n",
      "\n",
      "Roots = [array([0.66689439, 0.69028724]), array([0.62330306, 0.62435127]), array([0.61492618, 0.7423335 ]), array([-6.11927214, -0.1636663 ]), array([-0.1553119 ,  6.43866538]), array([-0.84623176,  1.15539719]), array([-6.11820001, -0.16413094]), array([-1.23362202, -0.25409408]), array([-1.55462031, -0.01595694]), array([0.66687327, 0.69027389]), array([0.60311568, 0.75717095]), array([0.67441593, 0.89263727]), array([-6.11495653, -0.16422911]), array([-4.69715679,  0.01033722]), array([-6.11818538, -0.16329684]), array([-4.88292541, -0.10382926]), array([-5.62202418, -0.16505536]), array([-1.55977121,  0.05319744]), array([-1.64761462,  0.09664082]), array([-1.50049705, -0.07489552]), array([0.26683882, 0.36036987]), array([-1.58203108,  0.16525705]), array([-6.11695237, -0.16364636]), array([0.66548297, 0.69180475]), array([0.66830876, 0.68888402]), array([0.51601657, 0.85835896]), array([0.67059947, 0.68653451]), array([0.66663763, 0.69040568]), array([-6.11837701, -0.16338075]), array([-6.12300788, -0.1613364 ])]\n",
      "\n",
      "====== Cluster 30 ======\n",
      "\n",
      "Roots = [array([0.66689439, 0.69028724]), array([0.62330306, 0.62435127]), array([0.61492618, 0.7423335 ]), array([-6.11927214, -0.1636663 ]), array([-0.1553119 ,  6.43866538]), array([-0.84623176,  1.15539719]), array([-6.11820001, -0.16413094]), array([-1.23362202, -0.25409408]), array([-1.55462031, -0.01595694]), array([0.66687327, 0.69027389]), array([0.60311568, 0.75717095]), array([0.67441593, 0.89263727]), array([-6.11495653, -0.16422911]), array([-4.69715679,  0.01033722]), array([-6.11818538, -0.16329684]), array([-4.88292541, -0.10382926]), array([-5.62202418, -0.16505536]), array([-1.55977121,  0.05319744]), array([-1.64761462,  0.09664082]), array([-1.50049705, -0.07489552]), array([0.26683882, 0.36036987]), array([-1.58203108,  0.16525705]), array([-6.11695237, -0.16364636]), array([0.66548297, 0.69180475]), array([0.66830876, 0.68888402]), array([0.51601657, 0.85835896]), array([0.67059947, 0.68653451]), array([0.66663763, 0.69040568]), array([-6.11837701, -0.16338075]), array([-6.12300788, -0.1613364 ]), array([-1.19349721, -0.26364051])]\n",
      "\n",
      "====== Cluster 31 ======\n",
      "\n",
      "Roots = [array([0.66689439, 0.69028724]), array([0.62330306, 0.62435127]), array([0.61492618, 0.7423335 ]), array([-6.11927214, -0.1636663 ]), array([-0.1553119 ,  6.43866538]), array([-0.84623176,  1.15539719]), array([-6.11820001, -0.16413094]), array([-1.23362202, -0.25409408]), array([-1.55462031, -0.01595694]), array([0.66687327, 0.69027389]), array([0.60311568, 0.75717095]), array([0.67441593, 0.89263727]), array([-6.11495653, -0.16422911]), array([-4.69715679,  0.01033722]), array([-6.11818538, -0.16329684]), array([-4.88292541, -0.10382926]), array([-5.62202418, -0.16505536]), array([-1.55977121,  0.05319744]), array([-1.64761462,  0.09664082]), array([-1.50049705, -0.07489552]), array([0.26683882, 0.36036987]), array([-1.58203108,  0.16525705]), array([-6.11695237, -0.16364636]), array([0.66548297, 0.69180475]), array([0.66830876, 0.68888402]), array([0.51601657, 0.85835896]), array([0.67059947, 0.68653451]), array([0.66663763, 0.69040568]), array([-6.11837701, -0.16338075]), array([-6.12300788, -0.1613364 ]), array([-1.19349721, -0.26364051]), array([-1.40431831, -0.14140997])]\n"
     ]
    },
    {
     "data": {
      "text/plain": [
       "[array([0.66689439, 0.69028724]),\n",
       " array([0.62330306, 0.62435127]),\n",
       " array([0.61492618, 0.7423335 ]),\n",
       " array([-6.11927214, -0.1636663 ]),\n",
       " array([-0.1553119 ,  6.43866538]),\n",
       " array([-0.84623176,  1.15539719]),\n",
       " array([-6.11820001, -0.16413094]),\n",
       " array([-1.23362202, -0.25409408]),\n",
       " array([-1.55462031, -0.01595694]),\n",
       " array([0.66687327, 0.69027389]),\n",
       " array([0.60311568, 0.75717095]),\n",
       " array([0.67441593, 0.89263727]),\n",
       " array([-6.11495653, -0.16422911]),\n",
       " array([-4.69715679,  0.01033722]),\n",
       " array([-6.11818538, -0.16329684]),\n",
       " array([-4.88292541, -0.10382926]),\n",
       " array([-5.62202418, -0.16505536]),\n",
       " array([-1.55977121,  0.05319744]),\n",
       " array([-1.64761462,  0.09664082]),\n",
       " array([-1.50049705, -0.07489552]),\n",
       " array([0.26683882, 0.36036987]),\n",
       " array([-1.58203108,  0.16525705]),\n",
       " array([-6.11695237, -0.16364636]),\n",
       " array([0.66548297, 0.69180475]),\n",
       " array([0.66830876, 0.68888402]),\n",
       " array([0.51601657, 0.85835896]),\n",
       " array([0.67059947, 0.68653451]),\n",
       " array([0.66663763, 0.69040568]),\n",
       " array([-6.11837701, -0.16338075]),\n",
       " array([-6.12300788, -0.1613364 ]),\n",
       " array([-1.19349721, -0.26364051]),\n",
       " array([-1.40431831, -0.14140997])]"
      ]
     },
     "execution_count": 11,
     "metadata": {},
     "output_type": "execute_result"
    }
   ],
   "source": [
    "archive = []\n",
    "for i in range (len(cluster_center)):\n",
    "    subbound = np.array([cluster_center[i]-cluster_radius[i],cluster_center[i]+cluster_radius[i]])\n",
    "    root, root_score = gal.GA(objective_function=root_objective_function,\n",
    "                              population_size=m,\n",
    "                              boundaries=subbound,\n",
    "                              max_generation=k_max,\n",
    "                              mutation_rate=mutation_rate,\n",
    "                              seed=seed)\n",
    "    archive.append(root)\n",
    "    print(f'\\n====== Cluster {i} ======\\n')\n",
    "    print(f'Roots = {archive}')\n",
    "archive"
   ]
  },
  {
   "cell_type": "code",
   "execution_count": 12,
   "metadata": {},
   "outputs": [
    {
     "data": {
      "text/plain": [
       "array([], dtype=float64)"
      ]
     },
     "execution_count": 12,
     "metadata": {},
     "output_type": "execute_result"
    }
   ],
   "source": [
    "if dim == 1:\n",
    "    list_criteria = [element for sublist in archive for element in sublist] #convert from 2D array into 1D array\n",
    "else:\n",
    "    list_criteria = archive\n",
    "eligible_roots = np.array([x for x in list_criteria if (root_objective_function(x))<-1+epsilon])\n",
    "eligible_roots"
   ]
  },
  {
   "cell_type": "code",
   "execution_count": 13,
   "metadata": {},
   "outputs": [
    {
     "data": {
      "text/plain": [
       "array([], dtype=float64)"
      ]
     },
     "execution_count": 13,
     "metadata": {},
     "output_type": "execute_result"
    }
   ],
   "source": [
    "id_duplicated_roots = []\n",
    "for i in range(len(eligible_roots)):\n",
    "    for j in range (i+1,len(eligible_roots)):\n",
    "        if np.linalg.norm(eligible_roots[i]-eligible_roots[j])<delta:\n",
    "            id_duplicated_roots.append([i,j])\n",
    "id_duplicated_roots = np.unique(id_duplicated_roots,axis=0)\n",
    "deselected_id_duplicated_roots = []\n",
    "for i in range (len(id_duplicated_roots)):\n",
    "    root_a = root_objective_function(eligible_roots[id_duplicated_roots[i][0]])\n",
    "    root_b = root_objective_function(eligible_roots[id_duplicated_roots[i][1]])\n",
    "    if root_a<=root_b:\n",
    "        id_duplicated_root = id_duplicated_roots[i][1]\n",
    "    else:\n",
    "        id_duplicated_root = id_duplicated_roots[i][0]\n",
    "    deselected_id_duplicated_roots.append(id_duplicated_root)\n",
    "\n",
    "if deselected_id_duplicated_roots:\n",
    "    unique_roots = np.ones(len(eligible_roots),dtype=bool)\n",
    "    unique_roots[deselected_id_duplicated_roots] = False\n",
    "    final_root = eligible_roots[unique_roots]\n",
    "else:\n",
    "    final_root = eligible_roots\n",
    "\n",
    "final_root"
   ]
  }
 ],
 "metadata": {
  "kernelspec": {
   "display_name": "Python 3",
   "language": "python",
   "name": "python3"
  },
  "language_info": {
   "codemirror_mode": {
    "name": "ipython",
    "version": 3
   },
   "file_extension": ".py",
   "mimetype": "text/x-python",
   "name": "python",
   "nbconvert_exporter": "python",
   "pygments_lexer": "ipython3",
   "version": "3.8.8"
  }
 },
 "nbformat": 4,
 "nbformat_minor": 2
}
