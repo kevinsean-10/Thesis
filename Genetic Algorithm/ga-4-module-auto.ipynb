{
 "cells": [
  {
   "cell_type": "code",
   "execution_count": 1,
   "metadata": {},
   "outputs": [],
   "source": [
    "import numpy as np\n",
    "import matplotlib.pyplot as plt\n",
    "\n",
    "\n"
   ]
  },
  {
   "cell_type": "markdown",
   "metadata": {},
   "source": [
    "**Problem 1 Pak Kun**"
   ]
  },
  {
   "cell_type": "code",
   "execution_count": 2,
   "metadata": {},
   "outputs": [],
   "source": [
    "# epsilon = 1e-3\n",
    "# delta = 0.01\n",
    "# n_point = 200\n",
    "# gen_max = 100\n",
    "# dim = 2\n",
    "# p_mutation = 0.1\n",
    "\n",
    "# # how many parts/slices do you desire in each dimension?\n",
    "# parts = 100\n",
    "\n",
    "# def objective_function(x):\n",
    "#     f1 = np.exp(x[0]-x[1])-np.sin(x[0]+x[1])\n",
    "#     f2 = (x[0]*x[1])**2-np.cos(x[0]+x[1])\n",
    "#     return np.array([f1,f2])\n",
    "\n",
    "# boundaries = np.array([(-10,10) for _ in range (dim)])\n"
   ]
  },
  {
   "cell_type": "markdown",
   "metadata": {},
   "source": [
    "**Problem 2 Pak Kun**"
   ]
  },
  {
   "cell_type": "code",
   "execution_count": 3,
   "metadata": {},
   "outputs": [],
   "source": [
    "epsilon = 1e-3\n",
    "delta = 0.4\n",
    "\n",
    "gen_max = 100\n",
    "dim = 2\n",
    "p_mutation = 0.1\n",
    "\n",
    "\n",
    "parts = 100\n",
    "n_point = 100\n",
    "\n",
    "\n",
    "def objective_function(x):\n",
    "    f1 = 0.5*np.sin(x[0]*x[1])-0.25*x[1]/np.pi - 0.5*x[0]\n",
    "    f2 = (1-0.25/np.pi)*(np.exp(2*x[0])-np.exp(1))+np.exp(1)*x[1]/np.pi - 2*np.exp(1)*x[0]\n",
    "    f_list = np.array([f1,f2])\n",
    "    return f_list\n",
    "boundaries = np.array([(-1,3),(-17,4)])"
   ]
  },
  {
   "cell_type": "code",
   "execution_count": 4,
   "metadata": {},
   "outputs": [],
   "source": [
    "def root_objective_function(x:np.ndarray):\n",
    "    res = 0\n",
    "    F_array = objective_function(x)\n",
    "    for f in F_array:\n",
    "        res +=(f)**2\n",
    "    return res\n",
    "\n",
    "# def root_objective_function(x:np.ndarray):\n",
    "#     denom = 1\n",
    "#     F_array = objective_function(x)\n",
    "#     for f in F_array:\n",
    "#         denom += np.abs(f)\n",
    "#     res = 1/denom\n",
    "#     return -res"
   ]
  },
  {
   "cell_type": "code",
   "execution_count": 5,
   "metadata": {},
   "outputs": [
    {
     "name": "stderr",
     "output_type": "stream",
     "text": [
      "Processing:   0%|          | 0/50 [00:08<?, ?it/s]\n"
     ]
    },
    {
     "ename": "KeyboardInterrupt",
     "evalue": "",
     "output_type": "error",
     "traceback": [
      "\u001b[1;31m---------------------------------------------------------------------------\u001b[0m",
      "\u001b[1;31mKeyboardInterrupt\u001b[0m                         Traceback (most recent call last)",
      "Cell \u001b[1;32mIn[5], line 17\u001b[0m\n\u001b[0;32m     15\u001b[0m archiveA \u001b[38;5;241m=\u001b[39m []\n\u001b[0;32m     16\u001b[0m seed \u001b[38;5;241m=\u001b[39m np\u001b[38;5;241m.\u001b[39mrandom\u001b[38;5;241m.\u001b[39mrandint(\u001b[38;5;241m0\u001b[39m,\u001b[38;5;241m100\u001b[39m)\n\u001b[1;32m---> 17\u001b[0m archiveA \u001b[38;5;241m=\u001b[39m \u001b[43mgam\u001b[49m\u001b[38;5;241;43m.\u001b[39;49m\u001b[43mroot_GenAl\u001b[49m\u001b[43m(\u001b[49m\u001b[43mobjective_function\u001b[49m\u001b[38;5;241;43m=\u001b[39;49m\u001b[43mobjective_function\u001b[49m\u001b[43m,\u001b[49m\n\u001b[0;32m     18\u001b[0m \u001b[43m                            \u001b[49m\u001b[43mroot_objective_function\u001b[49m\u001b[38;5;241;43m=\u001b[39;49m\u001b[43mroot_objective_function\u001b[49m\u001b[43m,\u001b[49m\n\u001b[0;32m     19\u001b[0m \u001b[43m                            \u001b[49m\u001b[43mboundaries\u001b[49m\u001b[38;5;241;43m=\u001b[39;49m\u001b[43mboundaries\u001b[49m\u001b[43m,\u001b[49m\n\u001b[0;32m     20\u001b[0m \u001b[43m                            \u001b[49m\u001b[43mdim\u001b[49m\u001b[38;5;241;43m=\u001b[39;49m\u001b[43mdim\u001b[49m\u001b[43m,\u001b[49m\n\u001b[0;32m     21\u001b[0m \u001b[43m                            \u001b[49m\u001b[43mgen_max\u001b[49m\u001b[38;5;241;43m=\u001b[39;49m\u001b[43mgen_max\u001b[49m\u001b[43m,\u001b[49m\n\u001b[0;32m     22\u001b[0m \u001b[43m                            \u001b[49m\u001b[43mn_points\u001b[49m\u001b[38;5;241;43m=\u001b[39;49m\u001b[43mn_point\u001b[49m\u001b[43m,\u001b[49m\n\u001b[0;32m     23\u001b[0m \u001b[43m                            \u001b[49m\u001b[43mepsilon\u001b[49m\u001b[38;5;241;43m=\u001b[39;49m\u001b[43mepsilon\u001b[49m\u001b[43m,\u001b[49m\n\u001b[0;32m     24\u001b[0m \u001b[43m                            \u001b[49m\u001b[43mdelta\u001b[49m\u001b[38;5;241;43m=\u001b[39;49m\u001b[43mdelta\u001b[49m\u001b[43m,\u001b[49m\n\u001b[0;32m     25\u001b[0m \u001b[43m                            \u001b[49m\u001b[43mp_mutation\u001b[49m\u001b[38;5;241;43m=\u001b[39;49m\u001b[43mp_mutation\u001b[49m\u001b[43m,\u001b[49m\n\u001b[0;32m     26\u001b[0m \u001b[43m                            \u001b[49m\u001b[43mparts\u001b[49m\u001b[38;5;241;43m=\u001b[39;49m\u001b[43mparts\u001b[49m\u001b[43m,\u001b[49m\n\u001b[0;32m     27\u001b[0m \u001b[43m                            \u001b[49m\u001b[43mseed\u001b[49m\u001b[38;5;241;43m=\u001b[39;49m\u001b[38;5;241;43m0\u001b[39;49m\u001b[43m,\u001b[49m\n\u001b[0;32m     28\u001b[0m \u001b[43m                            \u001b[49m\u001b[43mprint_cluster\u001b[49m\u001b[38;5;241;43m=\u001b[39;49m\u001b[38;5;28;43;01mFalse\u001b[39;49;00m\u001b[43m)\u001b[49m\n\u001b[0;32m     29\u001b[0m archiveD \u001b[38;5;241m=\u001b[39m root_objective_function([archiveA[:,\u001b[38;5;241m0\u001b[39m],archiveA[:,\u001b[38;5;241m1\u001b[39m]])\n\u001b[0;32m     30\u001b[0m end \u001b[38;5;241m=\u001b[39m time\u001b[38;5;241m.\u001b[39mtime()\n",
      "File \u001b[1;32md:\\OneDrive - Institut Teknologi Bandung\\[AKADEMIK]\\Semester 7\\TA\\Thesis\\Genetic Algorithm\\genal_module.py:106\u001b[0m, in \u001b[0;36mroot_GenAl\u001b[1;34m(objective_function, root_objective_function, boundaries, dim, gen_max, n_points, epsilon, delta, p_mutation, parts, seed, print_cluster)\u001b[0m\n\u001b[0;32m    104\u001b[0m values \u001b[38;5;241m=\u001b[39m []\n\u001b[0;32m    105\u001b[0m \u001b[38;5;28;01mfor\u001b[39;00m i \u001b[38;5;129;01min\u001b[39;00m \u001b[38;5;28mrange\u001b[39m (cluster\u001b[38;5;241m.\u001b[39mshape[\u001b[38;5;241m0\u001b[39m]):\n\u001b[1;32m--> 106\u001b[0m     root,value \u001b[38;5;241m=\u001b[39m \u001b[43mGenAl\u001b[49m\u001b[43m(\u001b[49m\u001b[38;5;241;43m2\u001b[39;49m\u001b[43m,\u001b[49m\n\u001b[0;32m    107\u001b[0m \u001b[43m                       \u001b[49m\u001b[38;5;241;43m1\u001b[39;49m\u001b[43m,\u001b[49m\n\u001b[0;32m    108\u001b[0m \u001b[43m                       \u001b[49m\u001b[43mxl\u001b[49m\u001b[38;5;241;43m=\u001b[39;49m\u001b[43mcluster\u001b[49m\u001b[43m[\u001b[49m\u001b[43mi\u001b[49m\u001b[43m,\u001b[49m\u001b[43m:\u001b[49m\u001b[43m,\u001b[49m\u001b[43m:\u001b[49m\u001b[43m]\u001b[49m\u001b[43m[\u001b[49m\u001b[38;5;241;43m0\u001b[39;49m\u001b[43m]\u001b[49m\u001b[43m,\u001b[49m\n\u001b[0;32m    109\u001b[0m \u001b[43m                       \u001b[49m\u001b[43mxu\u001b[49m\u001b[38;5;241;43m=\u001b[39;49m\u001b[43mcluster\u001b[49m\u001b[43m[\u001b[49m\u001b[43mi\u001b[49m\u001b[43m,\u001b[49m\u001b[43m:\u001b[49m\u001b[43m,\u001b[49m\u001b[43m:\u001b[49m\u001b[43m]\u001b[49m\u001b[43m[\u001b[49m\u001b[38;5;241;43m-\u001b[39;49m\u001b[38;5;241;43m1\u001b[39;49m\u001b[43m]\u001b[49m\u001b[43m,\u001b[49m\n\u001b[0;32m    110\u001b[0m \u001b[43m                       \u001b[49m\u001b[43mobjective_function\u001b[49m\u001b[38;5;241;43m=\u001b[39;49m\u001b[43mroot_objective_function\u001b[49m\u001b[43m,\u001b[49m\n\u001b[0;32m    111\u001b[0m \u001b[43m                       \u001b[49m\u001b[43malgorithmGA\u001b[49m\u001b[38;5;241;43m=\u001b[39;49m\u001b[43malgorithmGAp1\u001b[49m\u001b[43m,\u001b[49m\n\u001b[0;32m    112\u001b[0m \u001b[43m                       \u001b[49m\u001b[43mtermination\u001b[49m\u001b[38;5;241;43m=\u001b[39;49m\u001b[43mterminationp1\u001b[49m\u001b[43m,\u001b[49m\n\u001b[0;32m    113\u001b[0m \u001b[43m                       \u001b[49m\u001b[43mseed\u001b[49m\u001b[38;5;241;43m=\u001b[39;49m\u001b[43mseed\u001b[49m\u001b[43m)\u001b[49m\n\u001b[0;32m    114\u001b[0m     roots\u001b[38;5;241m.\u001b[39mappend(root)\n\u001b[0;32m    115\u001b[0m     values\u001b[38;5;241m.\u001b[39mappend(value)\n",
      "File \u001b[1;32md:\\OneDrive - Institut Teknologi Bandung\\[AKADEMIK]\\Semester 7\\TA\\Thesis\\Genetic Algorithm\\genal_module.py:45\u001b[0m, in \u001b[0;36mGenAl\u001b[1;34m(n_var, n_obj, xl, xu, objective_function, algorithmGA, termination, seed, verbose)\u001b[0m\n\u001b[0;32m     42\u001b[0m         out[\u001b[38;5;124m'\u001b[39m\u001b[38;5;124mF\u001b[39m\u001b[38;5;124m'\u001b[39m] \u001b[38;5;241m=\u001b[39m objective_function(x)\n\u001b[0;32m     44\u001b[0m problem \u001b[38;5;241m=\u001b[39m myProblem()\n\u001b[1;32m---> 45\u001b[0m result \u001b[38;5;241m=\u001b[39m \u001b[43mminimize\u001b[49m\u001b[43m(\u001b[49m\u001b[43mproblem\u001b[49m\u001b[38;5;241;43m=\u001b[39;49m\u001b[43mproblem\u001b[49m\u001b[43m,\u001b[49m\n\u001b[0;32m     46\u001b[0m \u001b[43m                \u001b[49m\u001b[43malgorithm\u001b[49m\u001b[38;5;241;43m=\u001b[39;49m\u001b[43malgorithmGA\u001b[49m\u001b[43m,\u001b[49m\n\u001b[0;32m     47\u001b[0m \u001b[43m                \u001b[49m\u001b[43mtermination\u001b[49m\u001b[38;5;241;43m=\u001b[39;49m\u001b[43mtermination\u001b[49m\u001b[43m,\u001b[49m\n\u001b[0;32m     48\u001b[0m \u001b[43m                \u001b[49m\u001b[43mseed\u001b[49m\u001b[38;5;241;43m=\u001b[39;49m\u001b[43mseed\u001b[49m\u001b[43m,\u001b[49m\n\u001b[0;32m     49\u001b[0m \u001b[43m                \u001b[49m\u001b[43mverbose\u001b[49m\u001b[38;5;241;43m=\u001b[39;49m\u001b[43mverbose\u001b[49m\u001b[43m)\u001b[49m\n\u001b[0;32m     50\u001b[0m \u001b[38;5;28;01mreturn\u001b[39;00m [result\u001b[38;5;241m.\u001b[39mX,result\u001b[38;5;241m.\u001b[39mF]\n",
      "File \u001b[1;32mc:\\Users\\ACER\\AppData\\Local\\Programs\\Python\\Python38\\lib\\site-packages\\pymoo\\optimize.py:67\u001b[0m, in \u001b[0;36mminimize\u001b[1;34m(problem, algorithm, termination, copy_algorithm, copy_termination, **kwargs)\u001b[0m\n\u001b[0;32m     64\u001b[0m     algorithm\u001b[38;5;241m.\u001b[39msetup(problem, \u001b[38;5;241m*\u001b[39m\u001b[38;5;241m*\u001b[39mkwargs)\n\u001b[0;32m     66\u001b[0m \u001b[38;5;66;03m# actually execute the algorithm\u001b[39;00m\n\u001b[1;32m---> 67\u001b[0m res \u001b[38;5;241m=\u001b[39m \u001b[43malgorithm\u001b[49m\u001b[38;5;241;43m.\u001b[39;49m\u001b[43mrun\u001b[49m\u001b[43m(\u001b[49m\u001b[43m)\u001b[49m\n\u001b[0;32m     69\u001b[0m \u001b[38;5;66;03m# store the deep copied algorithm in the result object\u001b[39;00m\n\u001b[0;32m     70\u001b[0m res\u001b[38;5;241m.\u001b[39malgorithm \u001b[38;5;241m=\u001b[39m algorithm\n",
      "File \u001b[1;32mc:\\Users\\ACER\\AppData\\Local\\Programs\\Python\\Python38\\lib\\site-packages\\pymoo\\core\\algorithm.py:138\u001b[0m, in \u001b[0;36mAlgorithm.run\u001b[1;34m(self)\u001b[0m\n\u001b[0;32m    136\u001b[0m \u001b[38;5;28;01mdef\u001b[39;00m \u001b[38;5;21mrun\u001b[39m(\u001b[38;5;28mself\u001b[39m):\n\u001b[0;32m    137\u001b[0m     \u001b[38;5;28;01mwhile\u001b[39;00m \u001b[38;5;28mself\u001b[39m\u001b[38;5;241m.\u001b[39mhas_next():\n\u001b[1;32m--> 138\u001b[0m         \u001b[38;5;28;43mself\u001b[39;49m\u001b[38;5;241;43m.\u001b[39;49m\u001b[43mnext\u001b[49m\u001b[43m(\u001b[49m\u001b[43m)\u001b[49m\n\u001b[0;32m    139\u001b[0m     \u001b[38;5;28;01mreturn\u001b[39;00m \u001b[38;5;28mself\u001b[39m\u001b[38;5;241m.\u001b[39mresult()\n",
      "File \u001b[1;32mc:\\Users\\ACER\\AppData\\Local\\Programs\\Python\\Python38\\lib\\site-packages\\pymoo\\core\\algorithm.py:154\u001b[0m, in \u001b[0;36mAlgorithm.next\u001b[1;34m(self)\u001b[0m\n\u001b[0;32m    151\u001b[0m \u001b[38;5;28;01mdef\u001b[39;00m \u001b[38;5;21mnext\u001b[39m(\u001b[38;5;28mself\u001b[39m):\n\u001b[0;32m    152\u001b[0m \n\u001b[0;32m    153\u001b[0m     \u001b[38;5;66;03m# get the infill solutions\u001b[39;00m\n\u001b[1;32m--> 154\u001b[0m     infills \u001b[38;5;241m=\u001b[39m \u001b[38;5;28;43mself\u001b[39;49m\u001b[38;5;241;43m.\u001b[39;49m\u001b[43minfill\u001b[49m\u001b[43m(\u001b[49m\u001b[43m)\u001b[49m\n\u001b[0;32m    156\u001b[0m     \u001b[38;5;66;03m# call the advance with them after evaluation\u001b[39;00m\n\u001b[0;32m    157\u001b[0m     \u001b[38;5;28;01mif\u001b[39;00m infills \u001b[38;5;129;01mis\u001b[39;00m \u001b[38;5;129;01mnot\u001b[39;00m \u001b[38;5;28;01mNone\u001b[39;00m:\n",
      "File \u001b[1;32mc:\\Users\\ACER\\AppData\\Local\\Programs\\Python\\Python38\\lib\\site-packages\\pymoo\\core\\algorithm.py:190\u001b[0m, in \u001b[0;36mAlgorithm.infill\u001b[1;34m(self)\u001b[0m\n\u001b[0;32m    186\u001b[0m     infills \u001b[38;5;241m=\u001b[39m \u001b[38;5;28mself\u001b[39m\u001b[38;5;241m.\u001b[39m_initialize_infill()\n\u001b[0;32m    188\u001b[0m \u001b[38;5;28;01melse\u001b[39;00m:\n\u001b[0;32m    189\u001b[0m     \u001b[38;5;66;03m# request the infill solutions if the algorithm has implemented it\u001b[39;00m\n\u001b[1;32m--> 190\u001b[0m     infills \u001b[38;5;241m=\u001b[39m \u001b[38;5;28;43mself\u001b[39;49m\u001b[38;5;241;43m.\u001b[39;49m\u001b[43m_infill\u001b[49m\u001b[43m(\u001b[49m\u001b[43m)\u001b[49m\n\u001b[0;32m    192\u001b[0m \u001b[38;5;66;03m# set the current generation to the offsprings\u001b[39;00m\n\u001b[0;32m    193\u001b[0m \u001b[38;5;28;01mif\u001b[39;00m infills \u001b[38;5;129;01mis\u001b[39;00m \u001b[38;5;129;01mnot\u001b[39;00m \u001b[38;5;28;01mNone\u001b[39;00m:\n",
      "File \u001b[1;32mc:\\Users\\ACER\\AppData\\Local\\Programs\\Python\\Python38\\lib\\site-packages\\pymoo\\algorithms\\base\\genetic.py:85\u001b[0m, in \u001b[0;36mGeneticAlgorithm._infill\u001b[1;34m(self)\u001b[0m\n\u001b[0;32m     82\u001b[0m \u001b[38;5;28;01mdef\u001b[39;00m \u001b[38;5;21m_infill\u001b[39m(\u001b[38;5;28mself\u001b[39m):\n\u001b[0;32m     83\u001b[0m \n\u001b[0;32m     84\u001b[0m     \u001b[38;5;66;03m# do the mating using the current population\u001b[39;00m\n\u001b[1;32m---> 85\u001b[0m     off \u001b[38;5;241m=\u001b[39m \u001b[38;5;28;43mself\u001b[39;49m\u001b[38;5;241;43m.\u001b[39;49m\u001b[43mmating\u001b[49m\u001b[38;5;241;43m.\u001b[39;49m\u001b[43mdo\u001b[49m\u001b[43m(\u001b[49m\u001b[38;5;28;43mself\u001b[39;49m\u001b[38;5;241;43m.\u001b[39;49m\u001b[43mproblem\u001b[49m\u001b[43m,\u001b[49m\u001b[43m \u001b[49m\u001b[38;5;28;43mself\u001b[39;49m\u001b[38;5;241;43m.\u001b[39;49m\u001b[43mpop\u001b[49m\u001b[43m,\u001b[49m\u001b[43m \u001b[49m\u001b[38;5;28;43mself\u001b[39;49m\u001b[38;5;241;43m.\u001b[39;49m\u001b[43mn_offsprings\u001b[49m\u001b[43m,\u001b[49m\u001b[43m \u001b[49m\u001b[43malgorithm\u001b[49m\u001b[38;5;241;43m=\u001b[39;49m\u001b[38;5;28;43mself\u001b[39;49m\u001b[43m)\u001b[49m\n\u001b[0;32m     87\u001b[0m     \u001b[38;5;66;03m# if the mating could not generate any new offspring (duplicate elimination might make that happen)\u001b[39;00m\n\u001b[0;32m     88\u001b[0m     \u001b[38;5;28;01mif\u001b[39;00m \u001b[38;5;28mlen\u001b[39m(off) \u001b[38;5;241m==\u001b[39m \u001b[38;5;241m0\u001b[39m:\n",
      "File \u001b[1;32mc:\\Users\\ACER\\AppData\\Local\\Programs\\Python\\Python38\\lib\\site-packages\\pymoo\\core\\infill.py:38\u001b[0m, in \u001b[0;36mInfillCriterion.do\u001b[1;34m(self, problem, pop, n_offsprings, **kwargs)\u001b[0m\n\u001b[0;32m     35\u001b[0m n_remaining \u001b[38;5;241m=\u001b[39m n_offsprings \u001b[38;5;241m-\u001b[39m \u001b[38;5;28mlen\u001b[39m(off)\n\u001b[0;32m     37\u001b[0m \u001b[38;5;66;03m# do the mating\u001b[39;00m\n\u001b[1;32m---> 38\u001b[0m _off \u001b[38;5;241m=\u001b[39m \u001b[38;5;28;43mself\u001b[39;49m\u001b[38;5;241;43m.\u001b[39;49m\u001b[43m_do\u001b[49m\u001b[43m(\u001b[49m\u001b[43mproblem\u001b[49m\u001b[43m,\u001b[49m\u001b[43m \u001b[49m\u001b[43mpop\u001b[49m\u001b[43m,\u001b[49m\u001b[43m \u001b[49m\u001b[43mn_remaining\u001b[49m\u001b[43m,\u001b[49m\u001b[43m \u001b[49m\u001b[38;5;241;43m*\u001b[39;49m\u001b[38;5;241;43m*\u001b[39;49m\u001b[43mkwargs\u001b[49m\u001b[43m)\u001b[49m\n\u001b[0;32m     40\u001b[0m \u001b[38;5;66;03m# repair the individuals if necessary - disabled if repair is NoRepair\u001b[39;00m\n\u001b[0;32m     41\u001b[0m _off \u001b[38;5;241m=\u001b[39m \u001b[38;5;28mself\u001b[39m\u001b[38;5;241m.\u001b[39mrepair(problem, _off, \u001b[38;5;241m*\u001b[39m\u001b[38;5;241m*\u001b[39mkwargs)\n",
      "File \u001b[1;32mc:\\Users\\ACER\\AppData\\Local\\Programs\\Python\\Python38\\lib\\site-packages\\pymoo\\core\\mating.py:34\u001b[0m, in \u001b[0;36mMating._do\u001b[1;34m(self, problem, pop, n_offsprings, parents, **kwargs)\u001b[0m\n\u001b[0;32m     31\u001b[0m off \u001b[38;5;241m=\u001b[39m \u001b[38;5;28mself\u001b[39m\u001b[38;5;241m.\u001b[39mcrossover(problem, parents, \u001b[38;5;241m*\u001b[39m\u001b[38;5;241m*\u001b[39mkwargs)\n\u001b[0;32m     33\u001b[0m \u001b[38;5;66;03m# do the mutation on the offsprings created through crossover\u001b[39;00m\n\u001b[1;32m---> 34\u001b[0m off \u001b[38;5;241m=\u001b[39m \u001b[38;5;28;43mself\u001b[39;49m\u001b[38;5;241;43m.\u001b[39;49m\u001b[43mmutation\u001b[49m\u001b[43m(\u001b[49m\u001b[43mproblem\u001b[49m\u001b[43m,\u001b[49m\u001b[43m \u001b[49m\u001b[43moff\u001b[49m\u001b[43m,\u001b[49m\u001b[43m \u001b[49m\u001b[38;5;241;43m*\u001b[39;49m\u001b[38;5;241;43m*\u001b[39;49m\u001b[43mkwargs\u001b[49m\u001b[43m)\u001b[49m\n\u001b[0;32m     36\u001b[0m \u001b[38;5;28;01mreturn\u001b[39;00m off\n",
      "File \u001b[1;32mc:\\Users\\ACER\\AppData\\Local\\Programs\\Python\\Python38\\lib\\site-packages\\pymoo\\core\\operator.py:27\u001b[0m, in \u001b[0;36mOperator.__call__\u001b[1;34m(self, problem, elem, to_numpy, *args, **kwargs)\u001b[0m\n\u001b[0;32m     26\u001b[0m \u001b[38;5;28;01mdef\u001b[39;00m \u001b[38;5;21m__call__\u001b[39m(\u001b[38;5;28mself\u001b[39m, problem, elem, \u001b[38;5;241m*\u001b[39margs, to_numpy\u001b[38;5;241m=\u001b[39m\u001b[38;5;28;01mFalse\u001b[39;00m, \u001b[38;5;241m*\u001b[39m\u001b[38;5;241m*\u001b[39mkwargs):\n\u001b[1;32m---> 27\u001b[0m     out \u001b[38;5;241m=\u001b[39m \u001b[38;5;28;43mself\u001b[39;49m\u001b[38;5;241;43m.\u001b[39;49m\u001b[43mdo\u001b[49m\u001b[43m(\u001b[49m\u001b[43mproblem\u001b[49m\u001b[43m,\u001b[49m\u001b[43m \u001b[49m\u001b[43melem\u001b[49m\u001b[43m,\u001b[49m\u001b[43m \u001b[49m\u001b[38;5;241;43m*\u001b[39;49m\u001b[43margs\u001b[49m\u001b[43m,\u001b[49m\u001b[43m \u001b[49m\u001b[38;5;241;43m*\u001b[39;49m\u001b[38;5;241;43m*\u001b[39;49m\u001b[43mkwargs\u001b[49m\u001b[43m)\u001b[49m\n\u001b[0;32m     29\u001b[0m     \u001b[38;5;28;01mif\u001b[39;00m \u001b[38;5;28mself\u001b[39m\u001b[38;5;241m.\u001b[39mvtype \u001b[38;5;129;01mis\u001b[39;00m \u001b[38;5;129;01mnot\u001b[39;00m \u001b[38;5;28;01mNone\u001b[39;00m:\n\u001b[0;32m     30\u001b[0m         \u001b[38;5;28;01mfor\u001b[39;00m ind \u001b[38;5;129;01min\u001b[39;00m out:\n",
      "File \u001b[1;32mc:\\Users\\ACER\\AppData\\Local\\Programs\\Python\\Python38\\lib\\site-packages\\pymoo\\core\\mutation.py:25\u001b[0m, in \u001b[0;36mMutation.do\u001b[1;34m(self, problem, pop, inplace, **kwargs)\u001b[0m\n\u001b[0;32m     22\u001b[0m n_mut \u001b[38;5;241m=\u001b[39m \u001b[38;5;28mlen\u001b[39m(pop)\n\u001b[0;32m     24\u001b[0m \u001b[38;5;66;03m# get the variables to be mutated\u001b[39;00m\n\u001b[1;32m---> 25\u001b[0m X \u001b[38;5;241m=\u001b[39m \u001b[43mpop\u001b[49m\u001b[38;5;241;43m.\u001b[39;49m\u001b[43mget\u001b[49m\u001b[43m(\u001b[49m\u001b[38;5;124;43m\"\u001b[39;49m\u001b[38;5;124;43mX\u001b[39;49m\u001b[38;5;124;43m\"\u001b[39;49m\u001b[43m)\u001b[49m\n\u001b[0;32m     27\u001b[0m \u001b[38;5;66;03m# retrieve the mutation variables\u001b[39;00m\n\u001b[0;32m     28\u001b[0m Xp \u001b[38;5;241m=\u001b[39m \u001b[38;5;28mself\u001b[39m\u001b[38;5;241m.\u001b[39m_do(problem, X, \u001b[38;5;241m*\u001b[39m\u001b[38;5;241m*\u001b[39mkwargs)\n",
      "File \u001b[1;32mc:\\Users\\ACER\\AppData\\Local\\Programs\\Python\\Python38\\lib\\site-packages\\pymoo\\core\\population.py:72\u001b[0m, in \u001b[0;36mPopulation.get\u001b[1;34m(self, to_numpy, *args, **kwargs)\u001b[0m\n\u001b[0;32m     70\u001b[0m \u001b[38;5;66;03m# to numpy array if desired - default true\u001b[39;00m\n\u001b[0;32m     71\u001b[0m \u001b[38;5;28;01mif\u001b[39;00m to_numpy:\n\u001b[1;32m---> 72\u001b[0m     res \u001b[38;5;241m=\u001b[39m [np\u001b[38;5;241m.\u001b[39marray(e) \u001b[38;5;28;01mfor\u001b[39;00m e \u001b[38;5;129;01min\u001b[39;00m res]\n\u001b[0;32m     74\u001b[0m \u001b[38;5;66;03m# return as tuple or single value\u001b[39;00m\n\u001b[0;32m     75\u001b[0m \u001b[38;5;28;01mif\u001b[39;00m \u001b[38;5;28mlen\u001b[39m(args) \u001b[38;5;241m==\u001b[39m \u001b[38;5;241m1\u001b[39m:\n",
      "File \u001b[1;32mc:\\Users\\ACER\\AppData\\Local\\Programs\\Python\\Python38\\lib\\site-packages\\pymoo\\core\\population.py:72\u001b[0m, in \u001b[0;36m<listcomp>\u001b[1;34m(.0)\u001b[0m\n\u001b[0;32m     70\u001b[0m \u001b[38;5;66;03m# to numpy array if desired - default true\u001b[39;00m\n\u001b[0;32m     71\u001b[0m \u001b[38;5;28;01mif\u001b[39;00m to_numpy:\n\u001b[1;32m---> 72\u001b[0m     res \u001b[38;5;241m=\u001b[39m [\u001b[43mnp\u001b[49m\u001b[38;5;241;43m.\u001b[39;49m\u001b[43marray\u001b[49m\u001b[43m(\u001b[49m\u001b[43me\u001b[49m\u001b[43m)\u001b[49m \u001b[38;5;28;01mfor\u001b[39;00m e \u001b[38;5;129;01min\u001b[39;00m res]\n\u001b[0;32m     74\u001b[0m \u001b[38;5;66;03m# return as tuple or single value\u001b[39;00m\n\u001b[0;32m     75\u001b[0m \u001b[38;5;28;01mif\u001b[39;00m \u001b[38;5;28mlen\u001b[39m(args) \u001b[38;5;241m==\u001b[39m \u001b[38;5;241m1\u001b[39m:\n",
      "\u001b[1;31mKeyboardInterrupt\u001b[0m: "
     ]
    }
   ],
   "source": [
    "import genal_module as gam\n",
    "import importlib\n",
    "import time\n",
    "from tqdm import tqdm\n",
    "importlib.reload(gam)\n",
    "\n",
    "time_elapsed = [] # time elapsed\n",
    "seed_archive = []\n",
    "archiveB = [] # the root(s) found\n",
    "archiveC = [] # how many roots found\n",
    "archiveD = [] # best solution\n",
    "\n",
    "for i in tqdm(range(50), desc=\"Processing\"):\n",
    "    start = time.time()\n",
    "    archiveA = []\n",
    "    seed = np.random.randint(0,100)\n",
    "    archiveA = gam.root_GenAl(objective_function=objective_function,\n",
    "                                root_objective_function=root_objective_function,\n",
    "                                boundaries=boundaries,\n",
    "                                dim=dim,\n",
    "                                gen_max=gen_max,\n",
    "                                n_points=n_point,\n",
    "                                epsilon=epsilon,\n",
    "                                delta=delta,\n",
    "                                p_mutation=p_mutation,\n",
    "                                parts=parts,\n",
    "                                seed=0,\n",
    "                                print_cluster=False)\n",
    "    archiveD = root_objective_function([archiveA[:,0],archiveA[:,1]])\n",
    "    end = time.time()\n",
    "    seed_archive.append(seed)\n",
    "    time_elapsed.append(end - start)\n",
    "    archiveB.append(archiveA)\n",
    "    archiveC.append(len(archiveA))\n",
    "\n",
    "archiveC = np.array(archiveC)\n",
    "archiveD = np.array(archiveD)\n",
    "time_elapsed = np.array(time_elapsed)\n",
    "seed_archive = np.array(seed_archive)"
   ]
  },
  {
   "cell_type": "code",
   "execution_count": null,
   "metadata": {},
   "outputs": [
    {
     "name": "stdout",
     "output_type": "stream",
     "text": [
      "STATISTIC\n",
      "__________\n",
      "24.0\n",
      "0.0\n",
      "24\n",
      "24\n",
      "0.00016018376958518217\n",
      "0.00026553228786873934\n",
      "5.889731031589626e-10\n",
      "0.0009388102410453045\n",
      "25.767302317619325\n",
      "3.3550701908385574\n",
      "20.31668710708618\n",
      "36.26104664802551\n"
     ]
    }
   ],
   "source": [
    "print('STATISTIC')\n",
    "print('__________')\n",
    "# print(f'Mean banyak akar: {archiveC.mean()}')\n",
    "# print(f'Std banyak akar: {archiveC.std()}')\n",
    "# print(f'Max banyak akar: {archiveC.max()}')\n",
    "# print(f'Min banyak akar: {archiveC.min()}')\n",
    "# print(f'Mean solusi terbaik: {archiveD.mean()}')\n",
    "# print(f'Std solusi terbaik: {archiveD.std()}')\n",
    "# print(f'Max solusi terbaik: {archiveD.min()}')\n",
    "# print(f'Min solusi terbaik: {archiveD.max()}')\n",
    "# print(f'Mean time elapsed: {time_elapsed.mean()}')\n",
    "# print(f'Std time elapsed: {time_elapsed.std()}')\n",
    "# print(f'Best time elapsed: {time_elapsed.min()}')\n",
    "# print(f'Worst time elapsed: {time_elapsed.max()}')\n",
    "\n",
    "print(f'{archiveC.mean()}')\n",
    "print(f'{archiveC.std()}')\n",
    "print(f'{archiveC.max()}')\n",
    "print(f'{archiveC.min()}')\n",
    "print(f'{archiveD.mean()}')\n",
    "print(f'{archiveD.std()}')\n",
    "print(f'{archiveD.min()}')\n",
    "print(f'{archiveD.max()}')\n",
    "print(f'{time_elapsed.mean()}')\n",
    "print(f'{time_elapsed.std()}')\n",
    "print(f'{time_elapsed.min()}')\n",
    "print(f'{time_elapsed.max()}')"
   ]
  }
 ],
 "metadata": {
  "kernelspec": {
   "display_name": "Python 3",
   "language": "python",
   "name": "python3"
  },
  "language_info": {
   "codemirror_mode": {
    "name": "ipython",
    "version": 3
   },
   "file_extension": ".py",
   "mimetype": "text/x-python",
   "name": "python",
   "nbconvert_exporter": "python",
   "pygments_lexer": "ipython3",
   "version": "3.8.8"
  }
 },
 "nbformat": 4,
 "nbformat_minor": 2
}
