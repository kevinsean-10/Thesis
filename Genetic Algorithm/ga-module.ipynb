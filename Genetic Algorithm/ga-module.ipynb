{
 "cells": [
  {
   "cell_type": "code",
   "execution_count": 1,
   "metadata": {},
   "outputs": [],
   "source": [
    "# from pymoo.algorithms.soo.nonconvex.ga import GA\n",
    "# from pymoo.optimize import minimize\n",
    "# from pymoo.core.problem import ElementwiseProblem\n",
    "# class MyProblem(ElementwiseProblem):\n",
    "#     def __init__(self):\n",
    "#         super().__init__(n_var=2, n_obj=1, xl=0, xu=5)\n",
    "\n",
    "#     def _evaluate(self, x, out, *args, **kwargs):\n",
    "#         f1 = (x[0] - 2)**2 + (x[1] - 3)**2\n",
    "#         out[\"F\"] = f1\n",
    "\n",
    "# problem = MyProblem()\n",
    "# algorithm = GA(pop_size=50)\n",
    "# res = minimize(problem,\n",
    "#                algorithm,\n",
    "#                ('n_gen', 40),\n",
    "#                verbose=False)\n",
    "# print(\"Best solution found: \\nX = %s\\nF = %s\" % (res.X, res.F))"
   ]
  },
  {
   "cell_type": "markdown",
   "metadata": {},
   "source": [
    "Evaluate using NSGA"
   ]
  },
  {
   "cell_type": "code",
   "execution_count": 2,
   "metadata": {},
   "outputs": [],
   "source": [
    "# from pymoo.algorithms.moo.nsga2 import NSGA2\n",
    "# from pymoo.optimize import minimize\n",
    "# from pymoo.core.problem import ElementwiseProblem"
   ]
  },
  {
   "cell_type": "code",
   "execution_count": 3,
   "metadata": {},
   "outputs": [],
   "source": [
    "# # Define the custom problem\n",
    "# class MyProblem(ElementwiseProblem):\n",
    "#     def __init__(self):\n",
    "#         super().__init__(n_var=2, n_obj=2, xl=-10, xu=10)\n",
    "\n",
    "#     def _evaluate(self, x, out, *args, **kwargs):\n",
    "#         f1 = (x[0]**2 + x[0] * x[1] - 6)**2\n",
    "#         f2 = (x[0]**2 + x[1]**3 + 2 * x[0] * x[1] - 3)**2\n",
    "#         out[\"F\"] = [f1, f2]\n",
    "\n",
    "# problem = MyProblem()"
   ]
  },
  {
   "cell_type": "code",
   "execution_count": 4,
   "metadata": {},
   "outputs": [],
   "source": [
    "# # Choose NSGA-II as the method for the multi-objective problem\n",
    "# algorithm = NSGA2(pop_size=100)\n",
    "\n",
    "# # Perform the optimization\n",
    "# res = minimize(problem,\n",
    "#                algorithm,\n",
    "#                ('n_gen', 100),\n",
    "#                verbose=True)"
   ]
  },
  {
   "cell_type": "code",
   "execution_count": 5,
   "metadata": {},
   "outputs": [],
   "source": [
    "# # Print the best solution(s)\n",
    "# print('Best solution(s):')\n",
    "# for solution in res.X:\n",
    "#     print(f\"X = {solution}, F = {problem.evaluate(solution)}\")"
   ]
  },
  {
   "cell_type": "markdown",
   "metadata": {},
   "source": [
    "Evaluate using GA"
   ]
  },
  {
   "cell_type": "code",
   "execution_count": 6,
   "metadata": {},
   "outputs": [],
   "source": [
    "# from pymoo.algorithms.soo.nonconvex.ga import GA\n",
    "# from pymoo.optimize import minimize\n",
    "# from pymoo.core.problem import ElementwiseProblem\n",
    "# from pymoo.termination.ftol import SingleObjectiveSpaceTermination\n",
    "# from pymoo.termination.robust import RobustTermination\n",
    "# from pymoo.termination.default import DefaultSingleObjectiveTermination\n",
    "# from pymoo.operators.mutation.pm import PolynomialMutation"
   ]
  },
  {
   "cell_type": "code",
   "execution_count": 7,
   "metadata": {},
   "outputs": [],
   "source": [
    "# class Mastorakis1Problem(ElementwiseProblem):\n",
    "#     def __init__(self):\n",
    "#         super().__init__(n_var=2,n_obj=1,xl=-10,xu=10)\n",
    "#     def _evaluate(self, x, out, *args, **kwargs):\n",
    "#         f1 = (x[0]**2+x[0]*x[1]-6)**2+(x[0]**2+x[1]**3+2*x[0]*x[1]**2-3)**2\n",
    "#         out['F'] = f1\n",
    "\n",
    "# m1problem = Mastorakis1Problem()"
   ]
  },
  {
   "cell_type": "code",
   "execution_count": 8,
   "metadata": {},
   "outputs": [],
   "source": [
    "# # GA parameter\n",
    "# mutation = PolynomialMutation(prob=0.2)\n",
    "# algorithmGA = GA(pop_size=40,eliminate_duplicates=True,mutation=mutation)\n",
    "\n",
    "# # termination variable\n",
    "# termination1 = RobustTermination(\n",
    "#     SingleObjectiveSpaceTermination(tol=0.005, n_skip=5), period=20)\n",
    "# termination2 = DefaultSingleObjectiveTermination(\n",
    "#     xtol=1e-8,\n",
    "#     cvtol=1e-6,\n",
    "#     ftol=1e-6,\n",
    "#     period=20,\n",
    "#     n_max_gen=100,\n",
    "#     n_max_evals=100000\n",
    "# )\n",
    "\n",
    "# m1res = minimize(problem=m1problem,\n",
    "#                  algorithm=algorithmGA,\n",
    "#                  termination=termination2,\n",
    "#                  seed=None,\n",
    "#                  verbose=True)\n",
    "\n",
    "# print(\"Best solution found: \\nX = %s\\nF = %s\" % (m1res.X, m1res.F))"
   ]
  },
  {
   "cell_type": "markdown",
   "metadata": {},
   "source": [
    "# Root GA"
   ]
  },
  {
   "cell_type": "markdown",
   "metadata": {},
   "source": [
    "Problem 1 Pak Kun"
   ]
  },
  {
   "cell_type": "code",
   "execution_count": 9,
   "metadata": {},
   "outputs": [],
   "source": [
    "from pymoo.algorithms.soo.nonconvex.ga import GA\n",
    "from pymoo.optimize import minimize\n",
    "from pymoo.core.problem import ElementwiseProblem\n",
    "from pymoo.termination.default import DefaultSingleObjectiveTermination\n",
    "from pymoo.operators.mutation.pm import PolynomialMutation\n",
    "import numpy as np\n",
    "from itertools import product,combinations\n",
    "import matplotlib.pyplot as plt"
   ]
  },
  {
   "cell_type": "code",
   "execution_count": 10,
   "metadata": {},
   "outputs": [],
   "source": [
    "m_cluster = 50\n",
    "gamma = 0.2\n",
    "epsilon = 10**(-3)\n",
    "delta = 0.01\n",
    "k_cluster = 10\n",
    "n_point = 100\n",
    "k_max = 300\n",
    "dim = 2\n",
    "epsilon = 10**(-5)\n",
    "p_mutation = 0.1\n",
    "num_bits = 64  # Number of bits for each number\n",
    "boundaries = np.array([(-10,10) for _ in range (dim)])"
   ]
  },
  {
   "cell_type": "code",
   "execution_count": 11,
   "metadata": {},
   "outputs": [],
   "source": [
    "def objective_function(x):\n",
    "    f1 = np.exp(x[0]-x[1])-np.sin(x[0]+x[1])\n",
    "    f2 = (x[0]*x[1])**2-np.cos(x[0]+x[1])\n",
    "    # f_list = [f1,f2]\n",
    "    # denom = 0\n",
    "    # for f in f_list:\n",
    "    #     denom +=np.abs(f)\n",
    "    # F = 1/(1+denom)\n",
    "    return np.array([f1,f2])\n"
   ]
  },
  {
   "cell_type": "code",
   "execution_count": 12,
   "metadata": {},
   "outputs": [],
   "source": [
    "def slice_hypercube(lower_bounds, upper_bounds, interval, dim):\n",
    "    # Create a list of arrays, each containing points spaced h apart for each dimension\n",
    "    points = [np.arange(lower_bounds[i], upper_bounds[i], interval) for i in range(dim)]\n",
    "    \n",
    "    # Use meshgrid to create a grid of points in n-dimensional space\n",
    "    grids = np.meshgrid(*points, indexing='ij')\n",
    "    \n",
    "    # Flatten and combine the grid points into a single 2D array\n",
    "    grid_points = np.vstack([grid.ravel() for grid in grids]).T\n",
    "    \n",
    "    # Generate all vertices for smaller hypercubes within each grid cell\n",
    "    return np.array([grid_points + offset for offset in product([0, interval], repeat=dim)])"
   ]
  },
  {
   "cell_type": "code",
   "execution_count": 13,
   "metadata": {},
   "outputs": [],
   "source": [
    "# how many parts/slices do you desire in each dimension?\n",
    "parts = 100\n",
    "\n",
    "# length of each parts in each dimension\n",
    "inc_int = (boundaries[0,1]-boundaries[0,0])/parts\n",
    "\n",
    "# Hypercubes\n",
    "hypercubes_edges = slice_hypercube(lower_bounds=boundaries[:,0],\n",
    "                    upper_bounds=boundaries[:,1],\n",
    "                    interval=inc_int,\n",
    "                    dim=dim)"
   ]
  },
  {
   "cell_type": "code",
   "execution_count": 14,
   "metadata": {},
   "outputs": [
    {
     "data": {
      "text/plain": [
       "12"
      ]
     },
     "execution_count": 14,
     "metadata": {},
     "output_type": "execute_result"
    }
   ],
   "source": [
    "cluster = []\n",
    "for hypercube_id in range(hypercubes_edges.shape[1]):\n",
    "    X0 = hypercubes_edges[:,hypercube_id,:]\n",
    "    F_list = objective_function(X0.T)\n",
    "\n",
    "    # cek jika f yang berubah tanda dari F_list jika dievaluasi di tiap edge hypercube\n",
    "    product_combination = np.array([[a*b for a,b in combinations(F_list[i],2)] for i in range (F_list.shape[0])])\n",
    "\n",
    "    # jika semua f dari F_list berubah tanda jika dievaluasi di tiap edge hypercube, maka ada akar di situ\n",
    "    change_sign = np.array([np.any(product_combination[i]<0) for i in range (product_combination.shape[0])])\n",
    "    if np.all(change_sign==True):\n",
    "        # print(f'Ada akar di sini: \\nX0={X0}')\n",
    "        cluster.append(X0)\n",
    "\n",
    "cluster = np.array(cluster)\n",
    "cluster.shape[0]"
   ]
  },
  {
   "cell_type": "code",
   "execution_count": 15,
   "metadata": {},
   "outputs": [
    {
     "name": "stdout",
     "output_type": "stream",
     "text": [
      "[[-6.43712573  0.15534876]\n",
      " [-6.2        -0.16104581]\n",
      " [-6.4         0.15618943]\n",
      " [-6.1170816  -0.16348884]\n",
      " [-1.          1.        ]\n",
      " [-0.93179264  1.06820304]\n",
      " [-0.15616774  6.4       ]\n",
      " [-0.15529     6.43981113]\n",
      " [ 0.16333465  6.12243972]\n",
      " [ 0.1610043   6.2       ]\n",
      " [ 0.59992547  0.76093895]\n",
      " [ 0.66761908  0.68959885]] \n",
      "\n",
      " [[-0.99996231]\n",
      " [-0.9257837 ]\n",
      " [-0.96344378]\n",
      " [-0.99982906]\n",
      " [-0.88079708]\n",
      " [-0.99934717]\n",
      " [-0.96057541]\n",
      " [-0.99989141]\n",
      " [-0.99997673]\n",
      " [-0.92947715]\n",
      " [-0.88749292]\n",
      " [-0.99901963]]\n"
     ]
    }
   ],
   "source": [
    "# GA parameter\n",
    "mutation = PolynomialMutation(prob=0.1)\n",
    "algorithmGAp1 = GA(pop_size=n_point,eliminate_duplicates=True,mutation=mutation)\n",
    "\n",
    "# termination variable\n",
    "terminationp1 = DefaultSingleObjectiveTermination(\n",
    "    xtol=1e-8,\n",
    "    cvtol=1e-6,\n",
    "    ftol=1e-6,\n",
    "    period=20,\n",
    "    n_max_gen=k_max,\n",
    "    n_max_evals=100000\n",
    ")\n",
    "\n",
    "def root_ga(n_var,n_obj,xl,xu,objective_function,algorithmGA,termination,seed=1,verbose=False):\n",
    "    class PakKun1(ElementwiseProblem):\n",
    "        def __init__(self):\n",
    "            super().__init__(n_var=n_var,n_obj=n_obj,xl=xl,xu=xu)\n",
    "        def _evaluate(self, x, out, *args, **kwargs):\n",
    "            F_array = objective_function(x)\n",
    "            denom = 0\n",
    "            for f in F_array:\n",
    "                denom +=np.abs(f)\n",
    "            F = 1/(1+denom)\n",
    "            out['F'] = -F\n",
    "\n",
    "    problem = PakKun1()\n",
    "    result = minimize(problem=problem,\n",
    "                    algorithm=algorithmGA,\n",
    "                    termination=termination,\n",
    "                    seed=seed,\n",
    "                    verbose=verbose)\n",
    "    return [result.X,result.F]\n",
    "\n",
    "roots = []\n",
    "values = []\n",
    "for i in range (cluster.shape[0]):\n",
    "    root,value = root_ga(2,1,xl=cluster[i,:,:][0],xu=cluster[i,:,:][-1],objective_function=objective_function,\n",
    "                        algorithmGA=algorithmGAp1,termination=terminationp1,seed=0)\n",
    "    roots.append(root)\n",
    "    values.append(value)\n",
    "roots = np.array(roots)\n",
    "values = np.array(values)\n",
    "print(roots,\"\\n\\n\",values)"
   ]
  }
 ],
 "metadata": {
  "kernelspec": {
   "display_name": ".venv",
   "language": "python",
   "name": "python3"
  },
  "language_info": {
   "codemirror_mode": {
    "name": "ipython",
    "version": 3
   },
   "file_extension": ".py",
   "mimetype": "text/x-python",
   "name": "python",
   "nbconvert_exporter": "python",
   "pygments_lexer": "ipython3",
   "version": "3.11.4"
  }
 },
 "nbformat": 4,
 "nbformat_minor": 2
}
