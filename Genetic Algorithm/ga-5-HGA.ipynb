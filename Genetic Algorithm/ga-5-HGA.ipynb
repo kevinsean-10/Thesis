{
 "cells": [
  {
   "cell_type": "code",
   "execution_count": 1,
   "metadata": {},
   "outputs": [],
   "source": [
    "import numpy as np\n",
    "from itertools import product,combinations\n",
    "import matplotlib.pyplot as plt"
   ]
  },
  {
   "cell_type": "markdown",
   "metadata": {},
   "source": [
    "Problem 1 Pak Kun"
   ]
  },
  {
   "cell_type": "code",
   "execution_count": 2,
   "metadata": {},
   "outputs": [],
   "source": [
    "epsilon = 1e-2\n",
    "delta = 0.01\n",
    "m = 100\n",
    "gen_max = 300\n",
    "dim = 2\n",
    "p_mutation = 0.1\n",
    "seed = 0\n",
    "\n",
    "# how many parts/slices do you desire in each dimension?\n",
    "parts = 100\n",
    "\n",
    "def system_eq(x):\n",
    "    f1 = np.exp(x[0]-x[1])-np.sin(x[0]+x[1])\n",
    "    f2 = (x[0]*x[1])**2-np.cos(x[0]+x[1])\n",
    "    return np.array([f1,f2])\n",
    "\n",
    "boundaries = np.array([(-10,10) for _ in range (dim)])"
   ]
  },
  {
   "cell_type": "markdown",
   "metadata": {},
   "source": [
    "# Objective Function"
   ]
  },
  {
   "cell_type": "code",
   "execution_count": 3,
   "metadata": {},
   "outputs": [],
   "source": [
    "def objective_function(x:np.ndarray):\n",
    "    F_array = system_eq(x)\n",
    "    denom = 0\n",
    "    for f in F_array:\n",
    "        denom +=np.abs(f)\n",
    "    F = 1/(1+denom)\n",
    "    return -F"
   ]
  },
  {
   "cell_type": "code",
   "execution_count": 4,
   "metadata": {},
   "outputs": [],
   "source": [
    "def slice_hypercube(lower_bounds, upper_bounds, interval, dim):\n",
    "    # Create a list of arrays, each containing points spaced h apart for each dimension\n",
    "    points = [np.arange(lower_bounds[i], upper_bounds[i], interval) for i in range(dim)]\n",
    "    \n",
    "    # Use meshgrid to create a grid of points in n-dimensional space\n",
    "    grids = np.meshgrid(*points, indexing='ij')\n",
    "    \n",
    "    # Flatten and combine the grid points into a single 2D array\n",
    "    grid_points = np.vstack([grid.ravel() for grid in grids]).T\n",
    "    \n",
    "    # Generate all vertices for smaller hypercubes within each grid cell\n",
    "    return np.array([grid_points + offset for offset in product([0, interval], repeat=dim)])"
   ]
  },
  {
   "cell_type": "code",
   "execution_count": 5,
   "metadata": {},
   "outputs": [],
   "source": [
    "# length of each parts in each dimension\n",
    "inc_int = (boundaries[0,1]-boundaries[0,0])/parts\n",
    "\n",
    "# Hypercubes\n",
    "hypercubes_edges = slice_hypercube(lower_bounds=boundaries[:,0],\n",
    "                    upper_bounds=boundaries[:,1],\n",
    "                    interval=inc_int,\n",
    "                    dim=dim)"
   ]
  },
  {
   "cell_type": "code",
   "execution_count": 6,
   "metadata": {},
   "outputs": [
    {
     "name": "stdout",
     "output_type": "stream",
     "text": [
      "Number of clusters containing root: 12\n"
     ]
    }
   ],
   "source": [
    "cluster = []\n",
    "for hypercube_id in range(hypercubes_edges.shape[1]):\n",
    "    X0 = hypercubes_edges[:,hypercube_id,:]\n",
    "    F_list = system_eq(X0.T)\n",
    "\n",
    "    # cek jika f yang berubah tanda dari F_list jika dievaluasi di tiap edge hypercube\n",
    "    product_combination = np.array([[a*b for a,b in combinations(F_list[i],2)] for i in range (F_list.shape[0])])\n",
    "\n",
    "    # jika semua f dari F_list berubah tanda jika dievaluasi di tiap edge hypercube, maka ada akar di situ\n",
    "    change_sign = np.array([np.any(product_combination[i]<0) for i in range (product_combination.shape[0])])\n",
    "    if np.all(change_sign==True):\n",
    "        # print(f'Ada akar di sini: \\nX0={X0}')\n",
    "        cluster.append(X0)\n",
    "\n",
    "cluster = np.array(cluster)\n",
    "print(f\"Number of clusters containing root: {cluster.shape[0]}\")"
   ]
  },
  {
   "cell_type": "markdown",
   "metadata": {},
   "source": [
    "# GA Evaluation"
   ]
  },
  {
   "cell_type": "code",
   "execution_count": 7,
   "metadata": {},
   "outputs": [],
   "source": [
    "import importlib\n",
    "import re\n",
    "\n",
    "import sys\n",
    "module_path = r\"D:\\OneDrive - Institut Teknologi Bandung\\[AKADEMIK]\\Semester 7-8\\TA\\Thesis\\Genetic Algorithm\"\n",
    "sys.path.append(module_path)\n",
    "import genal as gal\n",
    "importlib.reload(gal)\n",
    "\n",
    "sys.path.remove(module_path)\n"
   ]
  },
  {
   "cell_type": "code",
   "execution_count": 8,
   "metadata": {},
   "outputs": [
    {
     "name": "stderr",
     "output_type": "stream",
     "text": [
      "c:\\Users\\ACER\\AppData\\Local\\Programs\\Python\\Python38\\lib\\site-packages\\scipy\\stats\\_qmc.py:763: UserWarning: The balance properties of Sobol' points require n to be a power of 2.\n",
      "  sample = self._random(n, workers=workers)\n"
     ]
    },
    {
     "name": "stdout",
     "output_type": "stream",
     "text": [
      "Number of Clusters containing root: 12\n",
      "\n",
      "Roots:\n",
      "[[-6.43707071  0.15526155]\n",
      " [-6.20056099 -0.16056815]\n",
      " [-6.39781026  0.15642707]\n",
      " [-6.11740556 -0.16328343]\n",
      " [-1.00103426  1.00207104]\n",
      " [-0.93087766  1.06908598]\n",
      " [-0.15589509  6.39958293]\n",
      " [-0.15528234  6.43983731]\n",
      " [ 0.16328421  6.12246144]\n",
      " [ 0.1611932   6.20028518]\n",
      " [ 0.59899618  0.75257406]\n",
      " [ 0.66661441  0.69061111]]\n",
      "\n",
      "Values: \n",
      "[-0.9988564327624514, -0.920839185773234, -0.9589368435230069, -0.9976530246254068, -0.8771129838943919, -0.9975128983934832, -0.9571237415105969, -0.9999843740501985, -0.9993845573911668, -0.9278325632047381, -0.8828496761448597, -0.9990004419565903]\n"
     ]
    }
   ],
   "source": [
    "roots = []\n",
    "values = []\n",
    "for i in range (cluster.shape[0]):\n",
    "    subbound = np.array([[cluster[i,:,:][:,d].min(),cluster[i,:,:][:,d].max()] for d in range(cluster.shape[2])])\n",
    "    root,value = gal.GA(objective_function=objective_function,\n",
    "                        population_size=m,\n",
    "                        boundaries=subbound,\n",
    "                        max_generation=gen_max,\n",
    "                        mutation_rate=p_mutation,\n",
    "                        seed=0,\n",
    "                        print_stat=False)\n",
    "    roots.append(root)\n",
    "    values.append(value)\n",
    "\n",
    "archive = np.array(roots)\n",
    "scores = np.array(values)\n",
    "print(f'Number of Clusters containing root: {cluster.shape[0]}\\n')\n",
    "print(f'Roots:\\n{archive}\\n\\nValues: \\n{values}')"
   ]
  },
  {
   "cell_type": "code",
   "execution_count": 9,
   "metadata": {},
   "outputs": [
    {
     "name": "stdout",
     "output_type": "stream",
     "text": [
      "[[-6.43707071  0.15526155]\n",
      " [-6.11740556 -0.16328343]\n",
      " [-0.93087766  1.06908598]\n",
      " [-0.15528234  6.43983731]\n",
      " [ 0.16328421  6.12246144]\n",
      " [ 0.66661441  0.69061111]]\n"
     ]
    }
   ],
   "source": [
    "\"\"\"Choosing Best Solution\"\"\"\n",
    "if dim == 1:\n",
    "    list_criteria = [element for sublist in archive for element in sublist] #convert from 2D array into 1D array\n",
    "else:\n",
    "    list_criteria = archive\n",
    "eligible_roots = np.array([x for x in list_criteria if (objective_function(x))<-1+epsilon])\n",
    "id_duplicated_roots = []\n",
    "for i in range(len(eligible_roots)):\n",
    "    for j in range (i+1,len(eligible_roots)):\n",
    "        if np.linalg.norm(eligible_roots[i]-eligible_roots[j])<delta:\n",
    "            id_duplicated_roots.append([i,j])\n",
    "id_duplicated_roots = np.unique(id_duplicated_roots,axis=0)\n",
    "deselected_id_duplicated_roots = []\n",
    "for i in range (len(id_duplicated_roots)):\n",
    "    root_a = objective_function(eligible_roots[id_duplicated_roots[i][0]])\n",
    "    root_b = objective_function(eligible_roots[id_duplicated_roots[i][1]])\n",
    "    if root_a<=root_b:\n",
    "        id_duplicated_root = id_duplicated_roots[i][1]\n",
    "    else:\n",
    "        id_duplicated_root = id_duplicated_roots[i][0]\n",
    "    deselected_id_duplicated_roots.append(id_duplicated_root)\n",
    "\n",
    "if deselected_id_duplicated_roots:\n",
    "    unique_roots = np.ones(len(eligible_roots),dtype=bool)\n",
    "    unique_roots[deselected_id_duplicated_roots] = False\n",
    "    final_root = eligible_roots[unique_roots]\n",
    "else:\n",
    "    final_root = eligible_roots\n",
    "print(final_root)"
   ]
  }
 ],
 "metadata": {
  "kernelspec": {
   "display_name": ".venv",
   "language": "python",
   "name": "python3"
  },
  "language_info": {
   "codemirror_mode": {
    "name": "ipython",
    "version": 3
   },
   "file_extension": ".py",
   "mimetype": "text/x-python",
   "name": "python",
   "nbconvert_exporter": "python",
   "pygments_lexer": "ipython3",
   "version": "3.8.8"
  }
 },
 "nbformat": 4,
 "nbformat_minor": 2
}
