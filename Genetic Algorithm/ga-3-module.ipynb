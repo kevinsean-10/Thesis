{
 "cells": [
  {
   "cell_type": "code",
   "execution_count": 28,
   "metadata": {},
   "outputs": [],
   "source": [
    "# from pymoo.algorithms.soo.nonconvex.ga import GA\n",
    "# from pymoo.optimize import minimize\n",
    "# from pymoo.core.problem import ElementwiseProblem\n",
    "# class MyProblem(ElementwiseProblem):\n",
    "#     def __init__(self):\n",
    "#         super().__init__(n_var=2, n_obj=1, xl=0, xu=5)\n",
    "\n",
    "#     def _evaluate(self, x, out, *args, **kwargs):\n",
    "#         f1 = (x[0] - 2)**2 + (x[1] - 3)**2\n",
    "#         out[\"F\"] = f1\n",
    "\n",
    "# problem = MyProblem()\n",
    "# algorithm = GA(pop_size=50)\n",
    "# res = minimize(problem,\n",
    "#                algorithm,\n",
    "#                ('n_gen', 40),\n",
    "#                verbose=False)\n",
    "# print(\"Best solution found: \\nX = %s\\nF = %s\" % (res.X, res.F))"
   ]
  },
  {
   "cell_type": "markdown",
   "metadata": {},
   "source": [
    "Evaluate using NSGA"
   ]
  },
  {
   "cell_type": "code",
   "execution_count": 29,
   "metadata": {},
   "outputs": [],
   "source": [
    "# from pymoo.algorithms.moo.nsga2 import NSGA2\n",
    "# from pymoo.optimize import minimize\n",
    "# from pymoo.core.problem import ElementwiseProblem"
   ]
  },
  {
   "cell_type": "code",
   "execution_count": 30,
   "metadata": {},
   "outputs": [],
   "source": [
    "# # Define the custom problem\n",
    "# class MyProblem(ElementwiseProblem):\n",
    "#     def __init__(self):\n",
    "#         super().__init__(n_var=2, n_obj=2, xl=-10, xu=10)\n",
    "\n",
    "#     def _evaluate(self, x, out, *args, **kwargs):\n",
    "#         f1 = (x[0]**2 + x[0] * x[1] - 6)**2\n",
    "#         f2 = (x[0]**2 + x[1]**3 + 2 * x[0] * x[1] - 3)**2\n",
    "#         out[\"F\"] = [f1, f2]\n",
    "\n",
    "# problem = MyProblem()"
   ]
  },
  {
   "cell_type": "code",
   "execution_count": 31,
   "metadata": {},
   "outputs": [],
   "source": [
    "# # Choose NSGA-II as the method for the multi-objective problem\n",
    "# algorithm = NSGA2(pop_size=100)\n",
    "\n",
    "# # Perform the optimization\n",
    "# res = minimize(problem,\n",
    "#                algorithm,\n",
    "#                ('n_gen', 100),\n",
    "#                verbose=True)"
   ]
  },
  {
   "cell_type": "code",
   "execution_count": 32,
   "metadata": {},
   "outputs": [],
   "source": [
    "# # Print the best solution(s)\n",
    "# print('Best solution(s):')\n",
    "# for solution in res.X:\n",
    "#     print(f\"X = {solution}, F = {problem.evaluate(solution)}\")"
   ]
  },
  {
   "cell_type": "markdown",
   "metadata": {},
   "source": [
    "Evaluate using GA"
   ]
  },
  {
   "cell_type": "code",
   "execution_count": 33,
   "metadata": {},
   "outputs": [],
   "source": [
    "# from pymoo.algorithms.soo.nonconvex.ga import GA\n",
    "# from pymoo.optimize import minimize\n",
    "# from pymoo.core.problem import ElementwiseProblem\n",
    "# from pymoo.termination.ftol import SingleObjectiveSpaceTermination\n",
    "# from pymoo.termination.robust import RobustTermination\n",
    "# from pymoo.termination.default import DefaultSingleObjectiveTermination\n",
    "# from pymoo.operators.mutation.pm import PolynomialMutation"
   ]
  },
  {
   "cell_type": "code",
   "execution_count": 34,
   "metadata": {},
   "outputs": [],
   "source": [
    "# class Mastorakis1Problem(ElementwiseProblem):\n",
    "#     def __init__(self):\n",
    "#         super().__init__(n_var=2,n_obj=1,xl=-10,xu=10)\n",
    "#     def _evaluate(self, x, out, *args, **kwargs):\n",
    "#         f1 = (x[0]**2+x[0]*x[1]-6)**2+(x[0]**2+x[1]**3+2*x[0]*x[1]**2-3)**2\n",
    "#         out['F'] = f1\n",
    "\n",
    "# m1problem = Mastorakis1Problem()"
   ]
  },
  {
   "cell_type": "code",
   "execution_count": 35,
   "metadata": {},
   "outputs": [],
   "source": [
    "# # GA parameter\n",
    "# mutation = PolynomialMutation(prob=0.2)\n",
    "# algorithmGA = GA(pop_size=40,eliminate_duplicates=True,mutation=mutation)\n",
    "\n",
    "# # termination variable\n",
    "# termination1 = RobustTermination(\n",
    "#     SingleObjectiveSpaceTermination(tol=0.005, n_skip=5), period=20)\n",
    "# termination2 = DefaultSingleObjectiveTermination(\n",
    "#     xtol=1e-8,\n",
    "#     cvtol=1e-6,\n",
    "#     ftol=1e-6,\n",
    "#     period=20,\n",
    "#     n_max_gen=100,\n",
    "#     n_max_evals=100000\n",
    "# )\n",
    "\n",
    "# m1res = minimize(problem=m1problem,\n",
    "#                  algorithm=algorithmGA,\n",
    "#                  termination=termination2,\n",
    "#                  seed=None,\n",
    "#                  verbose=True)\n",
    "\n",
    "# print(\"Best solution found: \\nX = %s\\nF = %s\" % (m1res.X, m1res.F))"
   ]
  },
  {
   "cell_type": "markdown",
   "metadata": {},
   "source": [
    "# Root GA"
   ]
  },
  {
   "cell_type": "code",
   "execution_count": 36,
   "metadata": {},
   "outputs": [],
   "source": [
    "from pymoo.algorithms.soo.nonconvex.ga import GA\n",
    "from pymoo.optimize import minimize\n",
    "from pymoo.core.problem import ElementwiseProblem\n",
    "from pymoo.termination.default import DefaultSingleObjectiveTermination\n",
    "from pymoo.operators.mutation.pm import PolynomialMutation\n",
    "from pymoo.operators.crossover.sbx import SBX\n",
    "import numpy as np\n",
    "from itertools import product,combinations\n",
    "import matplotlib.pyplot as plt"
   ]
  },
  {
   "cell_type": "markdown",
   "metadata": {},
   "source": [
    "Problem 1 Paper Pak Kun"
   ]
  },
  {
   "cell_type": "code",
   "execution_count": 37,
   "metadata": {},
   "outputs": [],
   "source": [
    "epsilon = 1e-3\n",
    "delta = 0.01\n",
    "m_cluster = 100\n",
    "gen_max = 300\n",
    "dim = 2\n",
    "p_mutation = 0.1\n",
    "seed = 0\n",
    "\n",
    "# how many parts/slices do you desire in each dimension?\n",
    "parts = 100\n",
    "\n",
    "def objective_function(x):\n",
    "    f1 = np.exp(x[0]-x[1])-np.sin(x[0]+x[1])\n",
    "    f2 = (x[0]*x[1])**2-np.cos(x[0]+x[1])\n",
    "    return np.array([f1,f2])\n",
    "\n",
    "boundaries = np.array([(-10,10) for _ in range (dim)])"
   ]
  },
  {
   "cell_type": "markdown",
   "metadata": {},
   "source": [
    "Problem 2 Pak Kun"
   ]
  },
  {
   "cell_type": "code",
   "execution_count": 38,
   "metadata": {},
   "outputs": [],
   "source": [
    "# m_cluster = 50\n",
    "# gamma = 0.3\n",
    "# epsilon = 10**(-3)\n",
    "# delta = 0.1\n",
    "# n_point = 50\n",
    "# gen_max = 300\n",
    "# dim = 2\n",
    "# p_mutation = 0.1\n",
    "# seed = 0\n",
    "\n",
    "# # how many parts/slices do you desire in each dimension?\n",
    "# parts = 25\n",
    "\n",
    "# def objective_function(x):\n",
    "#     f1 = 0.5*np.sin(x[0]*x[1])-0.25*x[1]/np.pi - 0.5*x[0]\n",
    "#     f2 = (1-0.25/np.pi)*(np.exp(2*x[0])-np.exp(1))+np.exp(1)*x[1]/np.pi - 2*np.exp(1)*x[0]\n",
    "#     return np.array([f1,f2])\n",
    "\n",
    "# boundaries = np.array([[-1,3],[-17,4]])"
   ]
  },
  {
   "cell_type": "markdown",
   "metadata": {},
   "source": [
    "Problem 5 Pak Kun"
   ]
  },
  {
   "cell_type": "code",
   "execution_count": 39,
   "metadata": {},
   "outputs": [],
   "source": [
    "# m_cluster = 100\n",
    "# gamma = 0.1\n",
    "# epsilon = 5*10**(-3)\n",
    "# delta = 0.01\n",
    "# gen_max = 200\n",
    "# dim = 5\n",
    "# p_mutation = 0.1\n",
    "# parts = 40\n",
    "\n",
    "# def objective_function(x):\n",
    "#     f1 = 2*x[0]+x[1]+x[2]+x[3]+x[4]-6\n",
    "#     f2 = x[0]+2*x[1]+x[2]+x[3]+x[4]-6\n",
    "#     f3 = x[0]+x[1]+2*x[2]+x[3]+x[4]-6\n",
    "#     f4 = x[0]+x[1]+x[2]+2*x[3]+x[4]-6\n",
    "#     f5 = x[0]*x[1]*x[2]*x[3]*x[4]-1\n",
    "#     return np.array([f1,f2,f3,f4,f5])\n",
    "\n",
    "# boundaries = np.array([(-10,10) for _ in range (dim)])"
   ]
  },
  {
   "cell_type": "markdown",
   "metadata": {},
   "source": [
    "# Root Objective Function Transformator"
   ]
  },
  {
   "cell_type": "markdown",
   "metadata": {},
   "source": [
    "## Mastorakis' Cluster"
   ]
  },
  {
   "cell_type": "code",
   "execution_count": 40,
   "metadata": {},
   "outputs": [],
   "source": [
    "def root_objective_function(x:np.ndarray):\n",
    "    F_array = objective_function(x)\n",
    "    denom = 0\n",
    "    for f in F_array:\n",
    "        denom +=np.abs(f)\n",
    "    F = 1/(1+denom)\n",
    "    return -F"
   ]
  },
  {
   "cell_type": "code",
   "execution_count": 41,
   "metadata": {},
   "outputs": [],
   "source": [
    "def slice_hypercube(lower_bounds, upper_bounds, interval, dim):\n",
    "    # Create a list of arrays, each containing points spaced h apart for each dimension\n",
    "    points = [np.arange(lower_bounds[i], upper_bounds[i], interval) for i in range(dim)]\n",
    "    \n",
    "    # Use meshgrid to create a grid of points in n-dimensional space\n",
    "    grids = np.meshgrid(*points, indexing='ij')\n",
    "    \n",
    "    # Flatten and combine the grid points into a single 2D array\n",
    "    grid_points = np.vstack([grid.ravel() for grid in grids]).T\n",
    "    \n",
    "    # Generate all vertices for smaller hypercubes within each grid cell\n",
    "    return np.array([grid_points + offset for offset in product([0, interval], repeat=dim)])"
   ]
  },
  {
   "cell_type": "code",
   "execution_count": 42,
   "metadata": {},
   "outputs": [],
   "source": [
    "# length of each parts in each dimension\n",
    "inc_int = (boundaries[0,1]-boundaries[0,0])/parts\n",
    "\n",
    "# Hypercubes\n",
    "hypercubes_edges = slice_hypercube(lower_bounds=boundaries[:,0],\n",
    "                    upper_bounds=boundaries[:,1],\n",
    "                    interval=inc_int,\n",
    "                    dim=dim)"
   ]
  },
  {
   "cell_type": "code",
   "execution_count": 43,
   "metadata": {},
   "outputs": [
    {
     "name": "stdout",
     "output_type": "stream",
     "text": [
      "Number of clusters containing root: 12\n"
     ]
    }
   ],
   "source": [
    "cluster = []\n",
    "for hypercube_id in range(hypercubes_edges.shape[1]):\n",
    "    X0 = hypercubes_edges[:,hypercube_id,:]\n",
    "    F_list = objective_function(X0.T)\n",
    "\n",
    "    # cek jika f yang berubah tanda dari F_list jika dievaluasi di tiap edge hypercube\n",
    "    product_combination = np.array([[a*b for a,b in combinations(F_list[i],2)] for i in range (F_list.shape[0])])\n",
    "\n",
    "    # jika semua f dari F_list berubah tanda jika dievaluasi di tiap edge hypercube, maka ada akar di situ\n",
    "    change_sign = np.array([np.any(product_combination[i]<0) for i in range (product_combination.shape[0])])\n",
    "    if np.all(change_sign==True):\n",
    "        # print(f'Ada akar di sini: \\nX0={X0}')\n",
    "        cluster.append(X0)\n",
    "\n",
    "cluster = np.array(cluster)\n",
    "print(f\"Number of clusters containing root: {cluster.shape[0]}\")"
   ]
  },
  {
   "cell_type": "code",
   "execution_count": 44,
   "metadata": {},
   "outputs": [
    {
     "data": {
      "text/plain": [
       "array([[[-6.60000000e+00, -3.55271368e-14],\n",
       "        [-6.60000000e+00,  2.00000000e-01],\n",
       "        [-6.40000000e+00, -3.55271368e-14],\n",
       "        [-6.40000000e+00,  2.00000000e-01]],\n",
       "\n",
       "       [[-6.40000000e+00, -2.00000000e-01],\n",
       "        [-6.40000000e+00, -3.48054918e-14],\n",
       "        [-6.20000000e+00, -2.00000000e-01],\n",
       "        [-6.20000000e+00, -3.48054918e-14]],\n",
       "\n",
       "       [[-6.40000000e+00, -3.55271368e-14],\n",
       "        [-6.40000000e+00,  2.00000000e-01],\n",
       "        [-6.20000000e+00, -3.55271368e-14],\n",
       "        [-6.20000000e+00,  2.00000000e-01]],\n",
       "\n",
       "       [[-6.20000000e+00, -2.00000000e-01],\n",
       "        [-6.20000000e+00, -3.48054918e-14],\n",
       "        [-6.00000000e+00, -2.00000000e-01],\n",
       "        [-6.00000000e+00, -3.48054918e-14]],\n",
       "\n",
       "       [[-1.20000000e+00,  1.00000000e+00],\n",
       "        [-1.20000000e+00,  1.20000000e+00],\n",
       "        [-1.00000000e+00,  1.00000000e+00],\n",
       "        [-1.00000000e+00,  1.20000000e+00]],\n",
       "\n",
       "       [[-1.00000000e+00,  1.00000000e+00],\n",
       "        [-1.00000000e+00,  1.20000000e+00],\n",
       "        [-8.00000000e-01,  1.00000000e+00],\n",
       "        [-8.00000000e-01,  1.20000000e+00]],\n",
       "\n",
       "       [[-2.00000000e-01,  6.20000000e+00],\n",
       "        [-2.00000000e-01,  6.40000000e+00],\n",
       "        [-3.48054918e-14,  6.20000000e+00],\n",
       "        [-3.48054918e-14,  6.40000000e+00]],\n",
       "\n",
       "       [[-2.00000000e-01,  6.40000000e+00],\n",
       "        [-2.00000000e-01,  6.60000000e+00],\n",
       "        [-3.48054918e-14,  6.40000000e+00],\n",
       "        [-3.48054918e-14,  6.60000000e+00]],\n",
       "\n",
       "       [[-3.55271368e-14,  6.00000000e+00],\n",
       "        [-3.55271368e-14,  6.20000000e+00],\n",
       "        [ 2.00000000e-01,  6.00000000e+00],\n",
       "        [ 2.00000000e-01,  6.20000000e+00]],\n",
       "\n",
       "       [[-3.55271368e-14,  6.20000000e+00],\n",
       "        [-3.55271368e-14,  6.40000000e+00],\n",
       "        [ 2.00000000e-01,  6.20000000e+00],\n",
       "        [ 2.00000000e-01,  6.40000000e+00]],\n",
       "\n",
       "       [[ 4.00000000e-01,  6.00000000e-01],\n",
       "        [ 4.00000000e-01,  8.00000000e-01],\n",
       "        [ 6.00000000e-01,  6.00000000e-01],\n",
       "        [ 6.00000000e-01,  8.00000000e-01]],\n",
       "\n",
       "       [[ 6.00000000e-01,  6.00000000e-01],\n",
       "        [ 6.00000000e-01,  8.00000000e-01],\n",
       "        [ 8.00000000e-01,  6.00000000e-01],\n",
       "        [ 8.00000000e-01,  8.00000000e-01]]])"
      ]
     },
     "execution_count": 44,
     "metadata": {},
     "output_type": "execute_result"
    }
   ],
   "source": [
    "cluster"
   ]
  },
  {
   "cell_type": "code",
   "execution_count": 45,
   "metadata": {},
   "outputs": [],
   "source": [
    "def GenAl(n_var,n_obj,xl,xu,objective_function,algorithmGA,termination,seed=1,verbose=False):\n",
    "    class myProblem(ElementwiseProblem):\n",
    "        def __init__(self):\n",
    "            super().__init__(n_var=n_var,n_obj=n_obj,xl=xl,xu=xu)\n",
    "        def _evaluate(self, x, out, *args, **kwargs):\n",
    "            out['F'] = objective_function(x)\n",
    "\n",
    "    problem = myProblem()\n",
    "    result = minimize(problem=problem,\n",
    "                    algorithm=algorithmGA,\n",
    "                    termination=termination,\n",
    "                    seed=seed,\n",
    "                    verbose=verbose)\n",
    "    return [result.X,result.F]"
   ]
  },
  {
   "cell_type": "code",
   "execution_count": 46,
   "metadata": {},
   "outputs": [
    {
     "name": "stdout",
     "output_type": "stream",
     "text": [
      "Number of Clusters containing root: 12\n",
      "\n",
      "Roots:\n",
      "[[-6.43710768  0.15535091]\n",
      " [-6.2000003  -0.16103262]\n",
      " [-6.4         0.15618949]\n",
      " [-6.11709855 -0.16350129]\n",
      " [-1.          1.        ]\n",
      " [-0.93192966  1.06806612]\n",
      " [-0.15616986  6.39999936]\n",
      " [-0.15528253  6.43983505]\n",
      " [ 0.16332269  6.1225152 ]\n",
      " [ 0.16104572  6.2       ]\n",
      " [ 0.59999986  0.76085396]\n",
      " [ 0.66719293  0.69003731]]\n",
      "\n",
      "Values: \n",
      "[[-0.99991999]\n",
      " [-0.92565397]\n",
      " [-0.9634431 ]\n",
      " [-0.99967866]\n",
      " [-0.88079708]\n",
      " [-0.99961843]\n",
      " [-0.96059783]\n",
      " [-0.9999885 ]\n",
      " [-0.99982425]\n",
      " [-0.92988752]\n",
      " [-0.88760535]\n",
      " [-0.99985595]]\n"
     ]
    }
   ],
   "source": [
    "\"\"\"Genetic Algorithm\"\"\"\n",
    "\n",
    "# GA parameter\n",
    "p_mutation = 0.2\n",
    "p_crossover = 0.9\n",
    "\n",
    "mutation = PolynomialMutation(prob=p_mutation)\n",
    "crossover = SBX(prob=p_crossover, eta=15)\n",
    "algorithmGAp1 = GA(pop_size=m_cluster,\n",
    "                   eliminate_duplicates=True,\n",
    "                   mutation=mutation,\n",
    "                   crossover=crossover)\n",
    "\n",
    "# termination variable\n",
    "terminationp1 = DefaultSingleObjectiveTermination(\n",
    "    xtol=1e-8,\n",
    "    cvtol=1e-6,\n",
    "    ftol=epsilon,\n",
    "    period=20,\n",
    "    n_max_gen=gen_max,\n",
    "    n_max_evals=100000\n",
    ")\n",
    "roots = []\n",
    "values = []\n",
    "for i in range (cluster.shape[0]):\n",
    "    root,value = GenAl(2,\n",
    "                        1,\n",
    "                        xl=cluster[i,:,:][0],\n",
    "                        xu=cluster[i,:,:][-1],\n",
    "                        objective_function=root_objective_function,\n",
    "                        algorithmGA=algorithmGAp1,\n",
    "                        termination=terminationp1,\n",
    "                        seed=seed)\n",
    "    roots.append(root)\n",
    "    values.append(value)\n",
    "archive = np.array(roots)\n",
    "values = np.array(values)\n",
    "print(f'Number of Clusters containing root: {cluster.shape[0]}\\n')\n",
    "print(f'Roots:\\n{archive}\\n\\nValues: \\n{values}')"
   ]
  },
  {
   "cell_type": "code",
   "execution_count": 47,
   "metadata": {},
   "outputs": [
    {
     "name": "stdout",
     "output_type": "stream",
     "text": [
      "[[-6.43710768  0.15535091]\n",
      " [-6.11709855 -0.16350129]\n",
      " [-0.93192966  1.06806612]\n",
      " [-0.15528253  6.43983505]\n",
      " [ 0.16332269  6.1225152 ]\n",
      " [ 0.66719293  0.69003731]]\n"
     ]
    }
   ],
   "source": [
    "\"\"\"Choosing Best Solution\"\"\"\n",
    "if dim == 1:\n",
    "    list_criteria = [element for sublist in archive for element in sublist] #convert from 2D array into 1D array\n",
    "else:\n",
    "    list_criteria = archive\n",
    "eligible_roots = np.array([x for x in list_criteria if (root_objective_function(x))<-1+epsilon])\n",
    "id_duplicated_roots = []\n",
    "for i in range(len(eligible_roots)):\n",
    "    for j in range (i+1,len(eligible_roots)):\n",
    "        if np.linalg.norm(eligible_roots[i]-eligible_roots[j])<delta:\n",
    "            id_duplicated_roots.append([i,j])\n",
    "id_duplicated_roots = np.unique(id_duplicated_roots,axis=0)\n",
    "deselected_id_duplicated_roots = []\n",
    "for i in range (len(id_duplicated_roots)):\n",
    "    root_a = root_objective_function(eligible_roots[id_duplicated_roots[i][0]])\n",
    "    root_b = root_objective_function(eligible_roots[id_duplicated_roots[i][1]])\n",
    "    if root_a<=root_b:\n",
    "        id_duplicated_root = id_duplicated_roots[i][1]\n",
    "    else:\n",
    "        id_duplicated_root = id_duplicated_roots[i][0]\n",
    "    deselected_id_duplicated_roots.append(id_duplicated_root)\n",
    "\n",
    "if deselected_id_duplicated_roots:\n",
    "    unique_roots = np.ones(len(eligible_roots),dtype=bool)\n",
    "    unique_roots[deselected_id_duplicated_roots] = False\n",
    "    final_root = eligible_roots[unique_roots]\n",
    "else:\n",
    "    final_root = eligible_roots\n",
    "print(final_root)"
   ]
  },
  {
   "cell_type": "markdown",
   "metadata": {},
   "source": [
    "### Automatic Function"
   ]
  },
  {
   "cell_type": "code",
   "execution_count": 48,
   "metadata": {},
   "outputs": [],
   "source": [
    "# import genal_module as gam\n",
    "# import numpy as np\n",
    "# import matplotlib.pyplot as plt\n",
    "# import importlib\n",
    "# importlib.reload(gam)\n",
    "\n",
    "# epsilon = 10**(-3)\n",
    "# delta = 0.4\n",
    "# n_point = 50\n",
    "# gen_max = 100\n",
    "# dim = 2\n",
    "# p_mutation = 0.1\n",
    "\n",
    "# # how many parts/slices do you desire in each dimension?\n",
    "# parts = 100\n",
    "\n",
    "# def objective_function(x):\n",
    "#     f1 = np.exp(x[0]-x[1])-np.sin(x[0]+x[1])\n",
    "#     f2 = (x[0]*x[1])**2-np.cos(x[0]+x[1])\n",
    "#     return np.array([f1,f2])\n",
    "\n",
    "# def root_objective_function(x:np.ndarray):\n",
    "#     F_array = objective_function(x)\n",
    "#     denom = 0\n",
    "#     for f in F_array:\n",
    "#         denom +=np.abs(f)\n",
    "#     F = 1/(1+denom)\n",
    "#     return -F\n",
    "\n",
    "# boundaries = np.array([(-1,3),(-17,4)])\n",
    "\n",
    "# roots = gam.root_GenAl(objective_function=objective_function,\n",
    "#                         root_objective_function=root_objective_function,\n",
    "#                         boundaries=boundaries,\n",
    "#                         dim=dim,\n",
    "#                         gen_max=gen_max,\n",
    "#                         n_points=n_point,\n",
    "#                         epsilon=epsilon,\n",
    "#                         delta=delta,\n",
    "#                         p_mutation=p_mutation,\n",
    "#                         parts=parts,\n",
    "#                         seed=0,\n",
    "#                         print_cluster=True)\n",
    "# roots"
   ]
  }
 ],
 "metadata": {
  "kernelspec": {
   "display_name": ".venv",
   "language": "python",
   "name": "python3"
  },
  "language_info": {
   "codemirror_mode": {
    "name": "ipython",
    "version": 3
   },
   "file_extension": ".py",
   "mimetype": "text/x-python",
   "name": "python",
   "nbconvert_exporter": "python",
   "pygments_lexer": "ipython3",
   "version": "3.8.8"
  }
 },
 "nbformat": 4,
 "nbformat_minor": 2
}
