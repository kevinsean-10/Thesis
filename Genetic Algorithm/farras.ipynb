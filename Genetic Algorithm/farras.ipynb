{
 "cells": [
  {
   "cell_type": "markdown",
   "id": "91eb0bfa",
   "metadata": {},
   "source": [
    "# Import Module"
   ]
  },
  {
   "cell_type": "code",
   "execution_count": 1,
   "id": "10c88e93",
   "metadata": {},
   "outputs": [],
   "source": [
    "import random\n",
    "import pandas as pd\n",
    "import numpy as np\n",
    "\n",
    "from scipy.linalg import svd\n",
    "from sklearn.metrics.pairwise import cosine_similarity\n",
    "\n",
    "import matplotlib.pyplot as plt\n",
    "from matplotlib import cm\n",
    "from matplotlib.figure import figaspect"
   ]
  },
  {
   "cell_type": "markdown",
   "id": "bed02a4d",
   "metadata": {},
   "source": [
    "# Import Data"
   ]
  },
  {
   "cell_type": "code",
   "execution_count": 2,
   "id": "172938f7",
   "metadata": {
    "scrolled": false
   },
   "outputs": [
    {
     "data": {
      "text/html": [
       "<div>\n",
       "<style scoped>\n",
       "    .dataframe tbody tr th:only-of-type {\n",
       "        vertical-align: middle;\n",
       "    }\n",
       "\n",
       "    .dataframe tbody tr th {\n",
       "        vertical-align: top;\n",
       "    }\n",
       "\n",
       "    .dataframe thead th {\n",
       "        text-align: right;\n",
       "    }\n",
       "</style>\n",
       "<table border=\"1\" class=\"dataframe\">\n",
       "  <thead>\n",
       "    <tr style=\"text-align: right;\">\n",
       "      <th></th>\n",
       "      <th>User_ID</th>\n",
       "      <th>Rating</th>\n",
       "      <th>Movie_ID</th>\n",
       "    </tr>\n",
       "  </thead>\n",
       "  <tbody>\n",
       "    <tr>\n",
       "      <th>0</th>\n",
       "      <td>712664</td>\n",
       "      <td>5</td>\n",
       "      <td>3</td>\n",
       "    </tr>\n",
       "    <tr>\n",
       "      <th>1</th>\n",
       "      <td>1331154</td>\n",
       "      <td>4</td>\n",
       "      <td>3</td>\n",
       "    </tr>\n",
       "    <tr>\n",
       "      <th>2</th>\n",
       "      <td>2632461</td>\n",
       "      <td>3</td>\n",
       "      <td>3</td>\n",
       "    </tr>\n",
       "    <tr>\n",
       "      <th>3</th>\n",
       "      <td>44937</td>\n",
       "      <td>5</td>\n",
       "      <td>3</td>\n",
       "    </tr>\n",
       "    <tr>\n",
       "      <th>4</th>\n",
       "      <td>656399</td>\n",
       "      <td>4</td>\n",
       "      <td>3</td>\n",
       "    </tr>\n",
       "    <tr>\n",
       "      <th>...</th>\n",
       "      <td>...</td>\n",
       "      <td>...</td>\n",
       "      <td>...</td>\n",
       "    </tr>\n",
       "    <tr>\n",
       "      <th>17337453</th>\n",
       "      <td>520675</td>\n",
       "      <td>3</td>\n",
       "      <td>4496</td>\n",
       "    </tr>\n",
       "    <tr>\n",
       "      <th>17337454</th>\n",
       "      <td>1055714</td>\n",
       "      <td>5</td>\n",
       "      <td>4496</td>\n",
       "    </tr>\n",
       "    <tr>\n",
       "      <th>17337455</th>\n",
       "      <td>2643029</td>\n",
       "      <td>4</td>\n",
       "      <td>4496</td>\n",
       "    </tr>\n",
       "    <tr>\n",
       "      <th>17337456</th>\n",
       "      <td>1559566</td>\n",
       "      <td>3</td>\n",
       "      <td>4496</td>\n",
       "    </tr>\n",
       "    <tr>\n",
       "      <th>17337457</th>\n",
       "      <td>293198</td>\n",
       "      <td>3</td>\n",
       "      <td>4496</td>\n",
       "    </tr>\n",
       "  </tbody>\n",
       "</table>\n",
       "<p>17337458 rows × 3 columns</p>\n",
       "</div>"
      ],
      "text/plain": [
       "          User_ID  Rating  Movie_ID\n",
       "0          712664       5         3\n",
       "1         1331154       4         3\n",
       "2         2632461       3         3\n",
       "3           44937       5         3\n",
       "4          656399       4         3\n",
       "...           ...     ...       ...\n",
       "17337453   520675       3      4496\n",
       "17337454  1055714       5      4496\n",
       "17337455  2643029       4      4496\n",
       "17337456  1559566       3      4496\n",
       "17337457   293198       3      4496\n",
       "\n",
       "[17337458 rows x 3 columns]"
      ]
     },
     "execution_count": 2,
     "metadata": {},
     "output_type": "execute_result"
    }
   ],
   "source": [
    "data = pd.read_csv('Netflix_Dataset_Rating.csv')\n",
    "data"
   ]
  },
  {
   "cell_type": "markdown",
   "id": "01396d09",
   "metadata": {},
   "source": [
    "# Functions"
   ]
  },
  {
   "cell_type": "markdown",
   "id": "04546ecb",
   "metadata": {},
   "source": [
    "## Data Manipulation"
   ]
  },
  {
   "cell_type": "code",
   "execution_count": 3,
   "id": "2ecd053d",
   "metadata": {},
   "outputs": [],
   "source": [
    "def fill_nan_with_row_average(row):\n",
    "    row_mean = np.nanmean(row)  \n",
    "    \n",
    "    return row.fillna(row_mean) "
   ]
  },
  {
   "cell_type": "markdown",
   "id": "163f4209",
   "metadata": {},
   "source": [
    "## Objective Function"
   ]
  },
  {
   "cell_type": "code",
   "execution_count": 4,
   "id": "808ec86f",
   "metadata": {},
   "outputs": [],
   "source": [
    "# Fungsi objektif akurasi\n",
    "def func_objective_1(user, \n",
    "                     item):\n",
    "    \n",
    "    total = 0\n",
    "    n_iter = len(item)\n",
    "    for i in range(n_iter):\n",
    "        total += cosine_similarity(user.reshape(1, -1), item[i].reshape(1, -1))\n",
    "\n",
    "    total = total / len(item)\n",
    "\n",
    "    return -total[0, 0]\n",
    "\n",
    "'------------------------------------------------------------------------------------------------------------------'\n",
    "\n",
    "# Fungsi objektif sparsity\n",
    "def func_objective_2(item):\n",
    "    \n",
    "    total = 0\n",
    "    for i in range(len(item)):\n",
    "        for j in range(len(item)):\n",
    "            if i != j:\n",
    "                total += cosine_similarity(item[i].reshape(1, -1), item[j].reshape(1, -1))\n",
    "\n",
    "    total = total / (len(item) * (len(item) - 1))\n",
    "\n",
    "    return total[0, 0]\n",
    "\n",
    "'------------------------------------------------------------------------------------------------------------------'\n",
    "\n",
    "# Fungsi multiobjektif\n",
    "def calculate_affinity(user, \n",
    "                       item, \n",
    "                       population):\n",
    "    \n",
    "    res = []\n",
    "    for recommendations in population:\n",
    "        temp = item[recommendations]\n",
    "\n",
    "        f1 = func_objective_1(user, temp)\n",
    "        f2 = func_objective_2(temp)\n",
    "\n",
    "        res.append([f1, f2])\n",
    "        \n",
    "    return np.array(res)"
   ]
  },
  {
   "cell_type": "markdown",
   "id": "d58b5fd6",
   "metadata": {},
   "source": [
    "## MOGA"
   ]
  },
  {
   "cell_type": "markdown",
   "id": "2edfa49a",
   "metadata": {},
   "source": [
    "### Fitness"
   ]
  },
  {
   "cell_type": "code",
   "execution_count": 5,
   "id": "25985ef8",
   "metadata": {},
   "outputs": [],
   "source": [
    "# Rank\n",
    "def determine_rank(user, \n",
    "                   item, \n",
    "                   population):\n",
    "    \n",
    "    # Menghitung nilai fungsi objektif dari masing-masing list rekomendasi\n",
    "    affinity = calculate_affinity(user, item, population)\n",
    "    \n",
    "    # Inisiasi rank\n",
    "    ranks = [1 for _ in range(len(population))]\n",
    "    for i in range(len(population)):\n",
    "        for j in range(len(population)):\n",
    "            # Jika untuk 2 list rekomendasi berbeda, rekomendasi j memiliki fungsi objektif yang lebih baik,\n",
    "            # maka rank rekomendasi i akan bertambah 1\n",
    "            if i != j:\n",
    "                if (affinity[j][0] < affinity[i][0]) and (affinity[j][1] < affinity[i][1]):\n",
    "                    ranks[i] += 1\n",
    "        \n",
    "    return ranks\n",
    "\n",
    "'------------------------------------------------------------------------------------------------------------------'\n",
    "\n",
    "# Average fitness\n",
    "def average_fitness(ranks):\n",
    "    \n",
    "    # Banyak rekomendasi item\n",
    "    N = len(ranks)\n",
    "    \n",
    "    # Inisiasi nilai average fitness\n",
    "    F = [N - 0.5 * (ranks.count(ranks[i]) - 1) for i in range(N)]\n",
    "    \n",
    "    # Perhitungan lainnya\n",
    "    for i in range(N):\n",
    "        for j in range(ranks[i]):\n",
    "            F[i] -= ranks.count(j)\n",
    "            \n",
    "    return F\n",
    "\n",
    "'------------------------------------------------------------------------------------------------------------------'\n",
    "\n",
    "# Normalized distance\n",
    "def normalized_distance(ranks, \n",
    "                        affinity, \n",
    "                        fmins,\n",
    "                        fmaxs):\n",
    "    \n",
    "    # Banyak rekomendasi\n",
    "    N = len(ranks)\n",
    "    \n",
    "    # Inisiasi distance rekomendasi i dan j\n",
    "    dist = [[0 for j in range(N)] for i in range(N)]\n",
    "    \n",
    "    for rank in [1]:\n",
    "        # Menghitung normalized distance untuk masing-masing rank\n",
    "        for i in range(N):\n",
    "            for j in range(N):\n",
    "                # Lanjutkan perhitungan jika dan hanya jika rank rekomendasi ke-i sama dengan rank rekomendasi ke-j\n",
    "                if ranks[i] == ranks[j]:\n",
    "                    for k in range(len(fmins)):\n",
    "                        dist[i][j] += ((affinity[i][k] - affinity[j][k]) / (fmaxs[k] - fmins[k])) ** 2\n",
    "\n",
    "                    dist[i][j] = np.sqrt(dist[i][j])\n",
    "                    \n",
    "    return dist\n",
    "\n",
    "'------------------------------------------------------------------------------------------------------------------'\n",
    "\n",
    "# Sharing function values\n",
    "def sharing_function(ranks, \n",
    "                     dist,\n",
    "                     share):\n",
    "    \n",
    "    # Banyak rekomendasi\n",
    "    N = len(ranks)\n",
    "    \n",
    "    # Inisiasi matriks sharing function values\n",
    "    sh = dist.copy()\n",
    "    \n",
    "    # Proses perhitungan\n",
    "    for i in range(N):\n",
    "        for j in range(N):\n",
    "            # Lanjutkan perhitungan jika dan hanya jika rank rekomendasi ke-i sama dengan rank rekomendasi ke-j\n",
    "            if ranks[i] == ranks[j]:\n",
    "                if dist[i][j] <= share:\n",
    "                    sh[i][j] = 1 - dist[i][j] / share\n",
    "                    \n",
    "                else:\n",
    "                    sh[i][j] = 0\n",
    "                    \n",
    "    return sh\n",
    "\n",
    "'------------------------------------------------------------------------------------------------------------------'\n",
    "\n",
    "# Niche counts\n",
    "def niche_counts(sh):\n",
    "    \n",
    "    return np.sum(sh, axis = 1)\n",
    "\n",
    "'------------------------------------------------------------------------------------------------------------------'\n",
    "\n",
    "# Shared fitness\n",
    "def shared_fitness(F,\n",
    "                   sh):\n",
    "    \n",
    "    return np.array(F) / np.array(sh)\n",
    "\n",
    "'------------------------------------------------------------------------------------------------------------------'\n",
    "\n",
    "# Scaled fitness\n",
    "def scaled_fitness(ranks,\n",
    "                   F,\n",
    "                   sf):\n",
    "    \n",
    "    # Banyak rekomendasi\n",
    "    N = len(ranks)\n",
    "    \n",
    "    # Inisiasi total shared fitness untuk tiap rank\n",
    "    total = [F[i] * ranks.count(ranks[i]) for i in range(N)]\n",
    "    \n",
    "    # Inisiasi faktor scaling\n",
    "    scaler = [0 for i in range(N)]\n",
    "    \n",
    "    # Perhitungan faktor scaling untuk tiap rekomendasi\n",
    "    for i in range(N):\n",
    "        scaler[i] = sum([sf[j] for j in range(N) if ranks[i] == ranks[j]])\n",
    "        \n",
    "    return np.array(sf) * np.array(total) / np.array(scaler)"
   ]
  },
  {
   "cell_type": "markdown",
   "id": "b09e7fd4",
   "metadata": {},
   "source": [
    "### Genetic Algorithm"
   ]
  },
  {
   "cell_type": "code",
   "execution_count": 21,
   "id": "6160058d",
   "metadata": {},
   "outputs": [],
   "source": [
    "# Selection\n",
    "def select_parent(population,\n",
    "                  scaled_fitness):\n",
    "    \n",
    "    # Menghitung probabilitas setiap list rekomendasi terpilih sebagai parent\n",
    "    scaled_prob = scaled_fitness / sum(scaled_fitness)\n",
    "    \n",
    "    # Menentukan parents berdasarkan random choice\n",
    "    indices = np.arange(len(population))\n",
    "    parents_idx = np.random.choice(indices, p = scaled_prob, size = 2, replace = False)\n",
    "\n",
    "    return parents_idx\n",
    "\n",
    "'------------------------------------------------------------------------------------------------------------------'\n",
    "\n",
    "# Random crossover\n",
    "def random_cross(parents, \n",
    "                 cross_prob = 0.5):\n",
    "    \n",
    "    # Mendefinisikan parent 1 dan 2\n",
    "    parent_1 = parents[0]\n",
    "    parent_2 = parents[1]\n",
    "    \n",
    "    # Random indeks untuk proses one point crossover\n",
    "    cross_index = np.random.randint(0, len(parent_1))\n",
    "    \n",
    "    # Random probabilitas untuk menentukan apakah cross over terjadi\n",
    "    is_cross = False\n",
    "    if np.random.random() < cross_prob:\n",
    "        is_cross = True\n",
    "        \n",
    "    # Jika terjadi crossover, lakukan one point crossover pada indeks cross_index pada kedua parent\n",
    "    if is_cross:\n",
    "        child_1 = parent_1[:cross_index] + parent_2[cross_index:]\n",
    "        child_2 = parent_2[:cross_index] + parent_2[cross_index:]\n",
    "        \n",
    "        # Prosedur untuk memastikan bahwa tidak ada elemen yang repetitif pada child 1 dan 2\n",
    "        # Jika ada, pilih secara random\n",
    "        for i in range(len(child_1)):\n",
    "            # Jika ada elemen di child 1 yang repetitif, pilih secara random dari child 2\n",
    "            if child_1[i] in child_1[:i]:\n",
    "                while True:\n",
    "                    new_rec = np.random.choice(child_2)\n",
    "                    if new_rec not in child_1[:i]:\n",
    "                        child_1[i] = new_rec\n",
    "                        break\n",
    "\n",
    "            # Lakukan hal serupa untuk child 2\n",
    "            if child_2[i] in child_2[:i]:\n",
    "                while True:\n",
    "                    new_rec = np.random.choice(child_1)\n",
    "                    if new_rec not in child_2[:i]:\n",
    "                        child_2[i] = new_rec\n",
    "                        break\n",
    "     \n",
    "    # Jika tidak terjadi crossover, maka childs sama dengan parents\n",
    "    else:\n",
    "        child_1 = parent_1\n",
    "        child_2 = parent_2\n",
    "                    \n",
    "    return [child_1, child_2]\n",
    "\n",
    "'------------------------------------------------------------------------------------------------------------------'\n",
    "\n",
    "# Random mutation\n",
    "def random_mutate(childs, \n",
    "                  mute_prob = 0.2,\n",
    "                  minv = 0,\n",
    "                  maxv = 30):\n",
    "    \n",
    "    # Lakukan mutasi untuk kedua child dari proses crossover\n",
    "    for i in range(len(childs)):\n",
    "        # Random indeks untuk proses single mutation\n",
    "        mute_index = np.random.randint(0, len(childs))\n",
    "        \n",
    "        # Random probabilitas untuk menentukan apakah mutasi terjadi\n",
    "        is_mute = False\n",
    "        if np.random.random() < mute_prob:\n",
    "            is_mute = True\n",
    "            \n",
    "        # Jika terjadi mutasi, lakukan single point mutation dengan memilih secara random suatu item rekomendasi\n",
    "        if is_mute:\n",
    "            # Rekomendasikan suatu item yang tidak ada pada list item rekomendasi child i\n",
    "            while True:\n",
    "                new_rec = np.random.randint(minv, maxv)\n",
    "                if new_rec not in childs[i]:\n",
    "                    childs[i][mute_index] = new_rec\n",
    "                    break\n",
    "                    \n",
    "    return childs "
   ]
  },
  {
   "cell_type": "code",
   "execution_count": 7,
   "id": "85ed8075",
   "metadata": {},
   "outputs": [],
   "source": [
    "affinity = [[0.31, 6.1], [0.43, 6.79], [0.22, 7.09], [0.59, 7.85], [0.66, 3.65], [0.83, 4.23]]\n",
    "ranks = [1, 2, 1, 4, 1, 2]\n",
    "fmins = [0.1, 1]\n",
    "fmaxs = [1, 10]"
   ]
  },
  {
   "cell_type": "code",
   "execution_count": 8,
   "id": "1a63c297",
   "metadata": {},
   "outputs": [
    {
     "data": {
      "text/plain": [
       "[5.0, 2.5, 5.0, 1.0, 5.0, 2.5]"
      ]
     },
     "execution_count": 8,
     "metadata": {},
     "output_type": "execute_result"
    }
   ],
   "source": [
    "F = average_fitness(ranks)\n",
    "F"
   ]
  },
  {
   "cell_type": "code",
   "execution_count": 9,
   "id": "7178610f",
   "metadata": {},
   "outputs": [
    {
     "data": {
      "text/plain": [
       "[[0.0, 0, 0.14866068747318506, 0, 0.47469938505631065, 0],\n",
       " [0, 0.0, 0, 0, 0, 0.5276736739433183],\n",
       " [0.14866068747318506, 0, 0.0, 0, 0.6205692329140289, 0],\n",
       " [0, 0, 0, 0.0, 0, 0],\n",
       " [0.47469938505631065, 0, 0.6205692329140289, 0, 0.0, 0],\n",
       " [0, 0.5276736739433183, 0, 0, 0, 0.0]]"
      ]
     },
     "execution_count": 9,
     "metadata": {},
     "output_type": "execute_result"
    }
   ],
   "source": [
    "dist = normalized_distance(ranks, affinity, fmins, fmaxs)\n",
    "dist"
   ]
  },
  {
   "cell_type": "code",
   "execution_count": 10,
   "id": "de7db414",
   "metadata": {},
   "outputs": [
    {
     "data": {
      "text/plain": [
       "[[1.0, 0, 0.7026786250536299, 0, 0.050601229887378696, 0],\n",
       " [0, 1.0, 0, 0, 0, 0],\n",
       " [0.7026786250536299, 0, 1.0, 0, 0, 0],\n",
       " [0, 0, 0, 1.0, 0, 0],\n",
       " [0.050601229887378696, 0, 0, 0, 1.0, 0],\n",
       " [0, 0, 0, 0, 0, 1.0]]"
      ]
     },
     "execution_count": 10,
     "metadata": {},
     "output_type": "execute_result"
    }
   ],
   "source": [
    "sh = sharing_function(ranks, dist, 0.5)\n",
    "sh"
   ]
  },
  {
   "cell_type": "code",
   "execution_count": 11,
   "id": "fb72e5a8",
   "metadata": {},
   "outputs": [
    {
     "data": {
      "text/plain": [
       "array([1.75327985, 1.        , 1.70267863, 1.        , 1.05060123,\n",
       "       1.        ])"
      ]
     },
     "execution_count": 11,
     "metadata": {},
     "output_type": "execute_result"
    }
   ],
   "source": [
    "nc = niche_counts(sh)\n",
    "nc"
   ]
  },
  {
   "cell_type": "code",
   "execution_count": 12,
   "id": "965ea5a9",
   "metadata": {},
   "outputs": [
    {
     "data": {
      "text/plain": [
       "array([2.85179801, 2.5       , 2.93654946, 1.        , 4.75917966,\n",
       "       2.5       ])"
      ]
     },
     "execution_count": 12,
     "metadata": {},
     "output_type": "execute_result"
    }
   ],
   "source": [
    "sf = shared_fitness(F, nc)\n",
    "sf"
   ]
  },
  {
   "cell_type": "code",
   "execution_count": 13,
   "id": "cbed3bcd",
   "metadata": {},
   "outputs": [
    {
     "data": {
      "text/plain": [
       "array([4.05563974, 2.5       , 4.17616768, 1.        , 6.76819258,\n",
       "       2.5       ])"
      ]
     },
     "execution_count": 13,
     "metadata": {},
     "output_type": "execute_result"
    }
   ],
   "source": [
    "sc_f = scaled_fitness(ranks, F, sf)\n",
    "sc_f"
   ]
  },
  {
   "cell_type": "markdown",
   "id": "4476edf6",
   "metadata": {},
   "source": [
    "# Data Preparation"
   ]
  },
  {
   "cell_type": "code",
   "execution_count": 14,
   "id": "5c2a57bd",
   "metadata": {},
   "outputs": [],
   "source": [
    "# Pick 40 random movies\n",
    "random_40_movies = data['Movie_ID'].value_counts().index[:40]\n",
    "\n",
    "# Limit the data only to those movies to speed up computation\n",
    "temp = data.loc[data['Movie_ID'].isin(random_40_movies)] \n",
    "\n",
    "# Top 300 most rating users who rated these movies\n",
    "top_300_most_rating_users = data.loc[data['Movie_ID'].isin(random_40_movies)]['User_ID'].value_counts().index[:300]\n",
    "\n",
    "# Limit the data only to those movies and users to speed up computation\n",
    "temp = temp.loc[data['User_ID'].isin(top_300_most_rating_users)] "
   ]
  },
  {
   "cell_type": "markdown",
   "id": "ca064953",
   "metadata": {},
   "source": [
    "## Pivot Table"
   ]
  },
  {
   "cell_type": "code",
   "execution_count": 15,
   "id": "eb30b18c",
   "metadata": {},
   "outputs": [
    {
     "data": {
      "text/html": [
       "<div>\n",
       "<style scoped>\n",
       "    .dataframe tbody tr th:only-of-type {\n",
       "        vertical-align: middle;\n",
       "    }\n",
       "\n",
       "    .dataframe tbody tr th {\n",
       "        vertical-align: top;\n",
       "    }\n",
       "\n",
       "    .dataframe thead th {\n",
       "        text-align: right;\n",
       "    }\n",
       "</style>\n",
       "<table border=\"1\" class=\"dataframe\">\n",
       "  <thead>\n",
       "    <tr style=\"text-align: right;\">\n",
       "      <th></th>\n",
       "      <th>0</th>\n",
       "      <th>1</th>\n",
       "      <th>2</th>\n",
       "      <th>3</th>\n",
       "      <th>4</th>\n",
       "      <th>5</th>\n",
       "      <th>6</th>\n",
       "      <th>7</th>\n",
       "      <th>8</th>\n",
       "      <th>9</th>\n",
       "      <th>...</th>\n",
       "      <th>30</th>\n",
       "      <th>31</th>\n",
       "      <th>32</th>\n",
       "      <th>33</th>\n",
       "      <th>34</th>\n",
       "      <th>35</th>\n",
       "      <th>36</th>\n",
       "      <th>37</th>\n",
       "      <th>38</th>\n",
       "      <th>39</th>\n",
       "    </tr>\n",
       "  </thead>\n",
       "  <tbody>\n",
       "    <tr>\n",
       "      <th>0</th>\n",
       "      <td>2</td>\n",
       "      <td>4</td>\n",
       "      <td>4</td>\n",
       "      <td>4</td>\n",
       "      <td>5</td>\n",
       "      <td>4</td>\n",
       "      <td>4</td>\n",
       "      <td>4</td>\n",
       "      <td>5</td>\n",
       "      <td>3</td>\n",
       "      <td>...</td>\n",
       "      <td>4</td>\n",
       "      <td>4</td>\n",
       "      <td>4</td>\n",
       "      <td>4</td>\n",
       "      <td>5</td>\n",
       "      <td>4</td>\n",
       "      <td>4</td>\n",
       "      <td>4</td>\n",
       "      <td>4</td>\n",
       "      <td>4</td>\n",
       "    </tr>\n",
       "    <tr>\n",
       "      <th>1</th>\n",
       "      <td>3</td>\n",
       "      <td>4</td>\n",
       "      <td>5</td>\n",
       "      <td>5</td>\n",
       "      <td>3</td>\n",
       "      <td>5</td>\n",
       "      <td>3</td>\n",
       "      <td>4</td>\n",
       "      <td>5</td>\n",
       "      <td>2</td>\n",
       "      <td>...</td>\n",
       "      <td>3</td>\n",
       "      <td>4</td>\n",
       "      <td>4</td>\n",
       "      <td>4</td>\n",
       "      <td>5</td>\n",
       "      <td>4</td>\n",
       "      <td>5</td>\n",
       "      <td>5</td>\n",
       "      <td>5</td>\n",
       "      <td>4</td>\n",
       "    </tr>\n",
       "    <tr>\n",
       "      <th>2</th>\n",
       "      <td>5</td>\n",
       "      <td>5</td>\n",
       "      <td>4</td>\n",
       "      <td>4</td>\n",
       "      <td>4</td>\n",
       "      <td>2</td>\n",
       "      <td>5</td>\n",
       "      <td>4</td>\n",
       "      <td>4</td>\n",
       "      <td>5</td>\n",
       "      <td>...</td>\n",
       "      <td>4</td>\n",
       "      <td>4</td>\n",
       "      <td>1</td>\n",
       "      <td>4</td>\n",
       "      <td>5</td>\n",
       "      <td>4</td>\n",
       "      <td>4</td>\n",
       "      <td>4</td>\n",
       "      <td>4</td>\n",
       "      <td>4</td>\n",
       "    </tr>\n",
       "    <tr>\n",
       "      <th>3</th>\n",
       "      <td>5</td>\n",
       "      <td>5</td>\n",
       "      <td>4</td>\n",
       "      <td>4</td>\n",
       "      <td>4</td>\n",
       "      <td>5</td>\n",
       "      <td>2</td>\n",
       "      <td>5</td>\n",
       "      <td>4</td>\n",
       "      <td>5</td>\n",
       "      <td>...</td>\n",
       "      <td>5</td>\n",
       "      <td>5</td>\n",
       "      <td>5</td>\n",
       "      <td>5</td>\n",
       "      <td>5</td>\n",
       "      <td>5</td>\n",
       "      <td>5</td>\n",
       "      <td>5</td>\n",
       "      <td>5</td>\n",
       "      <td>1</td>\n",
       "    </tr>\n",
       "    <tr>\n",
       "      <th>4</th>\n",
       "      <td>3</td>\n",
       "      <td>4</td>\n",
       "      <td>5</td>\n",
       "      <td>4</td>\n",
       "      <td>2</td>\n",
       "      <td>4</td>\n",
       "      <td>3</td>\n",
       "      <td>3</td>\n",
       "      <td>3</td>\n",
       "      <td>2</td>\n",
       "      <td>...</td>\n",
       "      <td>3</td>\n",
       "      <td>2</td>\n",
       "      <td>4</td>\n",
       "      <td>5</td>\n",
       "      <td>5</td>\n",
       "      <td>4</td>\n",
       "      <td>3</td>\n",
       "      <td>5</td>\n",
       "      <td>4</td>\n",
       "      <td>3</td>\n",
       "    </tr>\n",
       "    <tr>\n",
       "      <th>...</th>\n",
       "      <td>...</td>\n",
       "      <td>...</td>\n",
       "      <td>...</td>\n",
       "      <td>...</td>\n",
       "      <td>...</td>\n",
       "      <td>...</td>\n",
       "      <td>...</td>\n",
       "      <td>...</td>\n",
       "      <td>...</td>\n",
       "      <td>...</td>\n",
       "      <td>...</td>\n",
       "      <td>...</td>\n",
       "      <td>...</td>\n",
       "      <td>...</td>\n",
       "      <td>...</td>\n",
       "      <td>...</td>\n",
       "      <td>...</td>\n",
       "      <td>...</td>\n",
       "      <td>...</td>\n",
       "      <td>...</td>\n",
       "      <td>...</td>\n",
       "    </tr>\n",
       "    <tr>\n",
       "      <th>295</th>\n",
       "      <td>4</td>\n",
       "      <td>4</td>\n",
       "      <td>4</td>\n",
       "      <td>4</td>\n",
       "      <td>4</td>\n",
       "      <td>2</td>\n",
       "      <td>5</td>\n",
       "      <td>4</td>\n",
       "      <td>1</td>\n",
       "      <td>2</td>\n",
       "      <td>...</td>\n",
       "      <td>3</td>\n",
       "      <td>4</td>\n",
       "      <td>5</td>\n",
       "      <td>4</td>\n",
       "      <td>5</td>\n",
       "      <td>5</td>\n",
       "      <td>3</td>\n",
       "      <td>5</td>\n",
       "      <td>5</td>\n",
       "      <td>4</td>\n",
       "    </tr>\n",
       "    <tr>\n",
       "      <th>296</th>\n",
       "      <td>5</td>\n",
       "      <td>4</td>\n",
       "      <td>5</td>\n",
       "      <td>4</td>\n",
       "      <td>4</td>\n",
       "      <td>4</td>\n",
       "      <td>5</td>\n",
       "      <td>3</td>\n",
       "      <td>4</td>\n",
       "      <td>4</td>\n",
       "      <td>...</td>\n",
       "      <td>4</td>\n",
       "      <td>4</td>\n",
       "      <td>4</td>\n",
       "      <td>5</td>\n",
       "      <td>5</td>\n",
       "      <td>4</td>\n",
       "      <td>4</td>\n",
       "      <td>5</td>\n",
       "      <td>3</td>\n",
       "      <td>4</td>\n",
       "    </tr>\n",
       "    <tr>\n",
       "      <th>297</th>\n",
       "      <td>5</td>\n",
       "      <td>4</td>\n",
       "      <td>3</td>\n",
       "      <td>4</td>\n",
       "      <td>4</td>\n",
       "      <td>5</td>\n",
       "      <td>3</td>\n",
       "      <td>4</td>\n",
       "      <td>4</td>\n",
       "      <td>3</td>\n",
       "      <td>...</td>\n",
       "      <td>4</td>\n",
       "      <td>5</td>\n",
       "      <td>4</td>\n",
       "      <td>5</td>\n",
       "      <td>5</td>\n",
       "      <td>4</td>\n",
       "      <td>4</td>\n",
       "      <td>5</td>\n",
       "      <td>4</td>\n",
       "      <td>3</td>\n",
       "    </tr>\n",
       "    <tr>\n",
       "      <th>298</th>\n",
       "      <td>2</td>\n",
       "      <td>4</td>\n",
       "      <td>5</td>\n",
       "      <td>5</td>\n",
       "      <td>4</td>\n",
       "      <td>4</td>\n",
       "      <td>4</td>\n",
       "      <td>5</td>\n",
       "      <td>3</td>\n",
       "      <td>5</td>\n",
       "      <td>...</td>\n",
       "      <td>4</td>\n",
       "      <td>3</td>\n",
       "      <td>3</td>\n",
       "      <td>3</td>\n",
       "      <td>3</td>\n",
       "      <td>3</td>\n",
       "      <td>2</td>\n",
       "      <td>4</td>\n",
       "      <td>4</td>\n",
       "      <td>4</td>\n",
       "    </tr>\n",
       "    <tr>\n",
       "      <th>299</th>\n",
       "      <td>3</td>\n",
       "      <td>5</td>\n",
       "      <td>5</td>\n",
       "      <td>5</td>\n",
       "      <td>4</td>\n",
       "      <td>5</td>\n",
       "      <td>4</td>\n",
       "      <td>4</td>\n",
       "      <td>1</td>\n",
       "      <td>5</td>\n",
       "      <td>...</td>\n",
       "      <td>3</td>\n",
       "      <td>4</td>\n",
       "      <td>3</td>\n",
       "      <td>4</td>\n",
       "      <td>4</td>\n",
       "      <td>5</td>\n",
       "      <td>4</td>\n",
       "      <td>5</td>\n",
       "      <td>5</td>\n",
       "      <td>4</td>\n",
       "    </tr>\n",
       "  </tbody>\n",
       "</table>\n",
       "<p>300 rows × 40 columns</p>\n",
       "</div>"
      ],
      "text/plain": [
       "     0   1   2   3   4   5   6   7   8   9   ...  30  31  32  33  34  35  36  \\\n",
       "0     2   4   4   4   5   4   4   4   5   3  ...   4   4   4   4   5   4   4   \n",
       "1     3   4   5   5   3   5   3   4   5   2  ...   3   4   4   4   5   4   5   \n",
       "2     5   5   4   4   4   2   5   4   4   5  ...   4   4   1   4   5   4   4   \n",
       "3     5   5   4   4   4   5   2   5   4   5  ...   5   5   5   5   5   5   5   \n",
       "4     3   4   5   4   2   4   3   3   3   2  ...   3   2   4   5   5   4   3   \n",
       "..   ..  ..  ..  ..  ..  ..  ..  ..  ..  ..  ...  ..  ..  ..  ..  ..  ..  ..   \n",
       "295   4   4   4   4   4   2   5   4   1   2  ...   3   4   5   4   5   5   3   \n",
       "296   5   4   5   4   4   4   5   3   4   4  ...   4   4   4   5   5   4   4   \n",
       "297   5   4   3   4   4   5   3   4   4   3  ...   4   5   4   5   5   4   4   \n",
       "298   2   4   5   5   4   4   4   5   3   5  ...   4   3   3   3   3   3   2   \n",
       "299   3   5   5   5   4   5   4   4   1   5  ...   3   4   3   4   4   5   4   \n",
       "\n",
       "     37  38  39  \n",
       "0     4   4   4  \n",
       "1     5   5   4  \n",
       "2     4   4   4  \n",
       "3     5   5   1  \n",
       "4     5   4   3  \n",
       "..   ..  ..  ..  \n",
       "295   5   5   4  \n",
       "296   5   3   4  \n",
       "297   5   4   3  \n",
       "298   4   4   4  \n",
       "299   5   5   4  \n",
       "\n",
       "[300 rows x 40 columns]"
      ]
     },
     "execution_count": 15,
     "metadata": {},
     "output_type": "execute_result"
    }
   ],
   "source": [
    "R_matrix = pd.pivot_table(temp, values = 'Rating', index = 'User_ID', columns = 'Movie_ID')\n",
    "R_matrix.index = np.arange(len(R_matrix))\n",
    "R_matrix.columns = np.arange(len(R_matrix.columns))\n",
    "\n",
    "R_matrix"
   ]
  },
  {
   "cell_type": "markdown",
   "id": "4c871c6e",
   "metadata": {},
   "source": [
    "## Missing Value Handling and SVD"
   ]
  },
  {
   "cell_type": "code",
   "execution_count": 49,
   "id": "61364c6c",
   "metadata": {},
   "outputs": [],
   "source": [
    "# Proses SVD\n",
    "R_matrix = R_matrix.apply(fill_nan_with_row_average, axis = 1)\n",
    "U, S, Vt = svd(R_matrix.to_numpy(), full_matrices = True)\n",
    "\n",
    "# Truncate ke rank k\n",
    "rank = 10\n",
    "U = U[:, :rank]\n",
    "S = S[:rank]\n",
    "Vt = Vt[:rank, :]\n",
    "\n",
    "# User dan item feature matrix\n",
    "M_user_matrix = np.matmul(U, np.diag(S ** 0.5))\n",
    "N_item_matrix = np.matmul(Vt.T, np.diag(S ** 0.5))\n",
    "\n",
    "\n",
    "similarity_matrix = cosine_similarity(M_user_matrix, N_item_matrix)"
   ]
  },
  {
   "cell_type": "markdown",
   "id": "5a89cb27",
   "metadata": {},
   "source": [
    "# Recommendation for Specific User"
   ]
  },
  {
   "cell_type": "markdown",
   "id": "15c0558e",
   "metadata": {},
   "source": [
    "## Initial Solution"
   ]
  },
  {
   "cell_type": "code",
   "execution_count": 50,
   "id": "58835589",
   "metadata": {},
   "outputs": [
    {
     "data": {
      "text/plain": [
       "[[4, 30, 13, 7, 6],\n",
       " [11, 7, 33, 9, 13],\n",
       " [19, 17, 10, 25, 30],\n",
       " [11, 0, 23, 5, 10],\n",
       " [27, 30, 32, 0, 38],\n",
       " [19, 36, 2, 32, 37],\n",
       " [38, 26, 12, 16, 13],\n",
       " [32, 16, 11, 6, 0],\n",
       " [30, 20, 26, 12, 11],\n",
       " [32, 37, 6, 29, 21]]"
      ]
     },
     "execution_count": 50,
     "metadata": {},
     "output_type": "execute_result"
    }
   ],
   "source": [
    "# Suppose you want to recommend items for user 0\n",
    "user_idx = 0\n",
    "user_similarity_scores = similarity_matrix[user_idx]\n",
    "\n",
    "# Create initial solutions of recommendation items for user\n",
    "pop_size = 10\n",
    "items_to_recommend = 5\n",
    "R_lists = []\n",
    "for _ in range(pop_size):\n",
    "    unique_elements = random.sample(list(np.arange(len(N_item_matrix))), items_to_recommend)\n",
    "    R_lists.append(unique_elements)\n",
    "                                    \n",
    "R_lists"
   ]
  },
  {
   "cell_type": "code",
   "execution_count": 51,
   "id": "64323121",
   "metadata": {},
   "outputs": [
    {
     "data": {
      "text/plain": [
       "<matplotlib.collections.PathCollection at 0x29f971dd1b0>"
      ]
     },
     "execution_count": 51,
     "metadata": {},
     "output_type": "execute_result"
    },
    {
     "data": {
      "image/png": "[encoded data removed]",
      "text/plain": [
       "<Figure size 432x288 with 1 Axes>"
      ]
     },
     "metadata": {
      "needs_background": "light"
     },
     "output_type": "display_data"
    }
   ],
   "source": [
    "user = M_user_matrix[user_idx]\n",
    "item = N_item_matrix\n",
    "\n",
    "affinity = calculate_affinity(user, item, R_lists)\n",
    "\n",
    "# Plot the initial solution\n",
    "plt.scatter(affinity[:, 1], affinity[:, 0])"
   ]
  },
  {
   "cell_type": "markdown",
   "id": "fe7bdf53",
   "metadata": {},
   "source": [
    "## Optimization"
   ]
  },
  {
   "cell_type": "code",
   "execution_count": 52,
   "id": "0a771746",
   "metadata": {},
   "outputs": [],
   "source": [
    "# Konstanta\n",
    "fmins = [-1, -1]\n",
    "fmaxs = [0, 0]\n",
    "\n",
    "max_iter = 500"
   ]
  },
  {
   "cell_type": "code",
   "execution_count": 53,
   "id": "eeae28e4",
   "metadata": {},
   "outputs": [],
   "source": [
    "for i in range(max_iter):    \n",
    "    ranks = determine_rank(user, item, R_lists)\n",
    "    F = average_fitness(ranks)\n",
    "    dist = normalized_distance(ranks, affinity, fmins, fmaxs)\n",
    "    sh = sharing_function(ranks, dist, 0.5)\n",
    "    nc = niche_counts(sh)\n",
    "    sf = shared_fitness(F, nc)\n",
    "    sc_f = scaled_fitness(ranks, F, sf)\n",
    "\n",
    "    parents_indices = select_parent(R_lists, sc_f)\n",
    "    parents = [R_lists[int(idx)] for idx in parents_indices]\n",
    "    childs = random_cross(parents)\n",
    "    childs = random_mutate(childs)\n",
    "    \n",
    "    for j in range(len(childs)):\n",
    "        R_lists[parents_indices[j]] = childs[j]"
   ]
  },
  {
   "cell_type": "code",
   "execution_count": 54,
   "id": "3d4926fe",
   "metadata": {},
   "outputs": [
    {
     "data": {
      "text/plain": [
       "<matplotlib.collections.PathCollection at 0x29fa5443130>"
      ]
     },
     "execution_count": 54,
     "metadata": {},
     "output_type": "execute_result"
    },
    {
     "data": {
      "image/png": "[encoded data removed]",
      "text/plain": [
       "<Figure size 432x288 with 1 Axes>"
      ]
     },
     "metadata": {
      "needs_background": "light"
     },
     "output_type": "display_data"
    }
   ],
   "source": [
    "affinity = calculate_affinity(user, item, R_lists)\n",
    "\n",
    "# Plot the initial solution\n",
    "plt.scatter(affinity[:, 1], affinity[:, 0])"
   ]
  }
 ],
 "metadata": {
  "kernelspec": {
   "display_name": "Python 3",
   "language": "python",
   "name": "python3"
  },
  "language_info": {
   "codemirror_mode": {
    "name": "ipython",
    "version": 3
   },
   "file_extension": ".py",
   "mimetype": "text/x-python",
   "name": "python",
   "nbconvert_exporter": "python",
   "pygments_lexer": "ipython3",
   "version": "3.10.5"
  }
 },
 "nbformat": 4,
 "nbformat_minor": 5
}
