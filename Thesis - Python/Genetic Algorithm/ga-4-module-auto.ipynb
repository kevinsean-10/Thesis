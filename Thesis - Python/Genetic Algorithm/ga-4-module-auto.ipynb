{
 "cells": [
  {
   "cell_type": "code",
   "execution_count": null,
   "metadata": {},
   "outputs": [],
   "source": [
    "import numpy as np\n",
    "import matplotlib.pyplot as plt\n",
    "\n",
    "\n"
   ]
  },
  {
   "cell_type": "markdown",
   "metadata": {},
   "source": [
    "**Problem 1 Pak Kun**"
   ]
  },
  {
   "cell_type": "code",
   "execution_count": null,
   "metadata": {},
   "outputs": [],
   "source": [
    "# epsilon = 1e-3\n",
    "# delta = 0.01\n",
    "# n_point = 200\n",
    "# gen_max = 100\n",
    "# dim = 2\n",
    "# p_mutation = 0.1\n",
    "\n",
    "# # how many parts/slices do you desire in each dimension?\n",
    "# parts = 100\n",
    "\n",
    "# def objective_function(x):\n",
    "#     f1 = np.exp(x[0]-x[1])-np.sin(x[0]+x[1])\n",
    "#     f2 = (x[0]*x[1])**2-np.cos(x[0]+x[1])\n",
    "#     return np.array([f1,f2])\n",
    "\n",
    "# boundaries = np.array([(-10,10) for _ in range (dim)])\n"
   ]
  },
  {
   "cell_type": "markdown",
   "metadata": {},
   "source": [
    "**Problem 2 Pak Kun**"
   ]
  },
  {
   "cell_type": "code",
   "execution_count": null,
   "metadata": {},
   "outputs": [],
   "source": [
    "epsilon = 1e-3\n",
    "delta = 0.4\n",
    "\n",
    "gen_max = 100\n",
    "dim = 2\n",
    "p_mutation = 0.1\n",
    "\n",
    "\n",
    "parts = 100\n",
    "n_point = 100\n",
    "\n",
    "\n",
    "def objective_function(x):\n",
    "    f1 = 0.5*np.sin(x[0]*x[1])-0.25*x[1]/np.pi - 0.5*x[0]\n",
    "    f2 = (1-0.25/np.pi)*(np.exp(2*x[0])-np.exp(1))+np.exp(1)*x[1]/np.pi - 2*np.exp(1)*x[0]\n",
    "    f_list = np.array([f1,f2])\n",
    "    return f_list\n",
    "boundaries = np.array([(-1,3),(-17,4)])"
   ]
  },
  {
   "cell_type": "code",
   "execution_count": null,
   "metadata": {},
   "outputs": [],
   "source": [
    "def root_objective_function(x:np.ndarray):\n",
    "    res = 0\n",
    "    F_array = objective_function(x)\n",
    "    for f in F_array:\n",
    "        res +=(f)**2\n",
    "    return res\n",
    "\n",
    "# def root_objective_function(x:np.ndarray):\n",
    "#     denom = 1\n",
    "#     F_array = objective_function(x)\n",
    "#     for f in F_array:\n",
    "#         denom += np.abs(f)\n",
    "#     res = 1/denom\n",
    "#     return -res"
   ]
  },
  {
   "cell_type": "code",
   "execution_count": null,
   "metadata": {},
   "outputs": [],
   "source": [
    "import genal_module as gam\n",
    "import importlib\n",
    "import time\n",
    "from tqdm import tqdm\n",
    "importlib.reload(gam)\n",
    "\n",
    "time_elapsed = [] # time elapsed\n",
    "seed_archive = []\n",
    "archiveB = [] # the root(s) found\n",
    "archiveC = [] # how many roots found\n",
    "archiveD = [] # best solution\n",
    "\n",
    "for i in tqdm(range(50), desc=\"Processing\"):\n",
    "    start = time.time()\n",
    "    archiveA = []\n",
    "    seed = np.random.randint(0,100)\n",
    "    archiveA = gam.root_GenAl(objective_function=objective_function,\n",
    "                                root_objective_function=root_objective_function,\n",
    "                                boundaries=boundaries,\n",
    "                                dim=dim,\n",
    "                                gen_max=gen_max,\n",
    "                                n_points=n_point,\n",
    "                                epsilon=epsilon,\n",
    "                                delta=delta,\n",
    "                                p_mutation=p_mutation,\n",
    "                                parts=parts,\n",
    "                                seed=0,\n",
    "                                print_cluster=False)\n",
    "    archiveD = root_objective_function([archiveA[:,0],archiveA[:,1]])\n",
    "    end = time.time()\n",
    "    seed_archive.append(seed)\n",
    "    time_elapsed.append(end - start)\n",
    "    archiveB.append(archiveA)\n",
    "    archiveC.append(len(archiveA))\n",
    "\n",
    "archiveC = np.array(archiveC)\n",
    "archiveD = np.array(archiveD)\n",
    "time_elapsed = np.array(time_elapsed)\n",
    "seed_archive = np.array(seed_archive)"
   ]
  },
  {
   "cell_type": "code",
   "execution_count": null,
   "metadata": {},
   "outputs": [],
   "source": [
    "print('STATISTIC')\n",
    "print('__________')\n",
    "# print(f'Mean banyak akar: {archiveC.mean()}')\n",
    "# print(f'Std banyak akar: {archiveC.std()}')\n",
    "# print(f'Max banyak akar: {archiveC.max()}')\n",
    "# print(f'Min banyak akar: {archiveC.min()}')\n",
    "# print(f'Mean solusi terbaik: {archiveD.mean()}')\n",
    "# print(f'Std solusi terbaik: {archiveD.std()}')\n",
    "# print(f'Max solusi terbaik: {archiveD.min()}')\n",
    "# print(f'Min solusi terbaik: {archiveD.max()}')\n",
    "# print(f'Mean time elapsed: {time_elapsed.mean()}')\n",
    "# print(f'Std time elapsed: {time_elapsed.std()}')\n",
    "# print(f'Best time elapsed: {time_elapsed.min()}')\n",
    "# print(f'Worst time elapsed: {time_elapsed.max()}')\n",
    "\n",
    "print(f'{archiveC.mean()}')\n",
    "print(f'{archiveC.std()}')\n",
    "print(f'{archiveC.max()}')\n",
    "print(f'{archiveC.min()}')\n",
    "print(f'{archiveD.mean()}')\n",
    "print(f'{archiveD.std()}')\n",
    "print(f'{archiveD.min()}')\n",
    "print(f'{archiveD.max()}')\n",
    "print(f'{time_elapsed.mean()}')\n",
    "print(f'{time_elapsed.std()}')\n",
    "print(f'{time_elapsed.min()}')\n",
    "print(f'{time_elapsed.max()}')"
   ]
  }
 ],
 "metadata": {
  "kernelspec": {
   "display_name": "Python 3",
   "language": "python",
   "name": "python3"
  },
  "language_info": {
   "codemirror_mode": {
    "name": "ipython",
    "version": 3
   },
   "file_extension": ".py",
   "mimetype": "text/x-python",
   "name": "python",
   "nbconvert_exporter": "python",
   "pygments_lexer": "ipython3",
   "version": "3.8.8"
  }
 },
 "nbformat": 4,
 "nbformat_minor": 2
}
