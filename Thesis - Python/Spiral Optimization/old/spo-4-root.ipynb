{
 "cells": [
  {
   "cell_type": "code",
   "execution_count": 18,
   "metadata": {},
   "outputs": [],
   "source": [
    "import numpy as np\n",
    "import pandas as pd\n",
    "import sobol_seq\n",
    "import matplotlib.pyplot as plt"
   ]
  },
  {
   "cell_type": "markdown",
   "metadata": {},
   "source": [
    "Problem 1"
   ]
  },
  {
   "cell_type": "code",
   "execution_count": 19,
   "metadata": {},
   "outputs": [],
   "source": [
    "m_cluster = 50\n",
    "gamma = -0.2\n",
    "epsilon = 10**(-3)\n",
    "delta = 0.01\n",
    "k_cluster = 10\n",
    "m = 250\n",
    "r = 0.95\n",
    "theta = np.pi/4\n",
    "k_max = 250\n",
    "dim = 2\n",
    "\n",
    "def objective_function(x):\n",
    "    f1 = np.exp(x[0]-x[1])-np.sin(x[0]+x[1])\n",
    "    f2 = (x[0]*x[1])**2-np.cos(x[0]+x[1])\n",
    "    return np.array([f1,f2])\n",
    "\n",
    "boundaries = np.array([(-10,10) for _ in range (dim)])"
   ]
  },
  {
   "cell_type": "markdown",
   "metadata": {},
   "source": [
    "Problem 2"
   ]
  },
  {
   "cell_type": "code",
   "execution_count": 20,
   "metadata": {},
   "outputs": [],
   "source": [
    "# m_cluster = 2000\n",
    "# gamma = 0.3\n",
    "# epsilon = 10**(-3)\n",
    "# delta = 0.1\n",
    "# k_cluster = 10\n",
    "# m = 300\n",
    "# r = 0.95\n",
    "# theta = np.pi/4\n",
    "# k_max = 300\n",
    "# dim = 2\n",
    "\n",
    "# def objective_function(x):\n",
    "#     f1 = 0.5*np.sin(x[0]*x[1])-0.25*x[1]/np.pi - 0.5*x[0]\n",
    "#     f2 = (1-0.25/np.pi)*(np.exp(2*x[0])-np.exp(1))+np.exp(1)*x[1]/np.pi - 2*np.exp(1)*x[0]\n",
    "#     f_list = [f1,f2]\n",
    "#     denom = 0\n",
    "#     for f in f_list:\n",
    "#         denom +=np.abs(f)\n",
    "#     F = 1/(1+denom)\n",
    "#     return F\n",
    "\n",
    "# boundaries = np.array([(-1,3),(-17,4)])"
   ]
  },
  {
   "cell_type": "markdown",
   "metadata": {},
   "source": [
    "Problem 4"
   ]
  },
  {
   "cell_type": "code",
   "execution_count": 21,
   "metadata": {},
   "outputs": [],
   "source": [
    "# m_cluster = 2000\n",
    "# gamma = 0.001\n",
    "# epsilon = 10**(-1)\n",
    "# delta = 0.5\n",
    "# k_cluster = 10\n",
    "# m = 500\n",
    "# r = 0.95\n",
    "# theta = np.pi/4\n",
    "# k_max = 500\n",
    "# dim = 3\n",
    "\n",
    "# def objective_function(x):\n",
    "#     f1 = x[0]*x[1]-(x[0]-2*x[2])*(x[1]-2*x[2])-165\n",
    "#     f2 = (x[0]*x[1]**3)/12-((x[0]-2*x[2])*(x[1]-2*x[2])**3)/12-9369\n",
    "#     f3 = (2*(x[1]-x[2])**2*(x[0]-x[2])**2*x[2])/(x[1]+x[0]-2*x[2])-6835\n",
    "#     f_list = [f1,f2,f3]\n",
    "#     denom = 1\n",
    "#     for f in f_list:\n",
    "#         denom +=np.abs(f)\n",
    "#     F = 1/denom\n",
    "#     return F\n",
    "\n",
    "# boundaries = np.array([(-40,40) for _ in range (dim)])"
   ]
  },
  {
   "cell_type": "markdown",
   "metadata": {},
   "source": [
    "Problem 5"
   ]
  },
  {
   "cell_type": "code",
   "execution_count": 22,
   "metadata": {},
   "outputs": [],
   "source": [
    "# m_cluster = 3000\n",
    "# gamma = 0.1\n",
    "# epsilon = 5*10**(-2.5)\n",
    "# delta = 0.01\n",
    "# k_cluster = 10\n",
    "# m = 200\n",
    "# r = 0.95\n",
    "# theta = np.pi/4\n",
    "# k_max = 200\n",
    "# dim = 5\n",
    "\n",
    "# def objective_function(x):\n",
    "#     f1 = 2*x[0]+x[1]+x[2]+x[3]+x[4]-6\n",
    "#     f2 = x[0]+2*x[1]+x[2]+x[3]+x[4]-6\n",
    "#     f3 = x[0]+x[1]+2*x[2]+x[3]+x[4]-6\n",
    "#     f4 = x[0]+x[1]+x[2]+2*x[3]+x[4]-6\n",
    "#     f5 = x[0]*x[1]*x[2]*x[3]*x[4]-1\n",
    "#     f_list = [f1,f2,f3,f4,f5]\n",
    "#     denom = 0\n",
    "#     for f in f_list:\n",
    "#         denom +=np.abs(f)\n",
    "#     F = 1/(1+denom)\n",
    "#     return F\n",
    "\n",
    "# boundaries = np.array([(-10,10) for _ in range (dim)])"
   ]
  },
  {
   "cell_type": "markdown",
   "metadata": {},
   "source": [
    "Supercritical Pitchfork Bifurcation"
   ]
  },
  {
   "cell_type": "code",
   "execution_count": 23,
   "metadata": {},
   "outputs": [],
   "source": [
    "# m_cluster = 300\n",
    "# gamma = 0.1\n",
    "# epsilon = 5*10**(-3)\n",
    "# delta = 0.01\n",
    "# k_cluster = 10\n",
    "# m = 200\n",
    "# r = 0.95\n",
    "# theta = np.pi/4\n",
    "# k_max = 200\n",
    "# dim=1\n",
    "# boundaries = np.array([(-9,9) for _ in range (1)])\n",
    "# d_list = np.linspace(boundaries[0][0],boundaries[0][1],31)\n",
    "# def objective_function(x):\n",
    "#     f = d_list[-1]*x-x**3\n",
    "#     f_list = [f]\n",
    "#     denom = 1\n",
    "#     for f in f_list:\n",
    "#         denom +=np.abs(f)\n",
    "#     F = 1/denom\n",
    "#     return F\n",
    "# # rsp.root_SpiralOpt(objective_function,m_cluster,gamma,epsilon,delta,k_cluster,m,r,theta,k_max,dim)"
   ]
  },
  {
   "cell_type": "markdown",
   "metadata": {},
   "source": [
    "# Objective Function"
   ]
  },
  {
   "cell_type": "code",
   "execution_count": 24,
   "metadata": {},
   "outputs": [],
   "source": [
    "def root_objective_function(x:np.ndarray):\n",
    "    res = 0\n",
    "    F_array = objective_function(x)\n",
    "    for f in F_array:\n",
    "        res += np.abs(f)\n",
    "    return -1/(1+res)"
   ]
  },
  {
   "cell_type": "markdown",
   "metadata": {},
   "source": [
    "Step 1"
   ]
  },
  {
   "cell_type": "code",
   "execution_count": 25,
   "metadata": {},
   "outputs": [],
   "source": [
    "\"\"\"GENERATE POINTS USING SOBOL SEQUENCE\"\"\"\n",
    "def generate_points(dim,npoint,low=-10,high=10):\n",
    "    if type(low) != type(high):\n",
    "        raise TypeError('The type of \"low\" and \"high\" should be the same.')\n",
    "    if type(low) == int:\n",
    "        boundaries = [(low,high) for _ in range (dim)]\n",
    "    elif type(low) == list or type(low) == np.ndarray:\n",
    "        if len(low) != len(high):\n",
    "            raise TypeError('The length of \"low\" and \"high\" should be the same.')\n",
    "        else:\n",
    "            boundaries = [(low[i],high[i]) for i in range (len(low))]\n",
    "\n",
    "    # Generate Sobol sequence points\n",
    "    sobol_points = sobol_seq.i4_sobol_generate(dim, npoint)\n",
    "\n",
    "    # Scale the Sobol points to fit within the specified boundaries\n",
    "    scaled_points = []\n",
    "    for i in range(dim):\n",
    "        a, b = boundaries[i]\n",
    "        scaled_dim = a + sobol_points[:, i] * (b - a)\n",
    "        scaled_points.append(scaled_dim)\n",
    "\n",
    "    # Transpose the scaled points to get points per dimension\n",
    "    scaled_points = np.array(list(map(list, zip(*scaled_points))))\n",
    "    return scaled_points\n",
    "\n"
   ]
  },
  {
   "cell_type": "markdown",
   "metadata": {},
   "source": [
    "Step 2-3"
   ]
  },
  {
   "cell_type": "code",
   "execution_count": 26,
   "metadata": {},
   "outputs": [],
   "source": [
    "k=0\n",
    "iter_points = {}\n",
    "iter_points[k] = generate_points(dim,m_cluster,boundaries[:,0],boundaries[:,1])\n",
    "fitness = np.asarray([root_objective_function(ind) for ind in iter_points[0]])\n",
    "best_idx = np.argmin(fitness)\n",
    "x_prime = iter_points[0][best_idx]"
   ]
  },
  {
   "cell_type": "markdown",
   "metadata": {},
   "source": [
    "Step 4"
   ]
  },
  {
   "cell_type": "code",
   "execution_count": 27,
   "metadata": {},
   "outputs": [
    {
     "data": {
      "text/plain": [
       "10.0"
      ]
     },
     "execution_count": 27,
     "metadata": {},
     "output_type": "execute_result"
    }
   ],
   "source": [
    "min_boundaries = 10**100\n",
    "for i in range (len(boundaries)):\n",
    "    abs_disc = np.abs(boundaries[i,1]-boundaries[i,0])\n",
    "    if abs_disc<=min_boundaries:\n",
    "        min_boundaries = abs_disc\n",
    "radius = min_boundaries/2\n",
    "radius"
   ]
  },
  {
   "cell_type": "code",
   "execution_count": 28,
   "metadata": {},
   "outputs": [
    {
     "name": "stdout",
     "output_type": "stream",
     "text": [
      "{0: array([-1.25,  1.25])} {0: 10.0}\n"
     ]
    }
   ],
   "source": [
    "k = 0\n",
    "cluster_center,cluster_radius = {},{}\n",
    "cluster_center[0],cluster_radius[0] = x_prime,radius\n",
    "print(cluster_center,cluster_radius)"
   ]
  },
  {
   "cell_type": "code",
   "execution_count": 29,
   "metadata": {},
   "outputs": [],
   "source": [
    "# potential_cluster_center = []\n",
    "# F = objective_function(iter_points[0].T)\n",
    "# for i in range (m_cluster):\n",
    "#     if F[i] > gamma:\n",
    "#         potential_cluster_center.append(iter_points[0][i])\n",
    "# len(potential_cluster_center)"
   ]
  },
  {
   "cell_type": "markdown",
   "metadata": {},
   "source": [
    "Step 5-8"
   ]
  },
  {
   "cell_type": "code",
   "execution_count": 30,
   "metadata": {},
   "outputs": [],
   "source": [
    "\"\"\"FUNCTION CLUSTER\"\"\"\n",
    "def function_cluster(y,lendict):\n",
    "    min_dist_cluster = 10**100\n",
    "    for ci,cc in cluster_center.items():\n",
    "        dist = np.linalg.norm(cc-y)\n",
    "        if dist<=min_dist_cluster:\n",
    "            xc = cc\n",
    "            cluster_id = ci\n",
    "            min_dist_cluster = dist\n",
    "    xt = (xc + y)/2\n",
    "    # print(xt,xc,y)\n",
    "    Fxt = root_objective_function(xt)\n",
    "    Fxc = root_objective_function(xc)\n",
    "    Fy = root_objective_function(y)\n",
    "    # print(Fxt,Fxc,Fy)\n",
    "    if (Fxt > Fy) & (Fxt > Fxc):\n",
    "        cluster_center[lendict] = y\n",
    "        cluster_radius[lendict] = np.linalg.norm(y-xt)\n",
    "    elif (Fxt < Fy) & (Fxt < Fxc):\n",
    "        cluster_center[lendict] = y\n",
    "        cluster_radius[lendict] = np.linalg.norm(y-xt)\n",
    "        function_cluster(xt,lendict+1)\n",
    "    elif Fy < Fxc:\n",
    "        cluster_center[cluster_id] = y\n",
    "\n",
    "    cluster_radius[cluster_id] =  np.linalg.norm(y-xt)\n",
    "    # return cluster_center,cluster_radius\n"
   ]
  },
  {
   "cell_type": "code",
   "execution_count": 31,
   "metadata": {},
   "outputs": [],
   "source": [
    "# for i in range (len(potential_cluster_center)):\n",
    "#     print(f'Titik ke-{i}')\n",
    "#     lendict = len(list(cluster_center.keys()))\n",
    "#     function_cluster(potential_cluster_center[i],lendict)\n",
    "#     print(cluster_center,cluster_radius)\n",
    "#     print('')"
   ]
  },
  {
   "cell_type": "code",
   "execution_count": 32,
   "metadata": {},
   "outputs": [
    {
     "data": {
      "text/plain": [
       "({0: array([-0.96365015,  1.02728345]),\n",
       "  1: array([0.86523438, 0.54492187]),\n",
       "  2: array([-3.01269531, -0.08964844]),\n",
       "  3: array([-0.3125,  6.5625]),\n",
       "  4: array([0.16601563, 5.29101562]),\n",
       "  5: array([-0.0390625,  5.8359375]),\n",
       "  6: array([0.09765625, 5.47265625]),\n",
       "  7: array([-1.51792969,  0.44621094]),\n",
       "  8: array([0.0859375, 2.8828125]),\n",
       "  9: array([0.51269531, 0.89746094]),\n",
       "  10: array([-0.61366699,  1.28349121]),\n",
       "  11: array([-0.85229187,  1.17045837]),\n",
       "  12: array([-0.70911694,  1.28181665])},\n",
       " {0: 0.17701044418179998,\n",
       "  1: 0.2492827617268981,\n",
       "  2: 0.09971310469075942,\n",
       "  3: 0.7763125226431034,\n",
       "  4: 1.072357229409034,\n",
       "  5: 0.38815626132155207,\n",
       "  6: 0.19407813066077603,\n",
       "  7: 0.23991038626297664,\n",
       "  8: 0.5210318138454922,\n",
       "  9: 0.3046073167393335,\n",
       "  10: 0.13562906710947328,\n",
       "  11: 0.17257785158930236,\n",
       "  12: 0.19123103858974683})"
      ]
     },
     "execution_count": 32,
     "metadata": {},
     "output_type": "execute_result"
    }
   ],
   "source": [
    "import spiralopt as spo\n",
    "\n",
    "Sn = r*spo.generate_Rn(dim,theta=theta)\n",
    "\n",
    "while k<k_cluster:\n",
    "    potential_cluster_center = []\n",
    "    F = root_objective_function(iter_points[k].T)\n",
    "    # print(F)\n",
    "    for i in range (m_cluster):\n",
    "        if len(iter_points[k].T) == 1:\n",
    "            fungam = F[0][i]\n",
    "        else:\n",
    "            fungam = F[i]\n",
    "        exist_in_cluster_center = any(np.linalg.norm(iter_points[k][i] - ctr) < epsilon for ctr in cluster_center[k])\n",
    "        # If F(x_i)<gamma and x_i is not the center of existing cluster, x_i may have a possibility to become a cluster center\n",
    "        if (fungam < gamma) & (exist_in_cluster_center==False):\n",
    "            potential_cluster_center.append(iter_points[k][i])\n",
    "    for i in range (len(potential_cluster_center)):\n",
    "        lendict = len(list(cluster_center.keys()))\n",
    "        function_cluster(potential_cluster_center[i],lendict)\n",
    "    fitness_k = np.asarray([root_objective_function(ind) for ind in iter_points[k]])\n",
    "    i_g = np.argmin(fitness)\n",
    "    x_i_g = iter_points[k][best_idx]\n",
    "    iter_points[k+1] = np.copy(iter_points[k])\n",
    "    for i in range (len(iter_points[k+1])):\n",
    "        poin = np.dot(Sn,iter_points[k][i].reshape(-1,1)) - np.dot((Sn-np.identity(dim)),x_i_g.reshape(-1,1))\n",
    "        iter_points[k+1][i] = poin.T\n",
    "    k+=1\n",
    "cluster_center,cluster_radius"
   ]
  },
  {
   "cell_type": "code",
   "execution_count": 33,
   "metadata": {},
   "outputs": [
    {
     "data": {
      "image/png": "[encoded data removed]",
      "text/plain": [
       "<Figure size 640x480 with 1 Axes>"
      ]
     },
     "metadata": {},
     "output_type": "display_data"
    }
   ],
   "source": [
    "if dim != 2:\n",
    "    print(f\"Dimension {dim} can be visualized using cluster_visualization2D.\")\n",
    "\"\"\"Visualization\"\"\"\n",
    "fig, ax = plt.subplots()\n",
    "for center,radius in zip(cluster_center.values(),cluster_radius.values()):\n",
    "    circle = plt.Circle(center, radius, fill=False, linestyle='dotted', edgecolor='b')\n",
    "    ax.add_artist(circle)\n",
    "\n",
    "# Set axis limits\n",
    "ax.set_xlim(boundaries[0])\n",
    "ax.set_ylim(boundaries[1])\n",
    "# ax.autoscale_view()\n",
    "\n",
    "# # Add labels (optional)\n",
    "# for i, center in cluster_center.items():\n",
    "#     ax.text(center[0], center[1], f'Cluster {i+1}', ha='center', va='bottom')\n",
    "\n",
    "# Add a title and labels (optional)\n",
    "ax.set_title('Cluster Visualization')\n",
    "ax.set_xlabel('X-axis')\n",
    "ax.set_ylabel('Y-axis')\n",
    "\n",
    "# Show the plot\n",
    "plt.gca().set_aspect('equal', adjustable='box')  # Make the aspect ratio equal\n",
    "plt.grid(True)\n",
    "plt.show()"
   ]
  },
  {
   "cell_type": "markdown",
   "metadata": {},
   "source": [
    "# STOP DISINI"
   ]
  },
  {
   "cell_type": "code",
   "execution_count": 34,
   "metadata": {},
   "outputs": [],
   "source": [
    "def cluster_boundaries(center_point,radius):\n",
    "    return np.array([[center_point[i]-radius,center_point[i]+radius]for i in range (len(center_point))])"
   ]
  },
  {
   "cell_type": "code",
   "execution_count": 35,
   "metadata": {},
   "outputs": [
    {
     "ename": "ValueError",
     "evalue": "The truth value of an array with more than one element is ambiguous. Use a.any() or a.all()",
     "output_type": "error",
     "traceback": [
      "\u001b[1;31m---------------------------------------------------------------------------\u001b[0m",
      "\u001b[1;31mValueError\u001b[0m                                Traceback (most recent call last)",
      "Cell \u001b[1;32mIn[35], line 7\u001b[0m\n\u001b[0;32m      5\u001b[0m lp \u001b[38;5;241m=\u001b[39m bound[:,\u001b[38;5;241m0\u001b[39m]\n\u001b[0;32m      6\u001b[0m hp \u001b[38;5;241m=\u001b[39m bound[:,\u001b[38;5;241m1\u001b[39m]\n\u001b[1;32m----> 7\u001b[0m root,value \u001b[38;5;241m=\u001b[39m \u001b[43mspo\u001b[49m\u001b[38;5;241;43m.\u001b[39;49m\u001b[43mSpiralOpt\u001b[49m\u001b[43m(\u001b[49m\u001b[43mlp\u001b[49m\u001b[43m,\u001b[49m\u001b[43mhp\u001b[49m\u001b[43m,\u001b[49m\u001b[43mobjective_function\u001b[49m\u001b[43m,\u001b[49m\u001b[43mdim\u001b[49m\u001b[38;5;241;43m=\u001b[39;49m\u001b[43mdim\u001b[49m\u001b[43m,\u001b[49m\u001b[43mnpoint\u001b[49m\u001b[38;5;241;43m=\u001b[39;49m\u001b[43mm\u001b[49m\u001b[43m,\u001b[49m\u001b[43mr\u001b[49m\u001b[43m \u001b[49m\u001b[38;5;241;43m=\u001b[39;49m\u001b[43m \u001b[49m\u001b[43mr\u001b[49m\u001b[43m,\u001b[49m\u001b[43mtheta\u001b[49m\u001b[38;5;241;43m=\u001b[39;49m\u001b[43mtheta\u001b[49m\u001b[43m,\u001b[49m\u001b[43m \u001b[49m\u001b[43miter_max\u001b[49m\u001b[38;5;241;43m=\u001b[39;49m\u001b[43mk_max\u001b[49m\u001b[43m,\u001b[49m\u001b[43m \u001b[49m\u001b[43merror_max\u001b[49m\u001b[43m \u001b[49m\u001b[38;5;241;43m=\u001b[39;49m\u001b[43m \u001b[49m\u001b[38;5;241;43m10\u001b[39;49m\u001b[38;5;241;43m*\u001b[39;49m\u001b[38;5;241;43m*\u001b[39;49m\u001b[43m(\u001b[49m\u001b[38;5;241;43m-\u001b[39;49m\u001b[38;5;241;43m5\u001b[39;49m\u001b[43m)\u001b[49m\u001b[43m,\u001b[49m\u001b[43mrandom\u001b[49m\u001b[38;5;241;43m=\u001b[39;49m\u001b[38;5;241;43m0\u001b[39;49m\u001b[43m,\u001b[49m\u001b[43m \u001b[49m\u001b[43mshow_err\u001b[49m\u001b[38;5;241;43m=\u001b[39;49m\u001b[38;5;28;43;01mFalse\u001b[39;49;00m\u001b[43m,\u001b[49m\u001b[43m \u001b[49m\u001b[43mshow_objective_function\u001b[49m\u001b[38;5;241;43m=\u001b[39;49m\u001b[38;5;28;43;01mFalse\u001b[39;49;00m\u001b[43m)\u001b[49m\n\u001b[0;32m      8\u001b[0m roots\u001b[38;5;241m.\u001b[39mappend(root)\n\u001b[0;32m      9\u001b[0m roots_values\u001b[38;5;241m.\u001b[39mappend(value)\n",
      "File \u001b[1;32md:\\OneDrive - Institut Teknologi Bandung\\[AKADEMIK]\\Semester 7-8\\TA\\Thesis\\Spiral Optimization\\spiralopt.py:119\u001b[0m, in \u001b[0;36mSpiralOpt\u001b[1;34m(low_point, high_point, objective_function, dim, npoint, r, theta, iter_max, error_max, random, show_err, show_objective_function)\u001b[0m\n\u001b[0;32m    117\u001b[0m Sn \u001b[38;5;241m=\u001b[39m r\u001b[38;5;241m*\u001b[39mRn\n\u001b[0;32m    118\u001b[0m \u001b[38;5;28;01mwhile\u001b[39;00m \u001b[38;5;28miter\u001b[39m \u001b[38;5;241m<\u001b[39m\u001b[38;5;241m=\u001b[39m iter_max :\n\u001b[1;32m--> 119\u001b[0m     iter_points[\u001b[38;5;28miter\u001b[39m\u001b[38;5;241m+\u001b[39m\u001b[38;5;241m1\u001b[39m] \u001b[38;5;241m=\u001b[39m \u001b[43mupdate_point\u001b[49m\u001b[43m(\u001b[49m\u001b[43miter_points\u001b[49m\u001b[43m[\u001b[49m\u001b[38;5;28;43miter\u001b[39;49m\u001b[43m]\u001b[49m\u001b[43m,\u001b[49m\u001b[43mSn\u001b[49m\u001b[43m,\u001b[49m\u001b[43mdim\u001b[49m\u001b[43m,\u001b[49m\u001b[43mobjective_function\u001b[49m\u001b[43m)\u001b[49m\n\u001b[0;32m    120\u001b[0m     error \u001b[38;5;241m=\u001b[39m iter_error(iter_points,\u001b[38;5;28miter\u001b[39m\u001b[38;5;241m+\u001b[39m\u001b[38;5;241m1\u001b[39m,npoint)\n\u001b[0;32m    121\u001b[0m     \u001b[38;5;28;01mif\u001b[39;00m error \u001b[38;5;241m<\u001b[39m error_max:\n",
      "File \u001b[1;32md:\\OneDrive - Institut Teknologi Bandung\\[AKADEMIK]\\Semester 7-8\\TA\\Thesis\\Spiral Optimization\\spiralopt.py:84\u001b[0m, in \u001b[0;36mupdate_point\u001b[1;34m(set_of_points, Sn, dim, objective_function)\u001b[0m\n\u001b[0;32m     83\u001b[0m \u001b[38;5;28;01mdef\u001b[39;00m \u001b[38;5;21mupdate_point\u001b[39m(set_of_points,Sn,dim,objective_function):\n\u001b[1;32m---> 84\u001b[0m     (z_star,idx_star,x_star) \u001b[38;5;241m=\u001b[39m \u001b[43mmaximize\u001b[49m\u001b[43m(\u001b[49m\u001b[43mset_of_points\u001b[49m\u001b[43m,\u001b[49m\u001b[43mobjective_function\u001b[49m\u001b[43m)\u001b[49m\n\u001b[0;32m     85\u001b[0m     new_set_of_points \u001b[38;5;241m=\u001b[39m np\u001b[38;5;241m.\u001b[39mcopy(set_of_points)\n\u001b[0;32m     86\u001b[0m     \u001b[38;5;28;01mfor\u001b[39;00m i \u001b[38;5;129;01min\u001b[39;00m \u001b[38;5;28mrange\u001b[39m (\u001b[38;5;28mlen\u001b[39m(new_set_of_points)):\n\u001b[0;32m     87\u001b[0m         \u001b[38;5;66;03m# perkalian matriks\u001b[39;00m\n",
      "File \u001b[1;32md:\\OneDrive - Institut Teknologi Bandung\\[AKADEMIK]\\Semester 7-8\\TA\\Thesis\\Spiral Optimization\\spiralopt.py:77\u001b[0m, in \u001b[0;36mmaximize\u001b[1;34m(set_of_points, objective_function)\u001b[0m\n\u001b[0;32m     75\u001b[0m \u001b[38;5;28;01melse\u001b[39;00m:\n\u001b[0;32m     76\u001b[0m     z\u001b[38;5;241m.\u001b[39mappend(objective_function(set_of_points\u001b[38;5;241m.\u001b[39mT)[i])\n\u001b[1;32m---> 77\u001b[0m     \u001b[38;5;28;01mif\u001b[39;00m \u001b[43mz\u001b[49m\u001b[43m[\u001b[49m\u001b[43mi\u001b[49m\u001b[43m]\u001b[49m\u001b[38;5;241;43m>\u001b[39;49m\u001b[43mz_max\u001b[49m:\n\u001b[0;32m     78\u001b[0m         z_max \u001b[38;5;241m=\u001b[39m z[i]\n\u001b[0;32m     79\u001b[0m         idx_max \u001b[38;5;241m=\u001b[39m i\n",
      "\u001b[1;31mValueError\u001b[0m: The truth value of an array with more than one element is ambiguous. Use a.any() or a.all()"
     ]
    }
   ],
   "source": [
    "roots = []\n",
    "roots_values = []\n",
    "for i in range (len(cluster_center)):\n",
    "    bound = cluster_boundaries(cluster_center[i],cluster_radius[i])\n",
    "    lp = bound[:,0]\n",
    "    hp = bound[:,1]\n",
    "    root,value = spo.SpiralOpt(lp,hp,objective_function,dim=dim,npoint=m,r = r,theta=theta, iter_max=k_max, error_max = 10**(-5),random=0, show_err=False, show_objective_function=False)\n",
    "    roots.append(root)\n",
    "    roots_values.append(value)\n",
    "roots,roots_values"
   ]
  },
  {
   "cell_type": "code",
   "execution_count": null,
   "metadata": {},
   "outputs": [
    {
     "data": {
      "text/plain": [
       "array([[-0.15528539,  6.43983207],\n",
       "       [ 0.16332707,  6.12242734],\n",
       "       [ 0.66711628,  0.69010219],\n",
       "       [ 0.66680463,  0.69001708]])"
      ]
     },
     "execution_count": 40,
     "metadata": {},
     "output_type": "execute_result"
    }
   ],
   "source": [
    "if dim == 1:\n",
    "    list_criteria = [element for sublist in roots for element in sublist] #convert from 2D array into 1D array\n",
    "else:\n",
    "    list_criteria = roots\n",
    "eligible_roots = np.array([x for x in list_criteria if (1-objective_function(x))<epsilon])\n",
    "eligible_roots"
   ]
  },
  {
   "cell_type": "code",
   "execution_count": null,
   "metadata": {},
   "outputs": [
    {
     "data": {
      "text/plain": [
       "array([[-0.15528539,  6.43983207],\n",
       "       [ 0.16332707,  6.12242734],\n",
       "       [ 0.66711628,  0.69010219]])"
      ]
     },
     "execution_count": 41,
     "metadata": {},
     "output_type": "execute_result"
    }
   ],
   "source": [
    "duplicated_roots = []\n",
    "for i in range(len(eligible_roots)):\n",
    "    for j in range (i+1,len(eligible_roots)):\n",
    "        if np.linalg.norm(eligible_roots[i]-eligible_roots[j])<delta:\n",
    "            duplicated_roots.append([eligible_roots[i],eligible_roots[j]])\n",
    "duplicated_roots = np.unique(duplicated_roots,axis=0)\n",
    "# print(duplicated_roots)\n",
    "deselected_duplicated_roots = []\n",
    "for i in range (len(duplicated_roots)):\n",
    "    root_a = objective_function(duplicated_roots[i][0])\n",
    "    root_b = objective_function(duplicated_roots[i][1])\n",
    "    if dim == 1:\n",
    "        if root_a>root_b:\n",
    "            duplicated_root = duplicated_roots[i][1]\n",
    "        else:\n",
    "            duplicated_root = duplicated_roots[i][0]\n",
    "    else:\n",
    "        if root_a>root_b:\n",
    "            duplicated_root = list(duplicated_roots[i][1])\n",
    "        else:\n",
    "            duplicated_root = list(duplicated_roots[i][0])\n",
    "    deselected_duplicated_roots.append(duplicated_root)\n",
    "# print(deselected_duplicated_roots)\n",
    "if dim == 1:\n",
    "    # Reshape the 1D array to have one column\n",
    "    deselected_duplicated_roots = np.array(deselected_duplicated_roots).reshape(-1, 1)\n",
    "\n",
    "    # Compare the 2D array with the reshaped 1D array\n",
    "    exclude_condition = np.all(eligible_roots != deselected_duplicated_roots, axis=0)\n",
    "\n",
    "    # Use the boolean mask to filter eligible_roots\n",
    "    final_root = eligible_roots[exclude_condition]\n",
    "else:\n",
    "    if deselected_duplicated_roots:\n",
    "        exclude_condition = np.all(eligible_roots != np.array(deselected_duplicated_roots)[:, np.newaxis], axis=2).all(axis=0)\n",
    "        final_root = eligible_roots[exclude_condition]\n",
    "    else:\n",
    "        final_root = eligible_roots\n",
    "\n",
    "final_root"
   ]
  },
  {
   "cell_type": "code",
   "execution_count": null,
   "metadata": {},
   "outputs": [
    {
     "data": {
      "image/png": "[encoded data removed]",
      "text/plain": [
       "<Figure size 640x480 with 1 Axes>"
      ]
     },
     "metadata": {},
     "output_type": "display_data"
    }
   ],
   "source": [
    "\"\"\"Visualization\"\"\"\n",
    "fig, ax = plt.subplots()\n",
    "for center,radius in zip(cluster_center.values(),cluster_radius.values()):\n",
    "    circle = plt.Circle(center, radius, fill=False, linestyle='dotted', edgecolor='b')\n",
    "    ax.add_artist(circle)\n",
    "\n",
    "# Set axis limits\n",
    "ax.set_xlim(boundaries[0])\n",
    "ax.set_ylim(boundaries[1])\n",
    "# ax.autoscale_view()\n",
    "\n",
    "# # Add labels (optional)\n",
    "# for i, center in cluster_center.items():\n",
    "#     ax.text(center[0], center[1], f'Cluster {i+1}', ha='center', va='bottom')\n",
    "\n",
    "# Add a title and labels (optional)\n",
    "ax.set_title('Cluster Visualization')\n",
    "ax.set_xlabel('X-axis')\n",
    "ax.set_ylabel('Y-axis')\n",
    "\n",
    "# Show the plot\n",
    "plt.gca().set_aspect('equal', adjustable='box')  # Make the aspect ratio equal\n",
    "plt.grid(True)\n",
    "plt.show()\n"
   ]
  }
 ],
 "metadata": {
  "kernelspec": {
   "display_name": ".venv",
   "language": "python",
   "name": "python3"
  },
  "language_info": {
   "codemirror_mode": {
    "name": "ipython",
    "version": 3
   },
   "file_extension": ".py",
   "mimetype": "text/x-python",
   "name": "python",
   "nbconvert_exporter": "python",
   "pygments_lexer": "ipython3",
   "version": "3.8.8"
  }
 },
 "nbformat": 4,
 "nbformat_minor": 2
}
