{
 "cells": [
  {
   "cell_type": "code",
   "execution_count": 2,
   "metadata": {},
   "outputs": [],
   "source": [
    "import numpy as np\n",
    "from scipy.stats import qmc\n",
    "import matplotlib.pyplot as plt"
   ]
  },
  {
   "cell_type": "code",
   "execution_count": 3,
   "metadata": {},
   "outputs": [],
   "source": [
    "# atur parameter\n",
    "theta = np.pi/4\n",
    "r = 0.95\n",
    "\n",
    "error_max = 10^(-5)\n",
    "\n",
    "npoint = 20\n",
    "dim = 3\n",
    "\n",
    "iter_max = 100\n",
    "\n",
    "boundaries = np.array([(-10,10) for _ in range (dim)])\n",
    "\n",
    "def objective_function(x): # x:tuple n-dimension\n",
    "    f = 0\n",
    "    \"\"\"Schwefel\"\"\"\n",
    "    for i in range (len(x)):\n",
    "        sum_sq = 0\n",
    "        for j in range (i+1):\n",
    "            sum_sq += x[j]\n",
    "        f += sum_sq**2 \n",
    "    \"\"\"2^n Minima\"\"\"\n",
    "    # for i in range (len(x)):\n",
    "    #     f += (x[i]**4-16*x[i]**2+5*x[i])\n",
    "    \"\"\"Rastrigin\"\"\"\n",
    "    # for i in range (len(x)):\n",
    "    #     f += (x[i]**2-10*np.cos(2*np.pi*x[i])+10)\n",
    "\n",
    "    return f"
   ]
  },
  {
   "cell_type": "code",
   "execution_count": 4,
   "metadata": {},
   "outputs": [],
   "source": [
    "\"\"\"GENERATE POINTS USING SOBOL SEQUENCE\"\"\"\n",
    "def generate_points(dim: int, npoint: int, low=-10, high=10, sobol=True, seed=None):\n",
    "  \"\"\"\n",
    "  Generates points within the specified bounds.\n",
    "\n",
    "  Args:\n",
    "      dim: Number of dimensions.\n",
    "      npoint: Number of points to generate.\n",
    "      low: Lower bound for each variable (scalar or list/numpy array).\n",
    "      high: Upper bound for each variable (scalar or list/numpy array).\n",
    "      sobol: Flag indicating whether to use Sobol sequence (True) or random sampling (False).\n",
    "\n",
    "  Returns:\n",
    "      A numpy array of size (npoint, dim) representing the generated points.\n",
    "  \"\"\"\n",
    "\n",
    "  if type(low) != type(high):\n",
    "    raise TypeError('The type of \"low\" and \"high\" should be the same.')\n",
    "\n",
    "  # Handle boundaries\n",
    "  if type(low) == int:\n",
    "    boundaries = [(low, high) for _ in range(dim)]\n",
    "  elif type(low) in (list, np.ndarray):\n",
    "    if len(low) != len(high):\n",
    "      raise TypeError('The length of \"low\" and \"high\" should be the same.')\n",
    "    else:\n",
    "      boundaries = [(low[i], high[i]) for i in range(len(low))]\n",
    "\n",
    "  # Generate points based on the sobol flag\n",
    "  if sobol:\n",
    "     sampler = qmc.Sobol(d=dim,scramble=True,seed=seed)\n",
    "     sample = sampler.random(n=npoint)\n",
    "     scaled_points = qmc.scale(sample=sample,l_bounds=low,u_bounds=high)\n",
    "\n",
    "  else:\n",
    "    # Generate random points\n",
    "    np.random.seed(seed)\n",
    "    scaled_points = np.zeros((npoint, dim))\n",
    "    for i in range(dim):\n",
    "      min_val, max_val = boundaries[i]\n",
    "      scaled_points[:, i] = np.random.uniform(min_val, max_val, npoint)\n",
    "\n",
    "  return scaled_points\n",
    "\n",
    "def generate_Rij(i,j,dim,theta):\n",
    "    Rn_ij= np.eye(dim)\n",
    "    Rn_ij[i-1,i-1] = np.cos(theta)\n",
    "    Rn_ij[i-1,j-1] = -np.sin(theta)\n",
    "    Rn_ij[j-1,i-1] = np.sin(theta)\n",
    "    Rn_ij[j-1,j-1] = np.cos(theta)\n",
    "    return Rn_ij\n",
    "\n",
    "def generate_Rn(dim,theta):\n",
    "    Rn = np.eye(dim)\n",
    "    for i in range(0,dim):\n",
    "        for j in range (0,i+1):\n",
    "            product = np.eye(dim)\n",
    "            product *= generate_Rij(dim-i-1,dim+1-j-1,dim,theta)\n",
    "        Rn *= product\n",
    "    return Rn"
   ]
  },
  {
   "cell_type": "code",
   "execution_count": 5,
   "metadata": {},
   "outputs": [],
   "source": [
    "def update_point(set_of_points,objective_function,Sn):\n",
    "    fitness = np.asarray([objective_function(ind) for ind in set_of_points])\n",
    "    i_g = np.argmin(fitness)\n",
    "    x_i_g = set_of_points[i_g]\n",
    "\n",
    "    new_set_of_points = np.copy(set_of_points)\n",
    "    dim = set_of_points.shape[1]\n",
    "\n",
    "    for i in range(len(new_set_of_points)):\n",
    "        poin = np.dot(Sn,set_of_points[i].reshape(-1,1)) - np.dot((Sn-np.identity(dim)),x_i_g.reshape(-1,1))\n",
    "        new_set_of_points[i] = poin.T\n",
    "    return new_set_of_points\n"
   ]
  },
  {
   "cell_type": "code",
   "execution_count": 6,
   "metadata": {},
   "outputs": [],
   "source": [
    "def iter_error(old_set_of_points,new_set_of_points):\n",
    "    err = 0\n",
    "    for i in range (old_set_of_points.shape[0]):\n",
    "        diff = np.abs(np.linalg.norm(old_set_of_points[i]) - np.linalg.norm(new_set_of_points[i]))\n",
    "        if diff>err:\n",
    "            err = diff\n",
    "    return err"
   ]
  },
  {
   "cell_type": "code",
   "execution_count": 7,
   "metadata": {},
   "outputs": [
    {
     "name": "stderr",
     "output_type": "stream",
     "text": [
      "c:\\Users\\ACER\\AppData\\Local\\Programs\\Python\\Python38\\lib\\site-packages\\scipy\\stats\\_qmc.py:763: UserWarning: The balance properties of Sobol' points require n to be a power of 2.\n",
      "  sample = self._random(n, workers=workers)\n"
     ]
    },
    {
     "data": {
      "text/plain": [
       "[-0.39759781610014533, 1.6052608349420978, -1.9212348477558554]"
      ]
     },
     "execution_count": 7,
     "metadata": {},
     "output_type": "execute_result"
    }
   ],
   "source": [
    "Rn = generate_Rn(dim,theta)\n",
    "Sn = r*Rn\n",
    "iter = 0\n",
    "iter_points = {}\n",
    "iter_points[iter] = generate_points(dim,10,[-10,-10,-10],[10,10,10],sobol=True)\n",
    "while iter <= iter_max :\n",
    "    iter_points[iter+1] = update_point(iter_points[iter],objective_function,Sn)\n",
    "    error = iter_error(iter_points[iter],iter_points[iter+1])\n",
    "    if error < error_max:\n",
    "        break\n",
    "    iter += 1\n",
    "\n",
    "return_points = [iter_points[iter][:,i].mean() for i in range(dim)]\n",
    "return_points"
   ]
  },
  {
   "cell_type": "code",
   "execution_count": 8,
   "metadata": {},
   "outputs": [
    {
     "data": {
      "text/plain": [
       "array([ 0.09339045, -0.2611575 ,  0.2610552 ])"
      ]
     },
     "execution_count": 8,
     "metadata": {},
     "output_type": "execute_result"
    }
   ],
   "source": [
    "def spiral_opt(objective_function,boundaries,theta,radius,max_iter,max_error):\n",
    "    dim = boundaries.shape[0]\n",
    "    Rn = generate_Rn(dim,theta)\n",
    "    Sn = radius*Rn\n",
    "    iter = 0\n",
    "    iter_points = {}\n",
    "    iter_points[iter] = generate_points(dim,10,boundaries[:,0],boundaries[:,1],sobol=True)\n",
    "    while iter <= max_iter :\n",
    "        iter_points[iter+1] = update_point(iter_points[iter],objective_function,Sn)\n",
    "        error = iter_error(iter_points[iter],iter_points[iter+1])\n",
    "        if error < max_error:\n",
    "            break\n",
    "        iter += 1\n",
    "\n",
    "    return_points = np.array([iter_points[iter][:,i].mean() for i in range(dim)])\n",
    "    return return_points\n",
    "\n",
    "spiral_opt(objective_function=objective_function,\n",
    "           boundaries=boundaries,\n",
    "           theta=theta,\n",
    "           radius=r,\n",
    "           max_iter=iter_max,\n",
    "           max_error=error_max)"
   ]
  },
  {
   "cell_type": "markdown",
   "metadata": {},
   "source": [
    "Auto"
   ]
  },
  {
   "cell_type": "code",
   "execution_count": 9,
   "metadata": {},
   "outputs": [
    {
     "data": {
      "text/plain": [
       "<module 'Spiropt' from 'd:\\\\OneDrive - Institut Teknologi Bandung\\\\[AKADEMIK]\\\\Semester 7-8\\\\TA\\\\Thesis\\\\Spiral Optimization\\\\new\\\\Spiropt.py'>"
      ]
     },
     "execution_count": 9,
     "metadata": {},
     "output_type": "execute_result"
    }
   ],
   "source": [
    "# import importlib.util\n",
    "# import re\n",
    "\n",
    "# spec = importlib.util.spec_from_file_location(\"SPO\", r\"D:\\OneDrive - Institut Teknologi Bandung\\[AKADEMIK]\\Semester 7-8\\TA\\Thesis\\Spiral Optimization\\new\\Spiropt.py\")\n",
    "# SPO = importlib.util.module_from_spec(spec)\n",
    "# spec.loader.exec_module(SPO)\n",
    "\n",
    "import Spiropt as SPO\n",
    "import importlib\n",
    "importlib.reload(SPO)"
   ]
  },
  {
   "cell_type": "code",
   "execution_count": 13,
   "metadata": {},
   "outputs": [
    {
     "data": {
      "text/plain": [
       "(array([ 0.02020572,  0.02487532, -0.10038607]), 0.005499218100389501)"
      ]
     },
     "execution_count": 13,
     "metadata": {},
     "output_type": "execute_result"
    }
   ],
   "source": [
    "SPO.spiral_opt(objective_function=objective_function,\n",
    "           boundaries=boundaries,\n",
    "           n_point=npoint,\n",
    "           theta=theta,\n",
    "           radius=r,\n",
    "           max_iter=iter_max,\n",
    "           max_error=error_max,\n",
    "           seed=0)"
   ]
  }
 ],
 "metadata": {
  "kernelspec": {
   "display_name": "Python 3",
   "language": "python",
   "name": "python3"
  },
  "language_info": {
   "codemirror_mode": {
    "name": "ipython",
    "version": 3
   },
   "file_extension": ".py",
   "mimetype": "text/x-python",
   "name": "python",
   "nbconvert_exporter": "python",
   "pygments_lexer": "ipython3",
   "version": "3.8.8"
  }
 },
 "nbformat": 4,
 "nbformat_minor": 2
}
