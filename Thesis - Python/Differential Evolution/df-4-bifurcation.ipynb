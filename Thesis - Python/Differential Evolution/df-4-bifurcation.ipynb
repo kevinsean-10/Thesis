{
 "cells": [
  {
   "cell_type": "code",
   "execution_count": 1,
   "metadata": {},
   "outputs": [],
   "source": [
    "import numpy as np\n",
    "from functools import partial\n",
    "import matplotlib.pyplot as plt\n",
    "import rdeal as rd"
   ]
  },
  {
   "cell_type": "markdown",
   "metadata": {},
   "source": [
    "**Saddle Note Bifurcation**"
   ]
  },
  {
   "cell_type": "code",
   "execution_count": 2,
   "metadata": {},
   "outputs": [],
   "source": [
    "# # X : (d,x)\n",
    "# def objective_function(X):\n",
    "#     f1 = X[0]+X[1]**2 #-2*x\n",
    "#     return np.array([f1])\n",
    "\n",
    "# boundaries = np.array([[-9,9],[-3,3]])\n",
    "# dim = 2\n",
    "# pop_size=500\n",
    "# max_gen=100\n",
    "# F_init=0.9\n",
    "# CR_init=0.8\n",
    "# num_l=20\n",
    "# theta=1e-3\n",
    "# tau_d=0.4\n",
    "# s_max=100\n",
    "# print_gen=True\n",
    "# Hm = 50"
   ]
  },
  {
   "cell_type": "markdown",
   "metadata": {},
   "source": [
    "**Transcritical Bifurcation**"
   ]
  },
  {
   "cell_type": "code",
   "execution_count": 3,
   "metadata": {},
   "outputs": [],
   "source": [
    "# # X : (d,x)\n",
    "# def objective_function(X):\n",
    "#     f1 = X[0]*X[1]+X[1]**2 #+2\n",
    "#     return np.array([f1])\n",
    "\n",
    "# boundaries = np.array([[-9,9],[-3,3]])\n",
    "# dim = 2\n",
    "# pop_size=500\n",
    "# max_gen=100\n",
    "# F_init=0.9\n",
    "# CR_init=0.8\n",
    "# num_l=20\n",
    "# theta=1e-3\n",
    "# tau_d=0.4\n",
    "# s_max=100\n",
    "# print_gen=True\n",
    "# Hm = 50"
   ]
  },
  {
   "cell_type": "markdown",
   "metadata": {},
   "source": [
    "**Supercritical Pitchfork Bifurcation**"
   ]
  },
  {
   "cell_type": "code",
   "execution_count": 4,
   "metadata": {},
   "outputs": [],
   "source": [
    "# X : (d,x)\n",
    "def objective_function(X):\n",
    "    f1 = X[0]*X[1]+X[1]**3 #+2\n",
    "    return np.array([f1])\n",
    "boundaries = np.array([[-9,9],[-3,3]])\n",
    "dim = 2\n",
    "pop_size=500\n",
    "max_gen=100\n",
    "F_init=0.9\n",
    "CR_init=0.8\n",
    "num_l=20\n",
    "theta=1e-3\n",
    "tau_d=0.4\n",
    "s_max=100\n",
    "print_gen=True\n",
    "Hm = 50"
   ]
  },
  {
   "cell_type": "markdown",
   "metadata": {},
   "source": [
    "# Objective Function"
   ]
  },
  {
   "cell_type": "code",
   "execution_count": 5,
   "metadata": {},
   "outputs": [],
   "source": [
    "def root_objective_function(x:np.ndarray):\n",
    "    res = 0\n",
    "    F_array = objective_function(x)\n",
    "    for f in F_array:\n",
    "        res +=(f)**2\n",
    "    return res\n",
    "\n",
    "# def root_objective_function(x:np.ndarray):\n",
    "#     F_array = objective_function(x)\n",
    "#     denom = 0\n",
    "#     for f in F_array:\n",
    "#         denom += np.abs(f)\n",
    "#     res = 1/(1+denom)\n",
    "#     return -res"
   ]
  },
  {
   "cell_type": "markdown",
   "metadata": {},
   "source": [
    "# RADE Evaluation"
   ]
  },
  {
   "cell_type": "code",
   "execution_count": 6,
   "metadata": {},
   "outputs": [
    {
     "name": "stdout",
     "output_type": "stream",
     "text": [
      "Best Solution: [-3.30616451e-05  6.60529546e-03]\n",
      "Best Fitness: 4.8729658301747634e-15\n",
      "Roots: [array([-2.93455885e+00,  1.53027381e-03]), array([-2.65778354e+00,  6.90933055e-04]), array([-3.30616451e-05,  6.60529546e-03]), array([-0.73800566, -0.85628108]), array([-3.76397090e+00,  2.63502606e-03]), array([-0.94802021, -0.00259507]), array([-6.78497681, -2.60506152]), array([0.53384226, 0.00178291]), array([-4.91336786,  2.21662953]), array([-0.21941763, -0.4682959 ]), array([-1.21246604, -1.10036623]), array([ 1.93977880e+00, -8.25483597e-05]), array([-6.19963254,  2.4891647 ]), array([-0.93756691,  0.96774411]), array([-1.42557175,  1.19317887]), array([-5.69423266, -2.38512215]), array([-2.98099335, -1.72706837]), array([-2.29418118e+00,  6.90933055e-04]), array([-0.07439617, -0.26505024]), array([-2.28264584, -1.50686264]), array([-1.32635081,  0.00486951]), array([-3.11914701,  1.76313314]), array([-5.52362127,  2.35015087]), array([-0.24177348,  0.48948054]), array([7.45812274e+00, 1.27048547e-03]), array([-0.59964588,  0.00099834]), array([-2.1833904 ,  1.47354609]), array([-4.31338350e+00,  2.06867588e-03]), array([ 1.56026463e+00, -8.25483597e-05]), array([-3.46703516, -1.8614024 ]), array([-6.97341779e+00,  1.40100323e-04]), array([5.66477290e+00, 1.51986129e-03]), array([ 6.53762652e+00, -1.25393376e-03]), array([2.47521649e+00, 1.39474571e-03]), array([-0.03307733,  0.16471105]), array([-4.27772209, -2.06783056]), array([5.22361541e+00, 1.51986129e-03]), array([ 6.27381971e+00, -5.06271872e-04]), array([-5.62732013e+00,  1.40100323e-04]), array([4.39642105e+00, 2.79109264e-03]), array([-8.8261352 , -2.97096075]), array([1.10957725, 0.00178291]), array([2.91155889, 0.0033456 ]), array([-8.27103543,  2.87588064]), array([-7.60873094e+00,  2.45258388e-03]), array([-3.9637285 ,  1.98774484]), array([-6.49224357e+00,  1.40100323e-04]), array([-4.96719477e+00, -1.22916681e-03]), array([-4.67003429e+00,  2.21101220e-03]), array([-5.08356311, -2.25351776]), array([6.96796335e+00, 1.71390511e-04]), array([-7.09583001,  2.66178924]), array([-3.50549899,  1.87548091]), array([-7.91766583, -2.81308719]), array([3.90900873e+00, 2.79109264e-03]), array([-1.62903603, -1.27851125]), array([4.93369273e+00, 3.82639789e-03])]\n"
     ]
    }
   ],
   "source": [
    "M_CR = np.ones(Hm)*CR_init\n",
    "M_F = np.ones(Hm)*F_init\n",
    "set_of_roots = []\n",
    "best_solution, best_fitness, set_of_roots = rd.RADE(objective_func=root_objective_function, \n",
    "                                            repulsion_func=partial(rd.repulsion_function, \n",
    "                                                                    archive=set_of_roots,\n",
    "                                                                    objective_func=root_objective_function),\n",
    "                                            archive=set_of_roots,\n",
    "                                            bounds = boundaries, \n",
    "                                            population_size=pop_size, \n",
    "                                            max_generation=max_gen, \n",
    "                                            memories_F=M_F, \n",
    "                                            memories_CR=M_CR,\n",
    "                                            num_l=num_l,\n",
    "                                            theta=theta,\n",
    "                                            tau_d=tau_d,\n",
    "                                            archive_size_max=s_max,\n",
    "                                            print_gen=False)\n",
    "print(\"Best Solution:\", best_solution)\n",
    "print(\"Best Fitness:\", best_fitness)\n",
    "print(f'Roots: {set_of_roots}')"
   ]
  },
  {
   "cell_type": "code",
   "execution_count": 7,
   "metadata": {},
   "outputs": [
    {
     "data": {
      "image/png": "[encoded data removed]",
      "text/plain": [
       "<Figure size 640x480 with 1 Axes>"
      ]
     },
     "metadata": {},
     "output_type": "display_data"
    }
   ],
   "source": [
    "if dim == 2:\n",
    "    set_of_roots = np.array(set_of_roots)\n",
    "    plt.scatter(x=set_of_roots[:,0], y=set_of_roots[:,1],marker='.',c='blue')\n",
    "\n",
    "    # Add labels and a title\n",
    "    plt.xlabel('d')\n",
    "    plt.ylabel('x')\n",
    "    plt.title('Bifurcation Diagram')\n",
    "    plt.xlim(boundaries[0])\n",
    "    plt.ylim(boundaries[1])\n",
    "    plt.gca().set_aspect('equal', adjustable='box')  # Make the aspect ratio equal\n",
    "    # Show the plot\n",
    "    plt.grid(True)\n",
    "    plt.show()\n"
   ]
  }
 ],
 "metadata": {
  "kernelspec": {
   "display_name": ".venv",
   "language": "python",
   "name": "python3"
  },
  "language_info": {
   "codemirror_mode": {
    "name": "ipython",
    "version": 3
   },
   "file_extension": ".py",
   "mimetype": "text/x-python",
   "name": "python",
   "nbconvert_exporter": "python",
   "pygments_lexer": "ipython3",
   "version": "3.11.4"
  }
 },
 "nbformat": 4,
 "nbformat_minor": 2
}
